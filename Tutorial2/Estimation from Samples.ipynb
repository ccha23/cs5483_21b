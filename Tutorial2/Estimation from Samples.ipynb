{
 "cells": [
  {
   "cell_type": "markdown",
   "metadata": {},
   "source": [
    "# Estimation from Samples"
   ]
  },
  {
   "cell_type": "markdown",
   "metadata": {
    "tags": [
     "remove-cell"
    ]
   },
   "source": [
    "**CS5483 Data Warehousing and Data Mining**\n",
    "___"
   ]
  },
  {
   "cell_type": "code",
   "execution_count": null,
   "metadata": {
    "ExecuteTime": {
     "end_time": "2021-01-21T06:39:16.168170Z",
     "start_time": "2021-01-21T06:39:15.891965Z"
    },
    "init_cell": true
   },
   "outputs": [],
   "source": [
    "%reset -f\n",
    "%matplotlib inline\n",
    "import numpy as np\n",
    "import matplotlib.pyplot as plt\n",
    "# set figure size\n",
    "plt.rcParams[\"figure.figsize\"] = (8, 4)\n",
    "# produce vector inline graphics\n",
    "from IPython.display import set_matplotlib_formats\n",
    "set_matplotlib_formats('svg')"
   ]
  },
  {
   "cell_type": "markdown",
   "metadata": {},
   "source": [
    "## Unbiased and Consistent Estimate"
   ]
  },
  {
   "cell_type": "markdown",
   "metadata": {},
   "source": [
    "### Monte-Carlo Simulation"
   ]
  },
  {
   "cell_type": "markdown",
   "metadata": {},
   "source": [
    "We will simulate the process of flipping a possibly biased coin using the module `numpy`, which is often renamed as `np` for convenience.  \n",
    "See the [quickstart.](https://numpy.org/doc/stable/user/quickstart.html)"
   ]
  },
  {
   "cell_type": "code",
   "execution_count": null,
   "metadata": {
    "ExecuteTime": {
     "end_time": "2021-01-19T14:45:55.187657Z",
     "start_time": "2021-01-19T14:45:55.183961Z"
    }
   },
   "outputs": [],
   "source": [
    "import numpy as np\n",
    "rng = np.random.default_rng(seed=0)"
   ]
  },
  {
   "cell_type": "markdown",
   "metadata": {},
   "source": [
    "The above sets a random seed so that the result is reproducible."
   ]
  },
  {
   "cell_type": "markdown",
   "metadata": {},
   "source": [
    "The following chooses the probability $p$ of head. It uniformly randomly pick the value from the unit interval $[0,1)$."
   ]
  },
  {
   "cell_type": "code",
   "execution_count": null,
   "metadata": {
    "ExecuteTime": {
     "end_time": "2021-01-19T14:45:55.198352Z",
     "start_time": "2021-01-19T14:45:55.189132Z"
    }
   },
   "outputs": [],
   "source": [
    "p = rng.random()  # randomly generate the probability of head coming up."
   ]
  },
  {
   "cell_type": "markdown",
   "metadata": {},
   "source": [
    "To generate a sequence of random coin tosses:"
   ]
  },
  {
   "cell_type": "code",
   "execution_count": null,
   "metadata": {
    "ExecuteTime": {
     "end_time": "2021-01-19T14:45:55.209899Z",
     "start_time": "2021-01-19T14:45:55.199814Z"
    }
   },
   "outputs": [],
   "source": [
    "size = 5000\n",
    "coin_tosses = rng.choice(['H', 'T'], size=size, p=[p, 1 - p])\n",
    "coin_tosses"
   ]
  },
  {
   "cell_type": "markdown",
   "metadata": {},
   "source": [
    "The characters `'H'` and `'T'` denotes head and tail respectively."
   ]
  },
  {
   "cell_type": "markdown",
   "metadata": {},
   "source": [
    "### M-Estimation"
   ]
  },
  {
   "cell_type": "markdown",
   "metadata": {},
   "source": [
    "We can estimate $p$ by sample average also called an M-estimate\n",
    "\n",
    "$$\n",
    "\\hat{p} := \\frac1n \\sum_{i=0}^{n-1} z_i,\n",
    "$$\n",
    "\n",
    "where $z_1,\\dots,z_n$ are i.i.d. samples of\n",
    "\n",
    "$$\n",
    "Z := \\begin{cases}\n",
    "1 & \\text{if head comes up}\\\\\n",
    "0 & \\text{if tail comes up.}\n",
    "\\end{cases}\n",
    "$$"
   ]
  },
  {
   "cell_type": "markdown",
   "metadata": {},
   "source": [
    "$\\hat{p}$, also called the empirical probability, is simply the fraction of heads coming up in $n$ coin tosses:"
   ]
  },
  {
   "cell_type": "code",
   "execution_count": null,
   "metadata": {
    "ExecuteTime": {
     "end_time": "2021-01-19T14:45:55.220867Z",
     "start_time": "2021-01-19T14:45:55.211005Z"
    }
   },
   "outputs": [],
   "source": [
    "(coin_tosses == 'H').mean()"
   ]
  },
  {
   "cell_type": "markdown",
   "metadata": {},
   "source": [
    "**Exercise** The following proves that $\\hat{p}$ is an unbiased estimate:\n",
    "\n",
    "$$\n",
    "\\begin{aligned}\n",
    "E[\\hat{p}] &= E\\left[\\frac1n \\sum_{i=0}^{n-1} z_i \\right]\\\\\n",
    "&= \\frac1n \\sum_{i=0}^{n-1} \\underbrace{E[z_i]}_{\\smash{=p}} && \\text{by ___}\\\\\n",
    "&= p.\n",
    "\\end{aligned}\n",
    "$$\n",
    "\n",
    "Fill in the missing reasoning."
   ]
  },
  {
   "cell_type": "markdown",
   "metadata": {
    "deletable": false,
    "nbgrader": {
     "cell_type": "markdown",
     "checksum": "2ca3b7658975f190d06da1524e2fba19",
     "grade": true,
     "grade_id": "linearity",
     "locked": false,
     "points": 1,
     "schema_version": 3,
     "solution": true,
     "task": false
    }
   },
   "source": [
    "YOUR ANSWER HERE"
   ]
  },
  {
   "cell_type": "markdown",
   "metadata": {},
   "source": [
    "**Exercise** The following shows that $\\hat{p}$ is a consistent estimate:\n",
    "\n",
    "$$\n",
    "\\begin{aligned}\\sigma &:=\\sqrt{\\operatorname{Var}[\\hat{p}]}\\\\\n",
    "&= \\sqrt{\\operatorname{Var}\\left[\\frac1{n} \\sum_{i=1}^n z_i\\right]}\\\\\n",
    "&= \\sqrt{\\frac1{n^2} \\operatorname{Var}\\left[\\sum_{i=1}^n z_i\\right]}\\\\\n",
    "&=\\sqrt{\\frac1{n^2} \\sum_{i=1}^n \\underbrace{\\operatorname{Var}[z_i]}_{\\smash{=p(1-p)}}} && \\text{by ___}\\\\\n",
    "&=\\sqrt{\\frac{p(1-p)}{n}}, \\end{aligned}\n",
    "$$\n",
    "\n",
    "which goes to $0$ as $n$ goes to $\\infty$.\n",
    "\n",
    "Fill in the missing reasoning."
   ]
  },
  {
   "cell_type": "markdown",
   "metadata": {
    "deletable": false,
    "nbgrader": {
     "cell_type": "markdown",
     "checksum": "d655a8850dcdfbc8e9f8d0fffa537d54",
     "grade": true,
     "grade_id": "indep",
     "locked": false,
     "points": 1,
     "schema_version": 3,
     "solution": true,
     "task": false
    }
   },
   "source": [
    "YOUR ANSWER HERE"
   ]
  },
  {
   "cell_type": "markdown",
   "metadata": {},
   "source": [
    "By the [Central Limit Theorem](https://en.wikipedia.org/wiki/Central_limit_theorem) as $n$ goes to $\\infty$, the estimate has a gaussian distribution:\n",
    "\n",
    "<a title=\"M. W. Toews, CC BY 2.5 &lt;https://creativecommons.org/licenses/by/2.5&gt;, via Wikimedia Commons\" href=\"https://commons.wikimedia.org/wiki/File:Standard_deviation_diagram.svg\"><img alt=\"Standard deviation diagram\" src=\"https://upload.wikimedia.org/wikipedia/commons/8/8c/Standard_deviation_diagram.svg\"></a>\n",
    "\n",
    "Over $95\\%$ of the time, the estimator falls within $2$ standard deviation away from the ground truth, i.e.,\n",
    "\n",
    "$$\n",
    "\\Pr(\\hat{p}\\in [p-2\\sigma, p+2\\sigma]) \\geq 0.95\n",
    "$$"
   ]
  },
  {
   "cell_type": "markdown",
   "metadata": {},
   "source": [
    "To illustrate the above qualities of the estimator by plotting the estimate $\\hat{p}$ for different sample size $n$."
   ]
  },
  {
   "cell_type": "code",
   "execution_count": null,
   "metadata": {
    "ExecuteTime": {
     "end_time": "2021-01-19T14:45:55.230464Z",
     "start_time": "2021-01-19T14:45:55.222611Z"
    }
   },
   "outputs": [],
   "source": [
    "n = np.arange(1, size + 1)\n",
    "phat = (coin_tosses == 'H').cumsum() / n  # use first n tosses to estimate\n",
    "sigma = (p * (1 - p) / n)**0.5  # standard deviations of the estimates"
   ]
  },
  {
   "cell_type": "markdown",
   "metadata": {},
   "source": [
    "A powerful module for plotting graphs is `matplotlib.pyplot`, which is often renamed to `plt` for convenience.  \n",
    "See the [quickstart.](https://matplotlib.org/tutorials/introductory/pyplot.html)"
   ]
  },
  {
   "cell_type": "code",
   "execution_count": null,
   "metadata": {
    "ExecuteTime": {
     "end_time": "2021-01-19T14:45:55.241884Z",
     "start_time": "2021-01-19T14:45:55.231626Z"
    }
   },
   "outputs": [],
   "source": [
    "%matplotlib inline\n",
    "import matplotlib.pyplot as plt\n",
    "# set figure size\n",
    "plt.rcParams[\"figure.figsize\"] = (8, 4)\n",
    "# produce vector inline graphics\n",
    "from IPython.display import set_matplotlib_formats\n",
    "set_matplotlib_formats('svg')"
   ]
  },
  {
   "cell_type": "markdown",
   "metadata": {},
   "source": [
    "We have additionally set the plots to use vector formats so they have unlimited resolution."
   ]
  },
  {
   "cell_type": "code",
   "execution_count": null,
   "metadata": {
    "ExecuteTime": {
     "end_time": "2021-01-19T14:45:55.568973Z",
     "start_time": "2021-01-19T14:45:55.244502Z"
    }
   },
   "outputs": [],
   "source": [
    "f, ax = plt.subplots()  # create the figure and axes\n",
    "\n",
    "# plot the ground truth p\n",
    "ax.axhline(p, color='red')\n",
    "\n",
    "# fill the region 2 sigma away from p\n",
    "ax.fill_between(n,\n",
    "                p - 2 * sigma,\n",
    "                p + 2 * sigma,\n",
    "                color='red',\n",
    "                alpha=0.2,\n",
    "                label=r'$p\\pm 2\\sigma$')\n",
    "\n",
    "# plot the estimates phat\n",
    "ax.plot(n, phat, marker='.', color='blue', linestyle='', markersize=1)\n",
    "\n",
    "# configure the plot\n",
    "ax.set_ylim([0, 1])\n",
    "ax.set_xlim([0, n.size])\n",
    "ax.set_title(r'Plot of $\\hat{p}$ vs sample size')\n",
    "ax.set_xlabel('sample size')\n",
    "ax.set_ylabel('probability')\n",
    "ax.legend()\n",
    "f.show()"
   ]
  },
  {
   "cell_type": "markdown",
   "metadata": {},
   "source": [
    "### Coin-tossing game"
   ]
  },
  {
   "cell_type": "markdown",
   "metadata": {},
   "source": [
    "Imagine playing the following coin-tossing game:\n",
    "\n",
    "- You win if a coin toss comes up head.\n",
    "- You get to choose 1 out of the 2 coins $i\\in \\{0,1\\}$ with unknown probability $p_i$ of coming up head.\n",
    "- You can flip each coin $n$ times before making the choice."
   ]
  },
  {
   "cell_type": "markdown",
   "metadata": {},
   "source": [
    "A particular strategy to play the game is to \n",
    "1. estimate the chance $p_i$ of winning by the empirical probability $\\hat{p}_i$ for each coin $i\\in \\{0,1\\}$, and\n",
    "1. select the coin with larger $\\hat{p}_i$ to toss."
   ]
  },
  {
   "cell_type": "markdown",
   "metadata": {},
   "source": [
    "**Exercise** With the above strategy:\n",
    "1. Is the chance of winning $</=/> \\max_i p_i$?\n",
    "2. Is the chance of winning $</=/> E[\\max_i \\hat{p}_i]$?\n",
    "3. Is the strategy the optimal winning strategy?"
   ]
  },
  {
   "cell_type": "markdown",
   "metadata": {
    "deletable": false,
    "nbgrader": {
     "cell_type": "markdown",
     "checksum": "b558eb3227f824d2b5720669935871d9",
     "grade": true,
     "grade_id": "game",
     "locked": false,
     "points": 1,
     "schema_version": 3,
     "solution": true,
     "task": false
    }
   },
   "source": [
    "YOUR ANSWER HERE"
   ]
  },
  {
   "cell_type": "markdown",
   "metadata": {},
   "source": [
    "### Simulate the strategy"
   ]
  },
  {
   "cell_type": "markdown",
   "metadata": {},
   "source": [
    "You can check some of your answers by simulating the strategy."
   ]
  },
  {
   "cell_type": "markdown",
   "metadata": {},
   "source": [
    "First create a list of probabilities of head for `m=2` coins. We will set the probability to 0.5, but you can rerun the notebook later with other choices probabilities. You can also increase `m`."
   ]
  },
  {
   "cell_type": "code",
   "execution_count": null,
   "metadata": {
    "ExecuteTime": {
     "end_time": "2021-01-19T14:45:55.574842Z",
     "start_time": "2021-01-19T14:45:55.570644Z"
    }
   },
   "outputs": [],
   "source": [
    "m = 2\n",
    "p = np.ones(m, dtype=float) * 0.5\n",
    "# To generate the probability randomly instead, use\n",
    "# p = rng.random(m)\n",
    "p.shape"
   ]
  },
  {
   "cell_type": "markdown",
   "metadata": {},
   "source": [
    "Instead of generating a sequence of coin toss, we will simulate $\\hat{p}_i$ directly using the binomial distribution as $n\\hat{p}_i\\sim \\operatorname{Binomial}(n,p_i)$"
   ]
  },
  {
   "cell_type": "code",
   "execution_count": null,
   "metadata": {
    "ExecuteTime": {
     "end_time": "2021-01-19T14:45:56.373546Z",
     "start_time": "2021-01-19T14:45:55.576250Z"
    }
   },
   "outputs": [],
   "source": [
    "size = 5000\n",
    "n = np.arange(1,size+1)\n",
    "k = 1000\n",
    "phat = rng.binomial(n[:,None,None],p[None,:,None],(size,m,k)) / n[:,None,None]\n",
    "max_phat = phat.max(axis=1)\n",
    "max_phat.shape"
   ]
  },
  {
   "cell_type": "markdown",
   "metadata": {},
   "source": [
    "`max_phat` is a 2-dimensional array samples of $\\max_{i}\\hat{p}_i$:\n",
    "- The first axis indexes samples obtained from different number of tosses.\n",
    "- The second axis indexes `k` independent samples for the same number of tosses.\n",
    "\n",
    "The `k` independent samples can be used to give estimates of $E[\\max_{i}\\hat{p}_i]$ as follows."
   ]
  },
  {
   "cell_type": "code",
   "execution_count": null,
   "metadata": {
    "ExecuteTime": {
     "end_time": "2021-01-19T14:45:56.666174Z",
     "start_time": "2021-01-19T14:45:56.375427Z"
    },
    "colab": {
     "base_uri": "https://localhost:8080/",
     "height": 726
    },
    "colab_type": "code",
    "id": "eEpEkzHe_Nri",
    "outputId": "e54a77b2-d0e3-4f85-ed8d-8743de445ddb"
   },
   "outputs": [],
   "source": [
    "# plot the maximum of the probability estimates of each coin\n",
    "plt.plot(n,max_phat.mean(axis=-1), linestyle='',marker='.',color='blue',markersize=1)\n",
    "\n",
    "# plot the maximum of true probabilities of head\n",
    "plt.axhline(p.max(),color='red',label=r'$\\max_i p_i$')\n",
    "\n",
    "plt.ylim([0,1])\n",
    "plt.xlim([n[0],n[-1]])\n",
    "plt.title(r'Plot of $E[\\max_i\\hat{p}_i]$ vs sample size')\n",
    "plt.xlabel('sample size')\n",
    "plt.ylabel('probability')\n",
    "plt.legend()\n",
    "plt.show()"
   ]
  },
  {
   "cell_type": "markdown",
   "metadata": {},
   "source": [
    "**Exercise** From the above plot: \n",
    "1. How to see whether $\\max_{i}\\hat{p}_i$ is an overly-optimistic estimate of the chance of winning from the above plot? \n",
    "2. If the blue curve converge to the red curve as the sample size increases, does it necessarily mean that the estimate is consistent?"
   ]
  },
  {
   "cell_type": "markdown",
   "metadata": {
    "deletable": false,
    "nbgrader": {
     "cell_type": "markdown",
     "checksum": "336aded134c9923168791d9525d47565",
     "grade": true,
     "grade_id": "bias",
     "locked": false,
     "points": 1,
     "schema_version": 3,
     "solution": true,
     "task": false
    }
   },
   "source": [
    "YOUR ANSWER HERE"
   ]
  }
 ],
 "metadata": {
  "kernelspec": {
   "display_name": "Python 3.7",
   "language": "python",
   "name": "python3"
  },
  "language_info": {
   "codemirror_mode": {
    "name": "ipython",
    "version": 3
   },
   "file_extension": ".py",
   "mimetype": "text/x-python",
   "name": "python",
   "nbconvert_exporter": "python",
   "pygments_lexer": "ipython3",
   "version": "3.7.9"
  },
  "toc": {
   "base_numbering": 1,
   "nav_menu": {},
   "number_sections": true,
   "sideBar": true,
   "skip_h1_title": true,
   "title_cell": "Table of Contents",
   "title_sidebar": "Contents",
   "toc_cell": false,
   "toc_position": {},
   "toc_section_display": true,
   "toc_window_display": false
  }
 },
 "nbformat": 4,
 "nbformat_minor": 4
}
