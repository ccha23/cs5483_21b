{
 "cells": [
  {
   "cell_type": "markdown",
   "metadata": {
    "slideshow": {
     "slide_type": "slide"
    }
   },
   "source": [
    "# Data Files"
   ]
  },
  {
   "cell_type": "markdown",
   "metadata": {
    "slideshow": {
     "slide_type": "-"
    },
    "tags": [
     "remove-cell"
    ]
   },
   "source": [
    "**CS5483 Data Warehousing and Data Mining**\n",
    "___"
   ]
  },
  {
   "cell_type": "code",
   "execution_count": 1,
   "metadata": {
    "ExecuteTime": {
     "end_time": "2021-01-12T08:35:54.806034Z",
     "start_time": "2021-01-12T08:35:54.767906Z"
    },
    "slideshow": {
     "slide_type": "subslide"
    }
   },
   "outputs": [],
   "source": [
    "%reset -f\n",
    "from IPython import display"
   ]
  },
  {
   "cell_type": "markdown",
   "metadata": {
    "slideshow": {
     "slide_type": "slide"
    }
   },
   "source": [
    "## Load data into Weka Explorer Interface"
   ]
  },
  {
   "cell_type": "markdown",
   "metadata": {
    "slideshow": {
     "slide_type": "fragment"
    }
   },
   "source": [
    "Use Weka to do [\\[Witten11\\] Exercises 17.1.1 and 17.1.2.][Witten11].  \n",
    "\n",
    "- For the computers in CSC teaching studios (e.g., LI 4412), you can start Weka as follows: \n",
    "  1. Click the shortcut `Work Desk` from desktop.\n",
    "  1. Click the link `Weka 3.8.x` for CS Department.\n",
    "  1. Load the dataset from  \n",
    "  `C:\\Program Files\\Weka-3-8\\data\\`.\n",
    "  \n",
    "[Witten11]: https://ebookcentral.proquest.com/lib/cityuhk/reader.action?docID=634862&ppg=595"
   ]
  },
  {
   "cell_type": "code",
   "execution_count": 2,
   "metadata": {
    "ExecuteTime": {
     "end_time": "2021-01-12T08:35:59.193878Z",
     "start_time": "2021-01-12T08:35:59.178442Z"
    },
    "code_folding": [
     0
    ],
    "slideshow": {
     "slide_type": "fragment"
    },
    "tags": [
     "hide-input"
    ]
   },
   "outputs": [
    {
     "data": {
      "text/html": [
       "\n",
       "        <iframe\n",
       "            width=\"800\"\n",
       "            height=\"450\"\n",
       "            src=\"https://cityuhk-lms.ap.panopto.com/Panopto/Pages/Embed.aspx?id=72c2a358-a136-42dc-82ce-acae0038f93e&autoplay=false&offerviewer=true&showtitle=true&showbrand=false&start=0&interactivity=all\"\n",
       "            frameborder=\"0\"\n",
       "            allowfullscreen\n",
       "        ></iframe>\n",
       "        "
      ],
      "text/plain": [
       "<IPython.lib.display.IFrame at 0x7efcab5884d0>"
      ]
     },
     "execution_count": 2,
     "metadata": {},
     "output_type": "execute_result"
    }
   ],
   "source": [
    "# video\n",
    "display.IFrame(src=\"https://cityuhk-lms.ap.panopto.com/Panopto/Pages/Embed.aspx?id=72c2a358-a136-42dc-82ce-acae0038f93e&autoplay=false&offerviewer=true&showtitle=true&showbrand=false&start=0&interactivity=all\", height=450, width=800)"
   ]
  },
  {
   "cell_type": "markdown",
   "metadata": {
    "slideshow": {
     "slide_type": "subslide"
    }
   },
   "source": [
    "- For the computers in CS labs (e.g., MMW 2450), you can start Weka as follows: \n",
    "  1. Execute `G:\\weka\\3.8\\run.bat`,\n",
    "  1. Click the `Explorer` button, and\n",
    "  1. Load the dataset from  \n",
    "  `C:\\temp\\Weka-3.8\\data` or `G:\\weka\\3.8\\files\\data`. \n",
    "- If you are using your own computers:\n",
    "  1. Download and install Weka from [here][Weka], and\n",
    "  1. obtain the data files from  \n",
    "    1. the subfolder `data` of your Weka installation path, or\n",
    "    1. download from [here][WekaData].  \n",
    "  \n",
    "[WekaData]: https://github.com/Waikato/weka-3.8/tree/master/wekadocs/data\n",
    "[Weka]: https://waikato.github.io/weka-wiki/downloading_weka/"
   ]
  },
  {
   "cell_type": "markdown",
   "metadata": {
    "slideshow": {
     "slide_type": "subslide"
    }
   },
   "source": [
    "**Ex 17.1.1** \n",
    "What are the values that the attribute temperature can have?"
   ]
  },
  {
   "cell_type": "markdown",
   "metadata": {
    "deletable": false,
    "nbgrader": {
     "cell_type": "markdown",
     "checksum": "044d0e4981c4118fb68187997ce84cff",
     "grade": true,
     "grade_id": "Witten11-17-1-1",
     "locked": false,
     "points": 1,
     "schema_version": 3,
     "solution": true,
     "task": false
    },
    "slideshow": {
     "slide_type": "-"
    }
   },
   "source": [
    "YOUR ANSWER HERE"
   ]
  },
  {
   "cell_type": "markdown",
   "metadata": {
    "slideshow": {
     "slide_type": "subslide"
    }
   },
   "source": [
    "**Ex 17.1.4** \n",
    "1. How many instances does this dataset have? \n",
    "1. How many attributes?\n",
    "1. What is the range of possible values of the attribute petallength?"
   ]
  },
  {
   "cell_type": "markdown",
   "metadata": {
    "deletable": false,
    "nbgrader": {
     "cell_type": "markdown",
     "checksum": "cd6d4b1b64c36b50eb5ad2b195cff2de",
     "grade": true,
     "grade_id": "Witten11-17-1-4",
     "locked": false,
     "points": 1,
     "schema_version": 3,
     "solution": true,
     "task": false
    },
    "slideshow": {
     "slide_type": "-"
    }
   },
   "source": [
    "YOUR ANSWER HERE"
   ]
  },
  {
   "cell_type": "markdown",
   "metadata": {
    "slideshow": {
     "slide_type": "slide"
    }
   },
   "source": [
    "## Create an ARFF file"
   ]
  },
  {
   "cell_type": "markdown",
   "metadata": {
    "slideshow": {
     "slide_type": "fragment"
    }
   },
   "source": [
    "Create an ARFF file named `AND.arff` in the current directory for the AND gate $Y=X_1\\cdot X_2$. Use `0` and `1` to represent `False` and `True` respectively.\n",
    "\n",
    "[*See the [documentation](https://waikato.github.io/weka-wiki/formats_and_processing/arff_stable/) for the ARFF file format, or take a look at some of the ARFF files in the WEKA data folder as examples.*]"
   ]
  },
  {
   "cell_type": "markdown",
   "metadata": {
    "slideshow": {
     "slide_type": "fragment"
    }
   },
   "source": [
    "*Hint:* To generate the file from this notebook directly:\n",
    "1. Copy the solution template below to the following solution cell.\n",
    "1. Replace each underscore `_` by an appropriate value.\n",
    "1. Execute the code cell.\n",
    "\n",
    "```Python\n",
    "content = '''\n",
    "@RELATION AND\n",
    "@ATTRIBUTE X1 {0, 1}\n",
    "@ATTRIBUTE X2 {_, _}\n",
    "@ATTRIBUTE Y {_, _}\n",
    "@DATA\n",
    "_, _, _\n",
    "_, _, _\n",
    "_, _, _\n",
    "_, _, _\n",
    "'''\n",
    "```"
   ]
  },
  {
   "cell_type": "code",
   "execution_count": null,
   "metadata": {
    "ExecuteTime": {
     "end_time": "2021-01-12T06:55:39.700761Z",
     "start_time": "2021-01-12T06:55:39.693168Z"
    },
    "deletable": false,
    "nbgrader": {
     "cell_type": "code",
     "checksum": "535d1cc46408eaa3ccdaf284d16039fb",
     "grade": false,
     "grade_id": "AND",
     "locked": false,
     "schema_version": 3,
     "solution": true,
     "task": false
    },
    "slideshow": {
     "slide_type": "-"
    }
   },
   "outputs": [],
   "source": [
    "# YOUR CODE HERE\n",
    "raise NotImplementedError()\n",
    "\n",
    "# write the content of text to the file\n",
    "try: content\n",
    "except NameError: \n",
    "    print(\"AND.arff not generated because `content` is undefined.\")\n",
    "else:\n",
    "    filename = 'AND.arff'\n",
    "    with open(filename,'w') as f:\n",
    "        f.write(content)\n",
    "    print(\"AND.arff generated.\")"
   ]
  },
  {
   "cell_type": "markdown",
   "metadata": {
    "slideshow": {
     "slide_type": "subslide"
    }
   },
   "source": [
    "Alternatively, you may use other JupyterHub interfaces to create and edit AND.arff in the this tutorial folder:"
   ]
  },
  {
   "cell_type": "code",
   "execution_count": 3,
   "metadata": {
    "ExecuteTime": {
     "end_time": "2021-01-12T08:36:04.931513Z",
     "start_time": "2021-01-12T08:36:04.916914Z"
    },
    "slideshow": {
     "slide_type": "-"
    },
    "tags": [
     "hide-input"
    ]
   },
   "outputs": [
    {
     "data": {
      "text/html": [
       "\n",
       "        <iframe\n",
       "            width=\"800\"\n",
       "            height=\"450\"\n",
       "            src=\"https://cityuhk-lms.ap.panopto.com/Panopto/Pages/Embed.aspx?id=db141da7-baf6-47d2-9015-acae003ec8d7&autoplay=false&offerviewer=true&showtitle=true&showbrand=false&start=0&interactivity=all\"\n",
       "            frameborder=\"0\"\n",
       "            allowfullscreen\n",
       "        ></iframe>\n",
       "        "
      ],
      "text/plain": [
       "<IPython.lib.display.IFrame at 0x7efca8485cd0>"
      ]
     },
     "execution_count": 3,
     "metadata": {},
     "output_type": "execute_result"
    }
   ],
   "source": [
    "display.IFrame(src=\"https://cityuhk-lms.ap.panopto.com/Panopto/Pages/Embed.aspx?id=db141da7-baf6-47d2-9015-acae003ec8d7&autoplay=false&offerviewer=true&showtitle=true&showbrand=false&start=0&interactivity=all\",height=450,width=800)"
   ]
  },
  {
   "cell_type": "markdown",
   "metadata": {
    "slideshow": {
     "slide_type": "subslide"
    }
   },
   "source": [
    "Run the following test cell to see if your file is a valid ARFF file. You may also download and load the ARFF file into WEKA to see if there is any syntax error."
   ]
  },
  {
   "cell_type": "code",
   "execution_count": null,
   "metadata": {
    "ExecuteTime": {
     "end_time": "2021-01-12T06:55:40.510123Z",
     "start_time": "2021-01-12T06:55:40.492257Z"
    },
    "deletable": false,
    "editable": false,
    "nbgrader": {
     "cell_type": "code",
     "checksum": "e6bb41246645b02ee6e9e488750b95dd",
     "grade": true,
     "grade_id": "test-AND",
     "locked": true,
     "points": 1,
     "schema_version": 3,
     "solution": false,
     "task": false
    },
    "slideshow": {
     "slide_type": "-"
    }
   },
   "outputs": [],
   "source": [
    "# tests\n",
    "print('Content of AND.arff:')\n",
    "with open(filename) as f:\n",
    "    print(f.read())\n",
    "\n",
    "from scipy.io import arff\n",
    "import pandas as pd\n",
    "\n",
    "d = arff.loadarff(filename)\n",
    "df = pd.DataFrame(d[0]).astype(int)\n",
    "df.head()"
   ]
  }
 ],
 "metadata": {
  "kernelspec": {
   "display_name": "Python 3.7",
   "language": "python",
   "name": "python3"
  },
  "language_info": {
   "codemirror_mode": {
    "name": "ipython",
    "version": 3
   },
   "file_extension": ".py",
   "mimetype": "text/x-python",
   "name": "python",
   "nbconvert_exporter": "python",
   "pygments_lexer": "ipython3",
   "version": "3.7.9"
  },
  "rise": {
   "enable_chalkboard": true,
   "scroll": true,
   "theme": "white"
  },
  "toc": {
   "base_numbering": 1,
   "nav_menu": {},
   "number_sections": true,
   "sideBar": true,
   "skip_h1_title": true,
   "title_cell": "Table of Contents",
   "title_sidebar": "Contents",
   "toc_cell": false,
   "toc_position": {},
   "toc_section_display": true,
   "toc_window_display": false
  }
 },
 "nbformat": 4,
 "nbformat_minor": 4
}
