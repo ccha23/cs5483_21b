{
 "cells": [
  {
   "cell_type": "markdown",
   "metadata": {
    "slideshow": {
     "slide_type": "slide"
    }
   },
   "source": [
    "# Data Files"
   ]
  },
  {
   "cell_type": "markdown",
   "metadata": {
    "slideshow": {
     "slide_type": "-"
    },
    "tags": [
     "remove-cell"
    ]
   },
   "source": [
    "**CS5483 Data Warehousing and Data Mining**\n",
    "___"
   ]
  },
  {
   "cell_type": "markdown",
   "metadata": {
    "slideshow": {
     "slide_type": "slide"
    }
   },
   "source": [
    "## Load data into Weka Explorer Interface"
   ]
  },
  {
   "cell_type": "markdown",
   "metadata": {},
   "source": [
    "Use Weka to do [\\[Witten11\\] Exercises 17.1.1 and 17.1.2.][Witten11].  \n",
    "\n",
    "- For computers in the lab, you can start Weka by \n",
    "  1. executing `G:\\weka\\3.8\\run.bat`, and \n",
    "  1. load the dataset from  \n",
    "  `C:\\temp\\Weka-3.8\\data` or `G:\\weka\\3.8\\files\\data`. \n",
    "- If you are using your own computers, the dataset is in the `data` subfolder of your Weka installation path.\n",
    "- If you cannot find the dataset, you may download from  \n",
    "<https://github.com/Waikato/weka-3.8/tree/master/wekadocs/data>\n",
    "\n",
    "[Witten11]: https://ebookcentral.proquest.com/lib/cityuhk/reader.action?docID=634862&ppg=595"
   ]
  },
  {
   "cell_type": "markdown",
   "metadata": {},
   "source": [
    "**Ex 17.1.1** \n",
    "What are the values that the attribute temperature can have?"
   ]
  },
  {
   "cell_type": "markdown",
   "metadata": {
    "deletable": false,
    "nbgrader": {
     "cell_type": "markdown",
     "checksum": "044d0e4981c4118fb68187997ce84cff",
     "grade": true,
     "grade_id": "Witten11-17-1-1",
     "locked": false,
     "points": 1,
     "schema_version": 3,
     "solution": true,
     "task": false
    }
   },
   "source": [
    "YOUR ANSWER HERE"
   ]
  },
  {
   "cell_type": "markdown",
   "metadata": {},
   "source": [
    "**Ex 17.1.4** \n",
    "1. How many instances does this dataset have? \n",
    "1. How many attributes?\n",
    "1. What is the range of possible values of the attribute petallength?"
   ]
  },
  {
   "cell_type": "markdown",
   "metadata": {
    "deletable": false,
    "nbgrader": {
     "cell_type": "markdown",
     "checksum": "cd6d4b1b64c36b50eb5ad2b195cff2de",
     "grade": true,
     "grade_id": "Witten11-17-1-4",
     "locked": false,
     "points": 1,
     "schema_version": 3,
     "solution": true,
     "task": false
    }
   },
   "source": [
    "YOUR ANSWER HERE"
   ]
  },
  {
   "cell_type": "markdown",
   "metadata": {
    "slideshow": {
     "slide_type": "slide"
    }
   },
   "source": [
    "## Create an ARFF file"
   ]
  },
  {
   "cell_type": "markdown",
   "metadata": {},
   "source": [
    "Create an ARFF file named `AND.arff` in the current directory for the AND gate $Y=X_1\\cdot X_2$. Use `0` and `1` to represent `False` and `True` respectively.\n",
    "\n",
    "[*See the [documentation](https://waikato.github.io/weka-wiki/formats_and_processing/arff_stable/) for the ARFF file format, or take a look at some of the ARFF files in the WEKA data folder as examples.*]"
   ]
  },
  {
   "cell_type": "markdown",
   "metadata": {},
   "source": [
    "*Hint:* To generate the file from this notebook directly:\n",
    "1. Copy the solution template below to the following solution cell.\n",
    "1. Replace each underscore `_` by an appropriate value.\n",
    "1. Execute the code cell.\n",
    "\n",
    "```Python\n",
    "content = '''\n",
    "@RELATION AND\n",
    "@ATTRIBUTE X1 {0, 1}\n",
    "@ATTRIBUTE X2 {_, _}\n",
    "@ATTRIBUTE Y {_, _}\n",
    "@DATA\n",
    "_, _, _\n",
    "_, _, _\n",
    "_, _, _\n",
    "_, _, _\n",
    "'''\n",
    "```"
   ]
  },
  {
   "cell_type": "code",
   "execution_count": null,
   "metadata": {
    "ExecuteTime": {
     "end_time": "2021-01-07T12:21:41.736077Z",
     "start_time": "2021-01-07T12:21:41.730500Z"
    },
    "deletable": false,
    "nbgrader": {
     "cell_type": "code",
     "checksum": "535d1cc46408eaa3ccdaf284d16039fb",
     "grade": false,
     "grade_id": "AND",
     "locked": false,
     "schema_version": 3,
     "solution": true,
     "task": false
    }
   },
   "outputs": [],
   "source": [
    "# YOUR CODE HERE\n",
    "raise NotImplementedError()\n",
    "\n",
    "# write the content of text to the file\n",
    "try: content\n",
    "except NameError: \n",
    "    print(\"AND.arff not generated because `content` is undefined.\")\n",
    "else:\n",
    "    filename = 'AND.arff'\n",
    "    with open(filename,'w') as f:\n",
    "        f.write(content)\n",
    "    print(\"AND.arff generated.\")"
   ]
  },
  {
   "cell_type": "markdown",
   "metadata": {},
   "source": [
    "Run the following test cell to see if your file is a valid ARFF file. You may also download and load the ARFF file into WEKA to see if there is any syntax error."
   ]
  },
  {
   "cell_type": "code",
   "execution_count": null,
   "metadata": {
    "ExecuteTime": {
     "end_time": "2021-01-07T12:22:06.965009Z",
     "start_time": "2021-01-07T12:22:06.945901Z"
    },
    "deletable": false,
    "editable": false,
    "nbgrader": {
     "cell_type": "code",
     "checksum": "d15795e2eea0e0242743ff5496981aa4",
     "grade": true,
     "grade_id": "test-AND",
     "locked": true,
     "points": 1,
     "schema_version": 3,
     "solution": false,
     "task": false
    }
   },
   "outputs": [],
   "source": [
    "# tests\n",
    "from scipy.io import arff\n",
    "import pandas as pd\n",
    "\n",
    "d = arff.loadarff(filename)\n",
    "df = pd.DataFrame(d[0]).astype(int)\n",
    "df.head()"
   ]
  }
 ],
 "metadata": {
  "kernelspec": {
   "display_name": "Python 3.7",
   "language": "python",
   "name": "python3"
  },
  "language_info": {
   "codemirror_mode": {
    "name": "ipython",
    "version": 3
   },
   "file_extension": ".py",
   "mimetype": "text/x-python",
   "name": "python",
   "nbconvert_exporter": "python",
   "pygments_lexer": "ipython3",
   "version": "3.7.9"
  },
  "rise": {
   "enable_chalkboard": true,
   "scroll": true,
   "theme": "white"
  },
  "toc": {
   "base_numbering": 1,
   "nav_menu": {},
   "number_sections": true,
   "sideBar": true,
   "skip_h1_title": true,
   "title_cell": "Table of Contents",
   "title_sidebar": "Contents",
   "toc_cell": false,
   "toc_position": {},
   "toc_section_display": true,
   "toc_window_display": false
  }
 },
 "nbformat": 4,
 "nbformat_minor": 4
}
