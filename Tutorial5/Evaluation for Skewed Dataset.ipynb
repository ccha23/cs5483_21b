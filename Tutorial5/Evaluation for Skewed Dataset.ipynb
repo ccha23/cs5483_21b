{
 "cells": [
  {
   "cell_type": "markdown",
   "metadata": {
    "slideshow": {
     "slide_type": "slide"
    }
   },
   "source": [
    "# Evaluation for Skewed Dataset"
   ]
  },
  {
   "cell_type": "markdown",
   "metadata": {
    "slideshow": {
     "slide_type": "-"
    },
    "tags": [
     "remove-cell"
    ]
   },
   "source": [
    "**CS5483 Data Warehousing and Data Mining**\n",
    "___"
   ]
  },
  {
   "cell_type": "code",
   "execution_count": 1,
   "metadata": {
    "ExecuteTime": {
     "end_time": "2021-02-10T09:52:56.915543Z",
     "start_time": "2021-02-10T09:52:56.354122Z"
    },
    "init_cell": true,
    "slideshow": {
     "slide_type": "subslide"
    }
   },
   "outputs": [],
   "source": [
    "%reset -f\n",
    "from IPython import display\n",
    "import numpy as np\n",
    "import pandas as pd\n",
    "import matplotlib.pyplot as plt\n",
    "# produce vector inline graphics\n",
    "from IPython.display import set_matplotlib_formats\n",
    "set_matplotlib_formats('svg')\n",
    "from weka.core import dataset\n",
    "import weka.core.jvm as jvm\n",
    "from weka.core.converters import Loader\n",
    "from weka.classifiers import Classifier, Evaluation\n",
    "from weka.core.classes import Random\n",
    "from weka.core.classes import complete_classname"
   ]
  },
  {
   "cell_type": "markdown",
   "metadata": {},
   "source": [
    "## Class imbalance problem"
   ]
  },
  {
   "cell_type": "markdown",
   "metadata": {},
   "source": [
    "In this notebook, we will analyze a skewed dataset for detecting microcalcifications in mammograms. The goal is to build a classifier to identify whether a bright spot in a mammogram is a micro-calcification, which is an early sign of breast cancer as shown below."
   ]
  },
  {
   "cell_type": "markdown",
   "metadata": {},
   "source": [
    "<a title=\"Bakerstmd, CC BY-SA 4.0 &lt;https://creativecommons.org/licenses/by-sa/4.0&gt;, via Wikimedia Commons\" href=\"https://commons.wikimedia.org/wiki/File:Mammo_breast_cancer_wArrows.jpg\"><img width=\"70%\" alt=\"Mammo breast cancer wArrows\" src=\"https://upload.wikimedia.org/wikipedia/commons/e/e7/Mammo_breast_cancer_wArrows.jpg\"></a>"
   ]
  },
  {
   "cell_type": "markdown",
   "metadata": {},
   "source": [
    "The dataset can be downloaded from\n",
    "[OpenML](https://www.openml.org/d/310) in [ARFF format](https://www.openml.org/data/download/52214/phpn1jVwe). The following loads the data using `python-weka-wrapper`."
   ]
  },
  {
   "cell_type": "code",
   "execution_count": null,
   "metadata": {
    "ExecuteTime": {
     "end_time": "2021-02-06T07:56:23.955896Z",
     "start_time": "2021-02-06T07:56:21.143964Z"
    }
   },
   "outputs": [],
   "source": [
    "jvm.start() \n",
    "loader = Loader(classname=\"weka.core.converters.ArffLoader\")\n",
    "data = loader.load_url('https://www.openml.org/data/download/52214/phpn1jVwe')\n",
    "data.class_is_last()\n",
    "print(data.summary(data))"
   ]
  },
  {
   "cell_type": "markdown",
   "metadata": {
    "ExecuteTime": {
     "end_time": "2021-02-05T05:05:27.408152Z",
     "start_time": "2021-02-05T05:05:27.403866Z"
    }
   },
   "source": [
    "There are 7 attributes and over 11 thousand instances. To understand the dataset, refer to Section 4 of the original paper:\n",
    "\n",
    "- Woods, Kevin S., et al. \"Comparative evaluation of pattern recognition techniques for detection of microcalcifications.\" Biomedical Image Processing and Biomedical Visualization. Vol. 1905. International Society for Optics and Photonics, 1993. [(Available via CityU VPN.)](https://www.worldscientific.com/doi/abs/10.1142/9789812797834_0011)"
   ]
  },
  {
   "cell_type": "markdown",
   "metadata": {},
   "source": [
    "A set of 24 mammograms were segmented to locate small bright spots, which are the candidates for the classification of malignant clusters of micro-calcifications. The classification problem is based on attributes of the image segments:\n",
    "\n",
    "- Area (number of pixels)\n",
    "- Average grey level\n",
    "- Gradient strength (of perimeter pixels)\n",
    "- Root mean square noise (fluctuation of the pixel values)\n",
    "- Root mean square noise of local background\n",
    "- Contrast (average grey level minus average of a 2-pixel wide border)\n",
    "- (Low order moment-based) Shape descriptor"
   ]
  },
  {
   "cell_type": "markdown",
   "metadata": {},
   "source": [
    "To compute the 10-fold cross-validation accuracy for `J48`:"
   ]
  },
  {
   "cell_type": "code",
   "execution_count": null,
   "metadata": {
    "ExecuteTime": {
     "end_time": "2021-02-06T07:56:24.638491Z",
     "start_time": "2021-02-06T07:56:23.958180Z"
    }
   },
   "outputs": [],
   "source": [
    "clf = Classifier(classname=\"weka.classifiers.trees.J48\")\n",
    "evl = Evaluation(data)\n",
    "evl.crossvalidate_model(clf, data, 10, Random(1))\n",
    "\n",
    "print(f'Accuracy: {evl.percent_correct:.3g}%')"
   ]
  },
  {
   "cell_type": "markdown",
   "metadata": {},
   "source": [
    "You should see that the accuracy is close to 100%. To show the detailed confusion matrix:"
   ]
  },
  {
   "cell_type": "code",
   "execution_count": null,
   "metadata": {
    "ExecuteTime": {
     "end_time": "2021-02-06T07:56:24.650010Z",
     "start_time": "2021-02-06T07:56:24.640748Z"
    }
   },
   "outputs": [],
   "source": [
    "confusion_matrix = pd.DataFrame(evl.confusion_matrix, dtype = int,\n",
    "    columns=[ f'predicted class \"{v}\"' for v in data.class_attribute.values],\n",
    "    index=[f'class \"{v}\"' for v in data.class_attribute.values])\n",
    "confusion_matrix"
   ]
  },
  {
   "cell_type": "markdown",
   "metadata": {},
   "source": [
    "Each row of the confusion matrix corresponds to a class value (1: malignant, -1: benign) and each column corresponds to a predicted class. Each entry is a count of instances belonging to certain class and having certain predicted class."
   ]
  },
  {
   "cell_type": "markdown",
   "metadata": {},
   "source": [
    "**Exercise** Assign to `percent_of_malignant_detected` the percentage of instances of class 1 predicted as class 1:"
   ]
  },
  {
   "cell_type": "code",
   "execution_count": null,
   "metadata": {
    "ExecuteTime": {
     "end_time": "2021-02-06T07:56:24.657392Z",
     "start_time": "2021-02-06T07:56:24.651664Z"
    },
    "deletable": false,
    "nbgrader": {
     "cell_type": "code",
     "checksum": "66e37c084cd49b2287a9d10ba9100c10",
     "grade": false,
     "grade_id": "malignant-detected",
     "locked": false,
     "schema_version": 3,
     "solution": true,
     "task": false
    }
   },
   "outputs": [],
   "source": [
    "# YOUR CODE HERE\n",
    "raise NotImplementedError()\n",
    "print(\n",
    "    f'Percentage of malignant detected: {percent_of_malignant_detected:.3g}%'\n",
    ")"
   ]
  },
  {
   "cell_type": "code",
   "execution_count": null,
   "metadata": {
    "ExecuteTime": {
     "end_time": "2021-02-06T07:56:24.666815Z",
     "start_time": "2021-02-06T07:56:24.659106Z"
    },
    "deletable": false,
    "editable": false,
    "nbgrader": {
     "cell_type": "code",
     "checksum": "a13f239583b0d82df4093221c23d1d3b",
     "grade": true,
     "grade_id": "test-malignant-detected",
     "locked": true,
     "points": 1,
     "schema_version": 3,
     "solution": false,
     "task": false
    }
   },
   "outputs": [],
   "source": [
    "# tests"
   ]
  },
  {
   "cell_type": "markdown",
   "metadata": {},
   "source": [
    "## Different Performance Metrics"
   ]
  },
  {
   "cell_type": "markdown",
   "metadata": {},
   "source": [
    "Since a high accuracy can be misleading for a skewed dataset, we should use other performance metrics to evaluate the performance of a classification algorithm:"
   ]
  },
  {
   "cell_type": "code",
   "execution_count": null,
   "metadata": {
    "ExecuteTime": {
     "end_time": "2021-02-06T07:56:24.680430Z",
     "start_time": "2021-02-06T07:56:24.669080Z"
    }
   },
   "outputs": [],
   "source": [
    "pos_class = 1  # specify the postive class value\n",
    "performance = {\n",
    "    'precision': evl.precision(pos_class),\n",
    "    'recall': evl.recall(pos_class),\n",
    "    'specificity': evl.true_negative_rate(pos_class)\n",
    "}\n",
    "performance"
   ]
  },
  {
   "cell_type": "markdown",
   "metadata": {},
   "source": [
    "Although specificity is close to 100%, precision and recall are below 80% and 60% respectively. These metrics can be computed from the numbers of true/false positives/negatives:\n",
    "\n",
    "\\begin{align}\n",
    "\\text{precision} &= \\frac{\\text{TP}}{\\text{TP} + \\text{FP}}\\\\ \n",
    "\\text{recall} &= \\frac{\\text{TP}}{\\text{TP} + \\text{FN}}\\\\ \n",
    "\\text{specificity} &= \\frac{\\text{TN}}{\\text{TN} + \\text{FP}}\n",
    "\\end{align}"
   ]
  },
  {
   "cell_type": "code",
   "execution_count": null,
   "metadata": {
    "ExecuteTime": {
     "end_time": "2021-02-06T07:56:24.697315Z",
     "start_time": "2021-02-06T07:56:24.684000Z"
    }
   },
   "outputs": [],
   "source": [
    "TP = evl.num_true_positives(pos_class)\n",
    "FN = evl.num_false_negatives(pos_class)\n",
    "FP = evl.num_false_positives(pos_class)\n",
    "TN = evl.num_true_negatives(pos_class)\n",
    "\n",
    "assert np.isclose(performance['precision'], TP / (TP + FP))\n",
    "assert np.isclose(performance['recall'], TP / (TP + FN))\n",
    "assert np.isclose(performance['specificity'], TN / (TN + FP))\n",
    "\n",
    "TFPN = pd.DataFrame(\n",
    "    [[TP, FN],\n",
    "     [FP, TP]],\n",
    "    dtype = int,\n",
    "    columns=['predicted +ve', 'predicted -ve'],\n",
    "    index=['+ve', '-ve'])\n",
    "TFPN"
   ]
  },
  {
   "cell_type": "markdown",
   "metadata": {},
   "source": [
    "The above table is not the same as a confusion matrix since a confusion matrix\n",
    "\n",
    "- does not specify a positive class, and\n",
    "- can have more than two rows/columns in multi-class classification problems."
   ]
  },
  {
   "cell_type": "markdown",
   "metadata": {},
   "source": [
    "**Exercise** Modify `performance` to include the negative predictive value. You can add the value using:\n",
    "```Python\n",
    "performance['NPV'] = ...\n",
    "```"
   ]
  },
  {
   "cell_type": "code",
   "execution_count": null,
   "metadata": {
    "ExecuteTime": {
     "end_time": "2021-02-06T07:56:24.707578Z",
     "start_time": "2021-02-06T07:56:24.698897Z"
    },
    "deletable": false,
    "nbgrader": {
     "cell_type": "code",
     "checksum": "f556539449a0198d9c0d5fb4cb9d120d",
     "grade": false,
     "grade_id": "npv",
     "locked": false,
     "schema_version": 3,
     "solution": true,
     "task": false
    }
   },
   "outputs": [],
   "source": [
    "# YOUR CODE HERE\n",
    "raise NotImplementedError()\n",
    "print(f\"negative predictive value (NPV): {performance['NPV']:.3g}\")"
   ]
  },
  {
   "cell_type": "code",
   "execution_count": null,
   "metadata": {
    "ExecuteTime": {
     "end_time": "2021-02-06T07:56:24.718043Z",
     "start_time": "2021-02-06T07:56:24.709586Z"
    },
    "deletable": false,
    "editable": false,
    "nbgrader": {
     "cell_type": "code",
     "checksum": "004fbec5b7b56fa027cba7caf9ca868e",
     "grade": true,
     "grade_id": "test-npv",
     "locked": true,
     "points": 1,
     "schema_version": 3,
     "solution": false,
     "task": false
    }
   },
   "outputs": [],
   "source": [
    "# tests"
   ]
  },
  {
   "cell_type": "markdown",
   "metadata": {},
   "source": [
    "$F_{\\beta}$ score is another measure that captures the performance in both precision and recall:\n",
    "\n",
    "\\begin{align}\n",
    "F_{\\beta} &:= \\left( \\frac{\\text{precision}^{-1} + \\beta^2 \\cdot \\text{recall}^{-1}}{\\beta^2 + 1}\\right)^{-1} = \\frac{(\\beta^2+1)\\cdot \\text{precision}\\cdot \\text{recall} }{\\beta^2\\text{precision} + \\text{recall}}\\\\\n",
    "F := F_1 &= \\left( \\frac{\\text{precision}^{-1} + \\text{recall}^{-1}}{2}\\right)^{-1} = \\frac{2\\cdot \\text{precision}\\cdot \\text{recall} }{\\text{precision} + \\text{recall}},\n",
    "\\end{align}\n",
    "\n",
    "which is the harmonic mean of precision and recall. This is useful in training a classifier to maximize both precision and recall."
   ]
  },
  {
   "cell_type": "code",
   "execution_count": null,
   "metadata": {
    "ExecuteTime": {
     "end_time": "2021-02-06T07:56:24.730430Z",
     "start_time": "2021-02-06T07:56:24.720255Z"
    }
   },
   "outputs": [],
   "source": [
    "performance['F'] = evl.f_measure(pos_class)\n",
    "print(f\"F-score: {performance['F']:.3g}\")"
   ]
  },
  {
   "cell_type": "markdown",
   "metadata": {},
   "source": [
    "**Exercise** For the $F_{\\beta}$ score, we can increase $\\beta$ to put more weight on recall. Modify `performance` to include the $F_2$ score. You can set the value using:\n",
    "```Python\n",
    "performance['F_2'] = ...\n",
    "```"
   ]
  },
  {
   "cell_type": "code",
   "execution_count": null,
   "metadata": {
    "ExecuteTime": {
     "end_time": "2021-02-06T07:56:24.745425Z",
     "start_time": "2021-02-06T07:56:24.732932Z"
    },
    "deletable": false,
    "nbgrader": {
     "cell_type": "code",
     "checksum": "0dbd8f3cb88ac0458b6ea5b5268931b4",
     "grade": false,
     "grade_id": "F2",
     "locked": false,
     "schema_version": 3,
     "solution": true,
     "task": false
    }
   },
   "outputs": [],
   "source": [
    "# YOUR CODE HERE\n",
    "raise NotImplementedError()\n",
    "print(f\"F_2 score: {performance['F_2']:.3g}\")"
   ]
  },
  {
   "cell_type": "code",
   "execution_count": null,
   "metadata": {
    "ExecuteTime": {
     "end_time": "2021-02-06T07:56:24.755876Z",
     "start_time": "2021-02-06T07:56:24.748475Z"
    },
    "deletable": false,
    "editable": false,
    "nbgrader": {
     "cell_type": "code",
     "checksum": "1c6847f2a0603d797cd9c588ed7f1072",
     "grade": true,
     "grade_id": "test-F2",
     "locked": true,
     "points": 1,
     "schema_version": 3,
     "solution": false,
     "task": false
    }
   },
   "outputs": [],
   "source": [
    "# tests"
   ]
  },
  {
   "cell_type": "markdown",
   "metadata": {},
   "source": [
    "**Exercise** Using `ZeroR` as the classifier, assign to `ZeroR_performance` a dictionary of precision, recall, and specificity. You can create the dictionary as follows:\n",
    "```Python\n",
    "ZeroR_performance = {\n",
    "    'precision': ___,\n",
    "    'recall': ___,\n",
    "    'specificity': ___\n",
    "}\n",
    "```\n",
    "\n",
    "Use 10-fold cross-validation with a random seed of `1`. If the value is not a number, you may enter it as `np.nan`."
   ]
  },
  {
   "cell_type": "code",
   "execution_count": null,
   "metadata": {
    "ExecuteTime": {
     "end_time": "2021-02-06T07:56:24.817005Z",
     "start_time": "2021-02-06T07:56:24.758792Z"
    },
    "deletable": false,
    "nbgrader": {
     "cell_type": "code",
     "checksum": "2cac668dce68910c4078ad7c272bb4f0",
     "grade": false,
     "grade_id": "ZeroR",
     "locked": false,
     "schema_version": 3,
     "solution": true,
     "task": false
    }
   },
   "outputs": [],
   "source": [
    "# YOUR CODE HERE\n",
    "raise NotImplementedError()\n",
    "ZeroR_performance"
   ]
  },
  {
   "cell_type": "code",
   "execution_count": null,
   "metadata": {
    "ExecuteTime": {
     "end_time": "2021-02-06T07:56:24.821666Z",
     "start_time": "2021-02-06T07:56:24.818667Z"
    },
    "deletable": false,
    "editable": false,
    "nbgrader": {
     "cell_type": "code",
     "checksum": "6e0b99a135db2ab98473729c554b6bc3",
     "grade": true,
     "grade_id": "test-ZeroR",
     "locked": true,
     "points": 1,
     "schema_version": 3,
     "solution": false,
     "task": false
    }
   },
   "outputs": [],
   "source": [
    "# tests"
   ]
  },
  {
   "cell_type": "markdown",
   "metadata": {},
   "source": [
    "**Exercise** Is ZeroR a good baseline classifier?\n",
    "\n",
    "[*Hint: Is the accuracy misleading? Can a random decision maker do better than zeroR?*]"
   ]
  },
  {
   "cell_type": "markdown",
   "metadata": {
    "deletable": false,
    "nbgrader": {
     "cell_type": "markdown",
     "checksum": "4098962965ff36e2070f1b192c0f55a1",
     "grade": true,
     "grade_id": "baseline",
     "locked": false,
     "points": 1,
     "schema_version": 3,
     "solution": true,
     "task": false
    }
   },
   "source": [
    "YOUR ANSWER HERE"
   ]
  },
  {
   "cell_type": "markdown",
   "metadata": {},
   "source": [
    "## Operating Curves for Probabilistic Classifier"
   ]
  },
  {
   "cell_type": "markdown",
   "metadata": {},
   "source": [
    "For a probabilistic classifier that returns probabilities of different classes, we can obtain a trade-off between precision and recall by changing a threshold $\\gamma$ for positive prediction, i.e., predict positive if and only if the probability estimate for positive class is larger than $\\gamma$. \n",
    "\n",
    "The following plots the [precision-recall curve](https://waikato.github.io/weka-wiki/roc_curves/) and prints the area under the curve."
   ]
  },
  {
   "cell_type": "code",
   "execution_count": null,
   "metadata": {
    "ExecuteTime": {
     "end_time": "2021-02-06T07:56:25.065605Z",
     "start_time": "2021-02-06T07:56:24.823300Z"
    }
   },
   "outputs": [],
   "source": [
    "import weka.plot.classifiers as plcls\n",
    "\n",
    "plcls.plot_prc(evl, class_index=[1])\n",
    "performance['PRC'] = evl.area_under_prc(pos_class)\n",
    "print(f\"area under precision-recall curve (PRC): {performance['PRC']:.3g}\")"
   ]
  },
  {
   "cell_type": "markdown",
   "metadata": {},
   "source": [
    "**Exercise** One can operate the classifier at any point on the curve by an appropriate choice of $\\gamma$. Is it a good idea to operate at the initial part of the curve where the slope is strictly positive?"
   ]
  },
  {
   "cell_type": "markdown",
   "metadata": {
    "deletable": false,
    "nbgrader": {
     "cell_type": "markdown",
     "checksum": "1121e1e3d949136048751933292e0b19",
     "grade": true,
     "grade_id": "PRC",
     "locked": false,
     "points": 1,
     "schema_version": 3,
     "solution": true,
     "task": false
    }
   },
   "source": [
    "YOUR ANSWER HERE"
   ]
  },
  {
   "cell_type": "markdown",
   "metadata": {},
   "source": [
    "**Exercise** The above curve shows that the classifier can achieve 100% recall but not 100% precision. If you can choose any classifier, is it always possible to achieve 100% recall for any given data set? How about 100% precision?"
   ]
  },
  {
   "cell_type": "markdown",
   "metadata": {
    "deletable": false,
    "nbgrader": {
     "cell_type": "markdown",
     "checksum": "769f0f9cf0c70700047f4aad9b1c080f",
     "grade": true,
     "grade_id": "perfect-recall",
     "locked": false,
     "points": 1,
     "schema_version": 3,
     "solution": true,
     "task": false
    }
   },
   "source": [
    "YOUR ANSWER HERE"
   ]
  },
  {
   "cell_type": "markdown",
   "metadata": {},
   "source": [
    "We can also plot the ROC (receiver operator characteristics) curve to show the trade-off between recall (true positive rate) and false positive rate:"
   ]
  },
  {
   "cell_type": "code",
   "execution_count": null,
   "metadata": {
    "ExecuteTime": {
     "end_time": "2021-02-06T07:56:25.257431Z",
     "start_time": "2021-02-06T07:56:25.067426Z"
    }
   },
   "outputs": [],
   "source": [
    "plcls.plot_roc(evl, class_index=[1])\n",
    "performance['AUC'] = evl.area_under_roc(pos_class)\n",
    "print(f\"area under ROC curve (AUC): {performance['AUC']:.3g}\")"
   ]
  },
  {
   "cell_type": "markdown",
   "metadata": {},
   "source": [
    "**Exercise** The above curve shows that the classifier can achieve 0% false positive rate. If you can choose the classifier, is it always possible to achieve 0% false positive rate for any given dataset?"
   ]
  },
  {
   "cell_type": "markdown",
   "metadata": {
    "deletable": false,
    "nbgrader": {
     "cell_type": "markdown",
     "checksum": "198e1b2272cf95a2266274391282faed",
     "grade": true,
     "grade_id": "zero-false-positive",
     "locked": false,
     "points": 1,
     "schema_version": 3,
     "solution": true,
     "task": false
    }
   },
   "source": [
    "YOUR ANSWER HERE"
   ]
  }
 ],
 "metadata": {
  "kernelspec": {
   "display_name": "Python 3.7",
   "language": "python",
   "name": "python3"
  },
  "language_info": {
   "codemirror_mode": {
    "name": "ipython",
    "version": 3
   },
   "file_extension": ".py",
   "mimetype": "text/x-python",
   "name": "python",
   "nbconvert_exporter": "python",
   "pygments_lexer": "ipython3",
   "version": "3.7.9"
  },
  "rise": {
   "enable_chalkboard": true,
   "scroll": true,
   "theme": "white"
  },
  "toc": {
   "base_numbering": 1,
   "nav_menu": {},
   "number_sections": true,
   "sideBar": true,
   "skip_h1_title": true,
   "title_cell": "Table of Contents",
   "title_sidebar": "Contents",
   "toc_cell": false,
   "toc_position": {},
   "toc_section_display": true,
   "toc_window_display": false
  }
 },
 "nbformat": 4,
 "nbformat_minor": 4
}
