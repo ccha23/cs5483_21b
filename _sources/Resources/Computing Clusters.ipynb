{
 "cells": [
  {
   "cell_type": "markdown",
   "metadata": {},
   "source": [
    "# Computing Clusters"
   ]
  },
  {
   "cell_type": "markdown",
   "metadata": {
    "tags": [
     "remove-cell"
    ]
   },
   "source": [
    "**CS5483 Data Warehousing and Data Mining**\n",
    "$\\def\\abs#1{\\left\\lvert #1 \\right\\rvert}\n",
    "\\def\\Set#1{\\left\\{ #1 \\right\\}}\n",
    "\\def\\mc#1{\\mathcal{#1}}\n",
    "\\def\\M#1{\\boldsymbol{#1}}\n",
    "\\def\\R#1{\\mathsf{#1}}\n",
    "\\def\\RM#1{\\boldsymbol{\\mathsf{#1}}}\n",
    "\\def\\op#1{\\operatorname{#1}}\n",
    "\\def\\E{\\op{E}}\n",
    "\\def\\d{\\mathrm{\\mathstrut d}}\n",
    "$\n",
    "___"
   ]
  },
  {
   "cell_type": "markdown",
   "metadata": {},
   "source": [
    "This notebook gives a brief instruction on how to use CSLab computing clusters. For more information about the clusters, please refer to\n",
    "[HTCC](https://cslab.cs.cityu.edu.hk/services/high-throughput-computing-cluster-htcc), \n",
    "[HTGC1](https://cslab.cs.cityu.edu.hk/services/high-throughput-computing-cluster-htcc), \n",
    "[HTGC2](https://cslab.cs.cityu.edu.hk/services/high-throughput-computing-cluster-htcc), \n",
    "[HTGC3](https://cslab.cs.cityu.edu.hk/services/high-throughput-computing-cluster-htcc)."
   ]
  },
  {
   "cell_type": "markdown",
   "metadata": {},
   "source": [
    "## Prerequisites"
   ]
  },
  {
   "cell_type": "markdown",
   "metadata": {},
   "source": [
    "You would need:\n",
    "1. A valid CSLab UNIX account \n",
    "2. A SSH client (**Visual Studio Code** is highly recommended)\n",
    "3. A VPN to connect to CS network if not physically in the Labs  \n",
    "  <https://cslab.cs.cityu.edu.hk/services/cslab-vpn-sonicwall>"
   ]
  },
  {
   "cell_type": "markdown",
   "metadata": {},
   "source": [
    "## Connecting to the clusters"
   ]
  },
  {
   "cell_type": "markdown",
   "metadata": {},
   "source": [
    "### Using a terminal"
   ]
  },
  {
   "cell_type": "markdown",
   "metadata": {},
   "source": [
    "Run in a termial (hostname depends on which cluster you want to use):\n",
    "```shell\n",
    "ssh your_eid@htcc1.cs.cityu.edu.hk\n",
    "```"
   ]
  },
  {
   "cell_type": "markdown",
   "metadata": {},
   "source": [
    "### Using VS Code"
   ]
  },
  {
   "cell_type": "markdown",
   "metadata": {},
   "source": [
    "You can access the clusters using the VS Code\n",
    "- installed locally on your computer or \n",
    "- in Xpra remote desktop.\n",
    "\n",
    "VS Code from JupyterHub does not support this yet."
   ]
  },
  {
   "cell_type": "markdown",
   "metadata": {},
   "source": [
    " 1. Install **Remote - SSH** extension\n",
    " 2. Press ```F1``` and run the ```Remote-SSH: Connect to SSH Host...``` command\n",
    " 3. Enter ```your_eid@htcc1.cs.cityu.edu.hk```\n",
    " \n",
    "See [Remote Development using SSH](https://code.visualstudio.com/docs/remote/ssh) for more details."
   ]
  },
  {
   "cell_type": "markdown",
   "metadata": {},
   "source": [
    "## Preparing conda environment"
   ]
  },
  {
   "cell_type": "markdown",
   "metadata": {},
   "source": [
    " 1. Connect to any host that can access to your home dictionary, including\n",
    "     - htcc1.cs.cityu.edu.hk\n",
    "     - htgc1.cs.cityu.edu.hk\n",
    "     - htgc2.cs.cityu.edu.hk\n",
    "     - htgc3.cs.cityu.edu.hk\n",
    "     - ltjh.cs.cityu.edu.hk\n",
    "     - gateway.cs.cityu.edu.hk\n",
    " 2. Open [Anaconda](https://www.anaconda.com/products/individual) webpage.\n",
    " 3. Find and copy the download link of `Linux 64-Bit (x86) installer`.\n",
    " 4. Download the installer to your dictionary by running \n",
    " ```shell\n",
    " wget the_link_you_copied\n",
    " ```\n",
    " 5. Install Anaconda by running (run ```ls``` to see the file name)\n",
    " ```shell\n",
    " sh the_file_you_downloaded\n",
    " ```\n",
    " 6. Try launch the Python interpreter installed by Anaconda by running\n",
    " ```shell\n",
    " /anaconda3/bin/python\n",
    " ``` \n",
    " press ```Ctrl``` + ```D``` to escape the interpreter\n",
    " \n",
    " 7. If everything works, you can use conda to install any packages you need such as TensorFlow, PyTorch, etc."
   ]
  },
  {
   "cell_type": "markdown",
   "metadata": {},
   "source": [
    "## Job submission"
   ]
  },
  {
   "cell_type": "markdown",
   "metadata": {},
   "source": [
    "1. Prepare a job submission file **run_hello.condor**. A minimal example is \n",
    "```shell\n",
    "eid             = your_eid\n",
    "name            = job_name_you_want\n",
    "environment     = PYTHONHOME=/home/grads/$(eid)/anaconda3/\n",
    "# CUDA device name depends on which node you are using\n",
    "# check CSLab web page to find the names\n",
    "requirements = (CUDADeviceName == \"GeForce RTX 2080 Ti\") \n",
    "executable      = /home/grads/$(eid)/anaconda3/bin/python\n",
    "arguments       = /home/grads/$(eid)/hello.py --para1 123\n",
    "error           = $(name).err\n",
    "log             = $(name).log\n",
    "queue\n",
    "```\n",
    "\n",
    "2. Submit the job by running `condor_submit run_hello.condor`.\n",
    "3. Check the job status by running `condor_q`.\n",
    "4. If your job completes much faster than you expected, something may be wrong. You need to check the `err` file.\n",
    "5. If you want to remove a job, run `condor_rm your_eid`.\n",
    "6. A user can launch five jobs concurrently by calling `queue` multiple times. For example:\n",
    "```shell\n",
    "eid             = your_eid\n",
    "name            = job1_name_you_want\n",
    "environment     = PYTHONHOME=/home/grads/$(eid)/anaconda3/\n",
    "# CUDA device name depends on which node you are using\n",
    "# check CSLab web page to find the names\n",
    "requirements = (CUDADeviceName == \"GeForce RTX 2080 Ti\") \n",
    "executable      = /home/grads/$(eid)/anaconda3/bin/python\n",
    "arguments       = /home/grads/$(eid)/hello1.py\n",
    "error           = $(name).err\n",
    "log             = $(name).log\n",
    "queue\n",
    "```\n",
    "\n",
    "```shell\n",
    "eid             = your_eid\n",
    "name            = job2_name_you_want\n",
    "environment     = PYTHONHOME=/home/grads/$(eid)/anaconda3/\n",
    "# CUDA device name depends on which node you are using\n",
    "# check CSLab web page to find the names\n",
    "requirements = (CUDADeviceName == \"GeForce RTX 2080 Ti\") \n",
    "executable      = /home/grads/$(eid)/anaconda3/bin/python\n",
    "arguments       = /home/grads/$(eid)/hello2.py\n",
    "error           = $(name).err\n",
    "log             = $(name).log\n",
    "queue\n",
    "```"
   ]
  },
  {
   "cell_type": "markdown",
   "metadata": {},
   "source": [
    "## More details"
   ]
  },
  {
   "cell_type": "markdown",
   "metadata": {},
   "source": [
    "Additional instructions and sample condor demo files can be found at `/public/condor_demo` of the servers."
   ]
  }
 ],
 "metadata": {
  "kernelspec": {
   "display_name": "Python 3",
   "language": "python",
   "name": "python3"
  },
  "language_info": {
   "codemirror_mode": {
    "name": "ipython",
    "version": 3
   },
   "file_extension": ".py",
   "mimetype": "text/x-python",
   "name": "python",
   "nbconvert_exporter": "python",
   "pygments_lexer": "ipython3",
   "version": "3.7.9"
  },
  "latex_envs": {
   "LaTeX_envs_menu_present": true,
   "autoclose": false,
   "autocomplete": true,
   "bibliofile": "biblio.bib",
   "cite_by": "apalike",
   "current_citInitial": 1,
   "eqLabelWithNumbers": true,
   "eqNumInitial": 1,
   "hotkeys": {
    "equation": "Ctrl-E",
    "itemize": "Ctrl-I"
   },
   "labels_anchors": false,
   "latex_user_defs": false,
   "report_style_numbering": false,
   "user_envs_cfg": false
  },
  "toc": {
   "base_numbering": 1,
   "nav_menu": {},
   "number_sections": true,
   "sideBar": true,
   "skip_h1_title": false,
   "title_cell": "Table of Contents",
   "title_sidebar": "Contents",
   "toc_cell": false,
   "toc_position": {},
   "toc_section_display": true,
   "toc_window_display": false
  }
 },
 "nbformat": 4,
 "nbformat_minor": 4
}
