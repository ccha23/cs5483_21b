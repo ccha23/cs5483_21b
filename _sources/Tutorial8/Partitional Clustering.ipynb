{
 "cells": [
  {
   "cell_type": "markdown",
   "metadata": {},
   "source": [
    "# Partitional Clustering"
   ]
  },
  {
   "cell_type": "markdown",
   "metadata": {
    "tags": [
     "remove-cell"
    ]
   },
   "source": [
    "**CS5483 Data Warehousing and Data Mining**\n",
    "___"
   ]
  },
  {
   "cell_type": "code",
   "execution_count": null,
   "metadata": {
    "ExecuteTime": {
     "end_time": "2021-03-09T14:18:30.277412Z",
     "start_time": "2021-03-09T14:18:30.120877Z"
    },
    "deletable": false,
    "editable": false,
    "init_cell": true,
    "nbgrader": {
     "cell_type": "code",
     "checksum": "455b413f307b40ef7bb58c45d6739f40",
     "grade": false,
     "grade_id": "init",
     "locked": true,
     "schema_version": 3,
     "solution": false,
     "task": false
    },
    "slideshow": {
     "slide_type": "-"
    }
   },
   "outputs": [],
   "source": [
    "%reset -f\n",
    "%matplotlib inline\n",
    "import numpy as np\n",
    "import pandas as pd\n",
    "import matplotlib.pyplot as plt\n",
    "from sklearn import datasets, preprocessing\n",
    "from sklearn.pipeline import make_pipeline\n",
    "from sklearn.cluster import KMeans\n",
    "# produce vector inline graphics\n",
    "from IPython.display import set_matplotlib_formats, Code\n",
    "set_matplotlib_formats('svg')\n",
    "from util import plot_cluster_regions\n",
    "from ipywidgets import interact\n",
    "import ipywidgets as widgets"
   ]
  },
  {
   "cell_type": "markdown",
   "metadata": {},
   "source": [
    "Recall that the classification problem for the iris dataset is to classify the iris species based on the lengths and widths of the petals and sepals. In this notebook, we will use cluster the instances in the iris dataset. The purpose is to evaluate whether a partitional clustering algorithm can identify the 3 different iris species without looking at the class attribute."
   ]
  },
  {
   "cell_type": "markdown",
   "metadata": {},
   "source": [
    "## Clustering using Weka"
   ]
  },
  {
   "cell_type": "markdown",
   "metadata": {},
   "source": [
    "The Explorer interface has a `Cluster` panel for clustering. Follow the procedures below to cluster the `iris.2D` dataset:\n",
    "\n",
    "1. Using the `Preprocess` panel, load `iris.2D.arff` from the Weka data folder.\n",
    "1. Using the `Cluster` panel, choose the `Clusterer` as `SimpleKMeans`, which implements the \\(k\\)-means clustering algorithm.\n",
    "1. The default number of clsuters is \\(k=2\\). Change it to \\(k=3\\) instead, i.e., set `numCluster` to 3.\n",
    "1. Click the `ignore attributes` button below `Cluster mode` and select `class`.\n",
    "1. Click `Start` to run the clustering algorithm.\n",
    "\n",
    "Alternatively, you may also use the [python-weka-wrapper](https://github.com/fracpete/python-weka-wrapper-examples/blob/master/src/wekaexamples/clusterers/clusterers.py) to obtain the answer."
   ]
  },
  {
   "cell_type": "markdown",
   "metadata": {},
   "source": [
    "**Exercise** Assign to `wss` the within cluster sum of squared (WSS) errors."
   ]
  },
  {
   "cell_type": "code",
   "execution_count": null,
   "metadata": {
    "ExecuteTime": {
     "end_time": "2021-03-09T13:57:17.194264Z",
     "start_time": "2021-03-09T13:57:17.138456Z"
    },
    "deletable": false,
    "nbgrader": {
     "cell_type": "code",
     "checksum": "10162ca466fe227af22cb874f7e44ac6",
     "grade": false,
     "grade_id": "wss",
     "locked": false,
     "schema_version": 3,
     "solution": true,
     "task": false
    }
   },
   "outputs": [],
   "source": [
    "# YOUR CODE HERE\n",
    "raise NotImplementedError()\n",
    "wss"
   ]
  },
  {
   "cell_type": "code",
   "execution_count": null,
   "metadata": {
    "ExecuteTime": {
     "end_time": "2021-03-09T13:57:18.148272Z",
     "start_time": "2021-03-09T13:57:18.143688Z"
    },
    "deletable": false,
    "editable": false,
    "nbgrader": {
     "cell_type": "code",
     "checksum": "be045fa0f312246f74ff08664bbdc152",
     "grade": true,
     "grade_id": "test-wss",
     "locked": true,
     "points": 1,
     "schema_version": 3,
     "solution": false,
     "task": false
    }
   },
   "outputs": [],
   "source": []
  },
  {
   "cell_type": "markdown",
   "metadata": {},
   "source": [
    "**Exercise** Complete the DataFrame `df_centroids` to store the cluster centers."
   ]
  },
  {
   "cell_type": "code",
   "execution_count": null,
   "metadata": {
    "ExecuteTime": {
     "end_time": "2021-03-09T13:57:19.997268Z",
     "start_time": "2021-03-09T13:57:19.948776Z"
    },
    "deletable": false,
    "nbgrader": {
     "cell_type": "code",
     "checksum": "6cc79d5764f575df708fbaebe32b5f9e",
     "grade": false,
     "grade_id": "df_centroids",
     "locked": false,
     "schema_version": 3,
     "solution": true,
     "task": false
    }
   },
   "outputs": [],
   "source": [
    "df_centroids = pd.DataFrame(columns=['petallength', 'petalwidth'], dtype=float)\n",
    "# YOUR CODE HERE\n",
    "raise NotImplementedError()\n",
    "df_centroids"
   ]
  },
  {
   "cell_type": "code",
   "execution_count": null,
   "metadata": {
    "ExecuteTime": {
     "end_time": "2021-03-09T13:57:26.094827Z",
     "start_time": "2021-03-09T13:57:26.001680Z"
    },
    "deletable": false,
    "editable": false,
    "nbgrader": {
     "cell_type": "code",
     "checksum": "e69f2a43ccfb0974ed1c3818974296e7",
     "grade": true,
     "grade_id": "test-df_centroids",
     "locked": true,
     "points": 1,
     "schema_version": 3,
     "solution": false,
     "task": false
    }
   },
   "outputs": [],
   "source": []
  },
  {
   "cell_type": "markdown",
   "metadata": {},
   "source": [
    "**Exercise** Right click your result and click `visualize cluster assignments`. Does the $k$-means algorithm appear to return the global optimal solution that minimizes WSS? Can $k$-means algorithm identify the three types of iris?"
   ]
  },
  {
   "cell_type": "markdown",
   "metadata": {
    "deletable": false,
    "editable": false,
    "nbgrader": {
     "cell_type": "markdown",
     "checksum": "1f6078498a02faeb6048edec35918bac",
     "grade": false,
     "grade_id": "kmeans-correctness",
     "locked": true,
     "points": 1,
     "schema_version": 3,
     "solution": false,
     "task": true
    }
   },
   "source": [
    "$k$-means appears to return the global optimal solution by choosing the axes to be `petallength` and `petalwidth`. If we choose the axes to be `cluster` and `class`, it can be seen that the clustering solution identifies Iris-setosa correctly but not the other types of iris."
   ]
  },
  {
   "cell_type": "markdown",
   "metadata": {},
   "source": [
    "**Exercise** Run the same clustering algorithm again but without ignoring the class attribute. To do so, click the `Ignore attributes` button and then the `Cancel` button. Does WSS increase? Why or why not?"
   ]
  },
  {
   "cell_type": "markdown",
   "metadata": {
    "deletable": false,
    "nbgrader": {
     "cell_type": "markdown",
     "checksum": "2567936184a765462f098b695d306a0f",
     "grade": true,
     "grade_id": "class-included",
     "locked": false,
     "points": 1,
     "schema_version": 3,
     "solution": true,
     "task": false
    }
   },
   "source": [
    "YOUR ANSWER HERE"
   ]
  },
  {
   "cell_type": "markdown",
   "metadata": {},
   "source": [
    "**Exercise** Select `classes to clusters evaluation` as the `cluster mode` instead.  Assign to `error_rate` the fraction (NOT percentage) of incorrectly clustered instances?  "
   ]
  },
  {
   "cell_type": "code",
   "execution_count": null,
   "metadata": {
    "ExecuteTime": {
     "end_time": "2021-03-06T14:44:02.195559Z",
     "start_time": "2021-03-06T14:44:02.189529Z"
    },
    "deletable": false,
    "nbgrader": {
     "cell_type": "code",
     "checksum": "d760a4e354165ede14279871eb692ec8",
     "grade": false,
     "grade_id": "error-rate",
     "locked": false,
     "schema_version": 3,
     "solution": true,
     "task": false
    }
   },
   "outputs": [],
   "source": [
    "# YOUR CODE HERE\n",
    "raise NotImplementedError()\n",
    "error_rate"
   ]
  },
  {
   "cell_type": "code",
   "execution_count": null,
   "metadata": {
    "ExecuteTime": {
     "end_time": "2021-03-06T14:44:43.328563Z",
     "start_time": "2021-03-06T14:44:43.325626Z"
    },
    "deletable": false,
    "editable": false,
    "nbgrader": {
     "cell_type": "code",
     "checksum": "b4dc7cf12a5518da86e3079d0c18dc6e",
     "grade": true,
     "grade_id": "test-error-rate",
     "locked": true,
     "points": 1,
     "schema_version": 3,
     "solution": false,
     "task": false
    }
   },
   "outputs": [],
   "source": []
  },
  {
   "cell_type": "markdown",
   "metadata": {},
   "source": [
    "**Exercise** Can you guess how the error rate is calculated?"
   ]
  },
  {
   "cell_type": "markdown",
   "metadata": {
    "deletable": false,
    "nbgrader": {
     "cell_type": "markdown",
     "checksum": "b6d37a157247a1dab47a15a5258b97fb",
     "grade": true,
     "grade_id": "classes-to-clusters",
     "locked": false,
     "points": 1,
     "schema_version": 3,
     "solution": true,
     "task": false
    }
   },
   "source": [
    "YOUR ANSWER HERE"
   ]
  },
  {
   "cell_type": "markdown",
   "metadata": {},
   "source": [
    "## Clustering using scikit-learn"
   ]
  },
  {
   "cell_type": "markdown",
   "metadata": {},
   "source": [
    "We first import the iris dataset from `sklearn.datasets` and store it as a DataFrame."
   ]
  },
  {
   "cell_type": "code",
   "execution_count": null,
   "metadata": {
    "ExecuteTime": {
     "end_time": "2021-03-09T14:04:32.617860Z",
     "start_time": "2021-03-09T14:04:32.544538Z"
    }
   },
   "outputs": [],
   "source": [
    "# load the dataset from sklearn\n",
    "dataset = datasets.load_iris()\n",
    "\n",
    "# create a DataFrame to help further analysis\n",
    "df = pd.DataFrame(data=dataset.data, columns=dataset.feature_names)\n",
    "df['target'] = dataset.target\n",
    "df.target = df.target.astype('category')\n",
    "df.target.cat.categories = dataset.target_names\n",
    "df  # display an overview of the data"
   ]
  },
  {
   "cell_type": "markdown",
   "metadata": {},
   "source": [
    "To normalize the features followed by $k$-means clustering, we create a pipeline as follows:"
   ]
  },
  {
   "cell_type": "code",
   "execution_count": null,
   "metadata": {
    "ExecuteTime": {
     "end_time": "2021-03-09T14:04:34.595505Z",
     "start_time": "2021-03-09T14:04:34.496361Z"
    }
   },
   "outputs": [],
   "source": [
    "from sklearn.cluster import KMeans\n",
    "\n",
    "kmeans_minmax_normalized = make_pipeline(preprocessing.MinMaxScaler(), \n",
    "                                         KMeans(n_clusters=3))\n",
    "kmeans_minmax_normalized"
   ]
  },
  {
   "cell_type": "markdown",
   "metadata": {},
   "source": [
    "To cluster based on the two input features `petal length (cm)` and `petal width (cm)`:"
   ]
  },
  {
   "cell_type": "code",
   "execution_count": null,
   "metadata": {
    "ExecuteTime": {
     "end_time": "2021-03-09T14:04:38.605969Z",
     "start_time": "2021-03-09T14:04:38.193451Z"
    }
   },
   "outputs": [],
   "source": [
    "feature1, feature2 = 'petal length (cm)', 'petal width (cm)'\n",
    "kmeans_minmax_normalized.fit(df[[feature1, feature2]])\n",
    "\n",
    "plt.figure(figsize=(10, 5))\n",
    "plt.subplot(121)\n",
    "plt.scatter(df[feature1],\n",
    "            df[feature2],\n",
    "            c=kmeans_minmax_normalized.predict(df[[feature1, feature2]]))\n",
    "plt.title(\"Cluster assignment\")\n",
    "plt.subplot(122)\n",
    "plt.scatter(df[feature1], df[feature2], c=dataset['target'])\n",
    "plt.title(\"Class (ground truth)\")\n",
    "plt.show()"
   ]
  },
  {
   "cell_type": "markdown",
   "metadata": {},
   "source": [
    "Since clustering is unsupervised, unlike classification,\n",
    "- the `fit` method of `kmeans_minmax_normalized` does not take the target attribute as an argument, and\n",
    "- the `predict` method returns cluster labels that are arbitrary and not associated with the class labels."
   ]
  },
  {
   "cell_type": "markdown",
   "metadata": {},
   "source": [
    "Further details can be obtained from the fitted properties (those with a [trailing underscore](https://github.com/rasbt/python-machine-learning-book/blob/master/faq/underscore-convention.md)):"
   ]
  },
  {
   "cell_type": "code",
   "execution_count": null,
   "metadata": {
    "ExecuteTime": {
     "end_time": "2021-03-09T14:04:42.017023Z",
     "start_time": "2021-03-09T14:04:41.946115Z"
    }
   },
   "outputs": [],
   "source": [
    "kmeans = kmeans_minmax_normalized['kmeans']\n",
    "print('Cluster labels:', *kmeans.labels_)\n",
    "print('Cluster centers:', *kmeans.cluster_centers_)\n",
    "print('WSS:', kmeans.inertia_)\n",
    "print('# iterations:', kmeans.n_iter_)"
   ]
  },
  {
   "cell_type": "markdown",
   "metadata": {},
   "source": [
    "Similar to plotting the decision regions for a classifier, we provide the following function `plot_cluster_regions` in `util` to plot the cluster regions for a clusterer."
   ]
  },
  {
   "cell_type": "code",
   "execution_count": null,
   "metadata": {
    "ExecuteTime": {
     "end_time": "2021-03-09T14:04:46.688336Z",
     "start_time": "2021-03-09T14:04:46.353497Z"
    }
   },
   "outputs": [],
   "source": [
    "Code(filename='util.py')"
   ]
  },
  {
   "cell_type": "markdown",
   "metadata": {
    "deletable": false,
    "editable": false,
    "nbgrader": {
     "cell_type": "markdown",
     "checksum": "505bd444443f6925019df63e23fb1664",
     "grade": false,
     "grade_id": "task-kmeans",
     "locked": true,
     "points": 1,
     "schema_version": 3,
     "solution": false,
     "task": true
    }
   },
   "source": [
    "**Exercise** Complete the following code to assign to `kmeans` a trained $k$-means clusterer that \n",
    "- normalizes the features according to the method specified by `normalization`, and\n",
    "- clusters the instances of features specified by `feature1` and `feature2` into `k` clusters.\n",
    "\n",
    "Observe the change in the clustering solution when you change the normalization, features, and number of clusters."
   ]
  },
  {
   "cell_type": "code",
   "execution_count": null,
   "metadata": {
    "ExecuteTime": {
     "end_time": "2021-03-09T14:05:17.093042Z",
     "start_time": "2021-03-09T14:05:16.436717Z"
    },
    "deletable": false,
    "nbgrader": {
     "cell_type": "code",
     "checksum": "0871a788974fc0bbec8c601635688085",
     "grade": false,
     "grade_id": "kmeans",
     "locked": false,
     "schema_version": 3,
     "solution": true,
     "task": false
    }
   },
   "outputs": [],
   "source": [
    "from util import plot_cluster_regions\n",
    "\n",
    "\n",
    "@interact(normalization=['None', 'Min-max', 'Standard'],\n",
    "          feature1=dataset.feature_names,\n",
    "          feature2=dataset.feature_names,\n",
    "          k=widgets.IntSlider(3, 1, 4, continuous_update=False),\n",
    "          resolution=widgets.IntSlider(1, 1, 4, continuous_update=False))\n",
    "def cluster_regions_kmeans(normalization,\n",
    "                           feature1=dataset.feature_names[2],\n",
    "                           feature2=dataset.feature_names[3],\n",
    "                           k=3,\n",
    "                           resolution=1):\n",
    "\n",
    "    scaler = {\n",
    "        'Min-max': preprocessing.MinMaxScaler,\n",
    "        'Standard': preprocessing.StandardScaler\n",
    "    }\n",
    "    # YOUR CODE HERE\n",
    "    raise NotImplementedError()\n",
    "    plt.figure(figsize=(10, 10))\n",
    "    ax = plot_cluster_regions(df[[feature1, feature2]],\n",
    "                              df.target,\n",
    "                              kmeans,\n",
    "                              N=resolution * 100)\n",
    "    ax.set_title('Cluster regions for k-means clustering')\n",
    "    ax.set_xlabel(feature1)\n",
    "    ax.set_ylabel(feature2)"
   ]
  }
 ],
 "metadata": {
  "kernelspec": {
   "display_name": "Python 3",
   "language": "python",
   "name": "python3"
  },
  "language_info": {
   "codemirror_mode": {
    "name": "ipython",
    "version": 3
   },
   "file_extension": ".py",
   "mimetype": "text/x-python",
   "name": "python",
   "nbconvert_exporter": "python",
   "pygments_lexer": "ipython3",
   "version": "3.7.9"
  },
  "rise": {
   "enable_chalkboard": true,
   "scroll": true,
   "theme": "beige"
  },
  "toc": {
   "base_numbering": 1,
   "nav_menu": {},
   "number_sections": true,
   "sideBar": true,
   "skip_h1_title": true,
   "title_cell": "Table of Contents",
   "title_sidebar": "Contents",
   "toc_cell": false,
   "toc_position": {},
   "toc_section_display": true,
   "toc_window_display": false
  }
 },
 "nbformat": 4,
 "nbformat_minor": 4
}
