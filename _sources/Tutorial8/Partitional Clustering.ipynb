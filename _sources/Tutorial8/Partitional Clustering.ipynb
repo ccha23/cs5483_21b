{
 "cells": [
  {
   "cell_type": "markdown",
   "metadata": {},
   "source": [
    "# Partitional Clustering"
   ]
  },
  {
   "cell_type": "markdown",
   "metadata": {
    "tags": [
     "remove-cell"
    ]
   },
   "source": [
    "**CS5483 Data Warehousing and Data Mining**\n",
    "___"
   ]
  },
  {
   "cell_type": "code",
   "execution_count": 1,
   "metadata": {
    "ExecuteTime": {
     "end_time": "2021-03-16T14:25:21.598543Z",
     "start_time": "2021-03-16T14:25:20.102662Z"
    },
    "deletable": false,
    "editable": false,
    "init_cell": true,
    "nbgrader": {
     "cell_type": "code",
     "checksum": "455b413f307b40ef7bb58c45d6739f40",
     "grade": false,
     "grade_id": "init",
     "locked": true,
     "schema_version": 3,
     "solution": false,
     "task": false
    },
    "slideshow": {
     "slide_type": "-"
    }
   },
   "outputs": [],
   "source": [
    "%reset -f\n",
    "%matplotlib inline\n",
    "import numpy as np\n",
    "import pandas as pd\n",
    "import matplotlib.pyplot as plt\n",
    "from sklearn import datasets, preprocessing\n",
    "from sklearn.pipeline import make_pipeline\n",
    "from sklearn.cluster import KMeans\n",
    "# produce vector inline graphics\n",
    "from IPython.display import set_matplotlib_formats, Code\n",
    "set_matplotlib_formats('svg')\n",
    "from util import plot_cluster_regions\n",
    "from ipywidgets import interact\n",
    "import ipywidgets as widgets"
   ]
  },
  {
   "cell_type": "markdown",
   "metadata": {},
   "source": [
    "Recall that the classification problem for the iris dataset is to classify the iris species based on the lengths and widths of the petals and sepals. In this notebook, we will use cluster the instances in the iris dataset. The purpose is to evaluate whether a partitional clustering algorithm can identify the 3 different iris species without looking at the class attribute."
   ]
  },
  {
   "cell_type": "markdown",
   "metadata": {},
   "source": [
    "## Clustering using Weka"
   ]
  },
  {
   "cell_type": "markdown",
   "metadata": {},
   "source": [
    "The Explorer interface has a `Cluster` panel for clustering. Follow the procedures below to cluster the `iris.2D` dataset:\n",
    "\n",
    "1. Using the `Preprocess` panel, load `iris.2D.arff` from the Weka data folder.\n",
    "1. Using the `Cluster` panel, choose the `Clusterer` as `SimpleKMeans`, which implements the \\(k\\)-means clustering algorithm.\n",
    "1. The default number of clusters is \\(k=2\\). Change it to \\(k=3\\) instead, i.e., set `numClusters` to 3.\n",
    "1. Click the `ignore attributes` button below `Cluster mode` and select `class`.\n",
    "1. Click `Start` to run the clustering algorithm.\n",
    "\n",
    "Alternatively, you may also use the [python-weka-wrapper](https://github.com/fracpete/python-weka-wrapper-examples/blob/master/src/wekaexamples/clusterers/clusterers.py) to obtain the answer."
   ]
  },
  {
   "cell_type": "markdown",
   "metadata": {},
   "source": [
    "**Exercise** Assign to `wss` the within cluster sum of squared (WSS) errors."
   ]
  },
  {
   "cell_type": "code",
   "execution_count": null,
   "metadata": {
    "ExecuteTime": {
     "end_time": "2021-03-16T13:42:26.492941Z",
     "start_time": "2021-03-16T13:42:26.469639Z"
    },
    "deletable": false,
    "nbgrader": {
     "cell_type": "code",
     "checksum": "10162ca466fe227af22cb874f7e44ac6",
     "grade": false,
     "grade_id": "wss",
     "locked": false,
     "schema_version": 3,
     "solution": true,
     "task": false
    }
   },
   "outputs": [],
   "source": [
    "# YOUR CODE HERE\n",
    "raise NotImplementedError()\n",
    "wss"
   ]
  },
  {
   "cell_type": "code",
   "execution_count": null,
   "metadata": {
    "ExecuteTime": {
     "end_time": "2021-03-16T13:42:26.498780Z",
     "start_time": "2021-03-16T13:42:26.495668Z"
    },
    "deletable": false,
    "editable": false,
    "nbgrader": {
     "cell_type": "code",
     "checksum": "3ee59593d9215c32272b4fafcf47ac3c",
     "grade": true,
     "grade_id": "test-wss",
     "locked": true,
     "points": 1,
     "schema_version": 3,
     "solution": false,
     "task": false
    }
   },
   "outputs": [],
   "source": [
    "# tests"
   ]
  },
  {
   "cell_type": "markdown",
   "metadata": {},
   "source": [
    "**Exercise** Complete the DataFrame `df_centroids` to store the cluster centers."
   ]
  },
  {
   "cell_type": "code",
   "execution_count": null,
   "metadata": {
    "ExecuteTime": {
     "end_time": "2021-03-16T13:42:26.520445Z",
     "start_time": "2021-03-16T13:42:26.500772Z"
    },
    "deletable": false,
    "nbgrader": {
     "cell_type": "code",
     "checksum": "6cc79d5764f575df708fbaebe32b5f9e",
     "grade": false,
     "grade_id": "df_centroids",
     "locked": false,
     "schema_version": 3,
     "solution": true,
     "task": false
    }
   },
   "outputs": [],
   "source": [
    "df_centroids = pd.DataFrame(columns=['petallength', 'petalwidth'], dtype=float)\n",
    "# YOUR CODE HERE\n",
    "raise NotImplementedError()\n",
    "df_centroids"
   ]
  },
  {
   "cell_type": "code",
   "execution_count": null,
   "metadata": {
    "ExecuteTime": {
     "end_time": "2021-03-16T13:42:26.525996Z",
     "start_time": "2021-03-16T13:42:26.521836Z"
    },
    "deletable": false,
    "editable": false,
    "nbgrader": {
     "cell_type": "code",
     "checksum": "a916631fd1020a7b0d21274d41d5d202",
     "grade": true,
     "grade_id": "test-df_centroids",
     "locked": true,
     "points": 1,
     "schema_version": 3,
     "solution": false,
     "task": false
    }
   },
   "outputs": [],
   "source": [
    "# tests"
   ]
  },
  {
   "cell_type": "markdown",
   "metadata": {},
   "source": [
    "**Exercise** Right click your result and click `visualize cluster assignments`. (If the item is disabled, check the `Store clusters for visualization` option and rerun the clustering.) Does the $k$-means algorithm appear to return the global optimal solution that minimizes WSS? Can $k$-means algorithm identify the three types of iris?"
   ]
  },
  {
   "cell_type": "markdown",
   "metadata": {
    "deletable": false,
    "editable": false,
    "nbgrader": {
     "cell_type": "markdown",
     "checksum": "1f6078498a02faeb6048edec35918bac",
     "grade": false,
     "grade_id": "kmeans-correctness",
     "locked": true,
     "points": 1,
     "schema_version": 3,
     "solution": false,
     "task": true
    }
   },
   "source": [
    "$k$-means appears to return the global optimal solution by choosing the axes to be `petallength` and `petalwidth`. If we choose the axes to be `cluster` and `class`, it can be seen that the clustering solution identifies Iris-setosa correctly but not the other types of iris."
   ]
  },
  {
   "cell_type": "markdown",
   "metadata": {},
   "source": [
    "**Exercise** Run the same clustering algorithm again but without ignoring the class attribute. To do so, click the `Ignore attributes` button and then the `Cancel` button. Does WSS increase? Why or why not?"
   ]
  },
  {
   "cell_type": "markdown",
   "metadata": {
    "deletable": false,
    "nbgrader": {
     "cell_type": "markdown",
     "checksum": "2567936184a765462f098b695d306a0f",
     "grade": true,
     "grade_id": "class-included",
     "locked": false,
     "points": 1,
     "schema_version": 3,
     "solution": true,
     "task": false
    }
   },
   "source": [
    "YOUR ANSWER HERE"
   ]
  },
  {
   "cell_type": "markdown",
   "metadata": {},
   "source": [
    "**Exercise** Select `Classes to clusters evaluation` as the `cluster mode` instead.  Assign to `error_rate` the fraction (NOT percentage) of incorrectly clustered instances.\n",
    "\n",
    "For `python-weka-wrapper`, see an example [here](https://github.com/fracpete/python-weka-wrapper-examples/blob/master/src/wekaexamples/clusterers/classes_to_clusters.py)."
   ]
  },
  {
   "cell_type": "code",
   "execution_count": null,
   "metadata": {
    "ExecuteTime": {
     "end_time": "2021-03-16T13:42:26.540235Z",
     "start_time": "2021-03-16T13:42:26.528659Z"
    },
    "deletable": false,
    "nbgrader": {
     "cell_type": "code",
     "checksum": "d760a4e354165ede14279871eb692ec8",
     "grade": false,
     "grade_id": "error-rate",
     "locked": false,
     "schema_version": 3,
     "solution": true,
     "task": false
    }
   },
   "outputs": [],
   "source": [
    "# YOUR CODE HERE\n",
    "raise NotImplementedError()\n",
    "error_rate"
   ]
  },
  {
   "cell_type": "code",
   "execution_count": null,
   "metadata": {
    "ExecuteTime": {
     "end_time": "2021-03-16T13:42:26.551531Z",
     "start_time": "2021-03-16T13:42:26.542910Z"
    },
    "deletable": false,
    "editable": false,
    "nbgrader": {
     "cell_type": "code",
     "checksum": "96cc535f48c8bde4433c9fe9ffbf3dde",
     "grade": true,
     "grade_id": "test-error-rate",
     "locked": true,
     "points": 1,
     "schema_version": 3,
     "solution": false,
     "task": false
    }
   },
   "outputs": [],
   "source": [
    "# tests"
   ]
  },
  {
   "cell_type": "markdown",
   "metadata": {},
   "source": [
    "**Exercise** Can you guess how the error rate is calculated?"
   ]
  },
  {
   "cell_type": "markdown",
   "metadata": {
    "deletable": false,
    "nbgrader": {
     "cell_type": "markdown",
     "checksum": "b6d37a157247a1dab47a15a5258b97fb",
     "grade": true,
     "grade_id": "classes-to-clusters",
     "locked": false,
     "points": 1,
     "schema_version": 3,
     "solution": true,
     "task": false
    }
   },
   "source": [
    "YOUR ANSWER HERE"
   ]
  },
  {
   "cell_type": "markdown",
   "metadata": {},
   "source": [
    "## Clustering using scikit-learn"
   ]
  },
  {
   "cell_type": "markdown",
   "metadata": {},
   "source": [
    "We first import the iris dataset from `sklearn.datasets` and store it as a DataFrame."
   ]
  },
  {
   "cell_type": "code",
   "execution_count": null,
   "metadata": {
    "ExecuteTime": {
     "end_time": "2021-03-16T13:42:26.588770Z",
     "start_time": "2021-03-16T13:42:26.554838Z"
    }
   },
   "outputs": [],
   "source": [
    "# load the dataset from sklearn\n",
    "dataset = datasets.load_iris()\n",
    "\n",
    "# create a DataFrame to help further analysis\n",
    "df = pd.DataFrame(data=dataset.data, columns=dataset.feature_names)\n",
    "df['target'] = dataset.target\n",
    "df.target = df.target.astype('category')\n",
    "df.target.cat.categories = dataset.target_names\n",
    "df  # display an overview of the data"
   ]
  },
  {
   "cell_type": "markdown",
   "metadata": {},
   "source": [
    "To normalize the features followed by $k$-means clustering, we create a pipeline as follows:"
   ]
  },
  {
   "cell_type": "code",
   "execution_count": null,
   "metadata": {
    "ExecuteTime": {
     "end_time": "2021-03-16T13:42:26.596719Z",
     "start_time": "2021-03-16T13:42:26.590440Z"
    }
   },
   "outputs": [],
   "source": [
    "from sklearn.cluster import KMeans\n",
    "\n",
    "kmeans_minmax_normalized = make_pipeline(preprocessing.MinMaxScaler(), \n",
    "                                         KMeans(n_clusters=3))\n",
    "kmeans_minmax_normalized"
   ]
  },
  {
   "cell_type": "markdown",
   "metadata": {},
   "source": [
    "To cluster based on the two input features `petal length (cm)` and `petal width (cm)`:"
   ]
  },
  {
   "cell_type": "code",
   "execution_count": null,
   "metadata": {
    "ExecuteTime": {
     "end_time": "2021-03-09T14:04:38.605969Z",
     "start_time": "2021-03-09T14:04:38.193451Z"
    }
   },
   "outputs": [],
   "source": [
    "feature1, feature2 = 'petal length (cm)', 'petal width (cm)'\n",
    "kmeans_minmax_normalized.fit(df[[feature1, feature2]])\n",
    "\n",
    "plt.figure(figsize=(10, 5))\n",
    "\n",
    "plt.subplot(121)\n",
    "plt.scatter(df[feature1],\n",
    "            df[feature2],\n",
    "            c=kmeans_minmax_normalized.predict(df[[feature1, feature2]]))\n",
    "plt.title(\"Cluster assignment\")\n",
    "plt.xlabel(feature1)\n",
    "plt.ylabel(feature2)\n",
    "\n",
    "plt.subplot(122)\n",
    "plt.scatter(df[feature1], df[feature2], c=dataset['target'])\n",
    "plt.title(\"Class (ground truth)\")\n",
    "plt.xlabel(feature1)\n",
    "\n",
    "plt.show()"
   ]
  },
  {
   "cell_type": "markdown",
   "metadata": {},
   "source": [
    "Since clustering is unsupervised, unlike classification,\n",
    "- the `fit` method of `kmeans_minmax_normalized` does not take the target attribute as an argument, and\n",
    "- the `predict` method returns cluster labels that are arbitrary and not associated with the class labels."
   ]
  },
  {
   "cell_type": "markdown",
   "metadata": {},
   "source": [
    "Further details can be obtained from the fitted properties (those with a [trailing underscore](https://github.com/rasbt/python-machine-learning-book/blob/master/faq/underscore-convention.md)):"
   ]
  },
  {
   "cell_type": "code",
   "execution_count": null,
   "metadata": {
    "ExecuteTime": {
     "end_time": "2021-03-09T14:04:42.017023Z",
     "start_time": "2021-03-09T14:04:41.946115Z"
    }
   },
   "outputs": [],
   "source": [
    "kmeans = kmeans_minmax_normalized['kmeans']\n",
    "print('Cluster labels:', *kmeans.labels_)\n",
    "print('Cluster centers:', *kmeans.cluster_centers_)\n",
    "print('WSS:', kmeans.inertia_)\n",
    "print('# iterations:', kmeans.n_iter_)"
   ]
  },
  {
   "cell_type": "markdown",
   "metadata": {},
   "source": [
    "Similar to plotting the decision regions for a classifier, we provide the following function `plot_cluster_regions` in `util` to plot the cluster regions for a clusterer."
   ]
  },
  {
   "cell_type": "code",
   "execution_count": 2,
   "metadata": {
    "ExecuteTime": {
     "end_time": "2021-03-16T14:25:21.944151Z",
     "start_time": "2021-03-16T14:25:21.601170Z"
    },
    "init_cell": true
   },
   "outputs": [
    {
     "data": {
      "text/html": [
       "<style>pre { line-height: 125%; }\n",
       "td.linenos .normal { color: inherit; background-color: transparent; padding-left: 5px; padding-right: 5px; }\n",
       "span.linenos { color: inherit; background-color: transparent; padding-left: 5px; padding-right: 5px; }\n",
       "td.linenos .special { color: #000000; background-color: #ffffc0; padding-left: 5px; padding-right: 5px; }\n",
       "span.linenos.special { color: #000000; background-color: #ffffc0; padding-left: 5px; padding-right: 5px; }\n",
       ".output_html .hll { background-color: #ffffcc }\n",
       ".output_html { background: #f8f8f8; }\n",
       ".output_html .c { color: #408080; font-style: italic } /* Comment */\n",
       ".output_html .err { border: 1px solid #FF0000 } /* Error */\n",
       ".output_html .k { color: #008000; font-weight: bold } /* Keyword */\n",
       ".output_html .o { color: #666666 } /* Operator */\n",
       ".output_html .ch { color: #408080; font-style: italic } /* Comment.Hashbang */\n",
       ".output_html .cm { color: #408080; font-style: italic } /* Comment.Multiline */\n",
       ".output_html .cp { color: #BC7A00 } /* Comment.Preproc */\n",
       ".output_html .cpf { color: #408080; font-style: italic } /* Comment.PreprocFile */\n",
       ".output_html .c1 { color: #408080; font-style: italic } /* Comment.Single */\n",
       ".output_html .cs { color: #408080; font-style: italic } /* Comment.Special */\n",
       ".output_html .gd { color: #A00000 } /* Generic.Deleted */\n",
       ".output_html .ge { font-style: italic } /* Generic.Emph */\n",
       ".output_html .gr { color: #FF0000 } /* Generic.Error */\n",
       ".output_html .gh { color: #000080; font-weight: bold } /* Generic.Heading */\n",
       ".output_html .gi { color: #00A000 } /* Generic.Inserted */\n",
       ".output_html .go { color: #888888 } /* Generic.Output */\n",
       ".output_html .gp { color: #000080; font-weight: bold } /* Generic.Prompt */\n",
       ".output_html .gs { font-weight: bold } /* Generic.Strong */\n",
       ".output_html .gu { color: #800080; font-weight: bold } /* Generic.Subheading */\n",
       ".output_html .gt { color: #0044DD } /* Generic.Traceback */\n",
       ".output_html .kc { color: #008000; font-weight: bold } /* Keyword.Constant */\n",
       ".output_html .kd { color: #008000; font-weight: bold } /* Keyword.Declaration */\n",
       ".output_html .kn { color: #008000; font-weight: bold } /* Keyword.Namespace */\n",
       ".output_html .kp { color: #008000 } /* Keyword.Pseudo */\n",
       ".output_html .kr { color: #008000; font-weight: bold } /* Keyword.Reserved */\n",
       ".output_html .kt { color: #B00040 } /* Keyword.Type */\n",
       ".output_html .m { color: #666666 } /* Literal.Number */\n",
       ".output_html .s { color: #BA2121 } /* Literal.String */\n",
       ".output_html .na { color: #7D9029 } /* Name.Attribute */\n",
       ".output_html .nb { color: #008000 } /* Name.Builtin */\n",
       ".output_html .nc { color: #0000FF; font-weight: bold } /* Name.Class */\n",
       ".output_html .no { color: #880000 } /* Name.Constant */\n",
       ".output_html .nd { color: #AA22FF } /* Name.Decorator */\n",
       ".output_html .ni { color: #999999; font-weight: bold } /* Name.Entity */\n",
       ".output_html .ne { color: #D2413A; font-weight: bold } /* Name.Exception */\n",
       ".output_html .nf { color: #0000FF } /* Name.Function */\n",
       ".output_html .nl { color: #A0A000 } /* Name.Label */\n",
       ".output_html .nn { color: #0000FF; font-weight: bold } /* Name.Namespace */\n",
       ".output_html .nt { color: #008000; font-weight: bold } /* Name.Tag */\n",
       ".output_html .nv { color: #19177C } /* Name.Variable */\n",
       ".output_html .ow { color: #AA22FF; font-weight: bold } /* Operator.Word */\n",
       ".output_html .w { color: #bbbbbb } /* Text.Whitespace */\n",
       ".output_html .mb { color: #666666 } /* Literal.Number.Bin */\n",
       ".output_html .mf { color: #666666 } /* Literal.Number.Float */\n",
       ".output_html .mh { color: #666666 } /* Literal.Number.Hex */\n",
       ".output_html .mi { color: #666666 } /* Literal.Number.Integer */\n",
       ".output_html .mo { color: #666666 } /* Literal.Number.Oct */\n",
       ".output_html .sa { color: #BA2121 } /* Literal.String.Affix */\n",
       ".output_html .sb { color: #BA2121 } /* Literal.String.Backtick */\n",
       ".output_html .sc { color: #BA2121 } /* Literal.String.Char */\n",
       ".output_html .dl { color: #BA2121 } /* Literal.String.Delimiter */\n",
       ".output_html .sd { color: #BA2121; font-style: italic } /* Literal.String.Doc */\n",
       ".output_html .s2 { color: #BA2121 } /* Literal.String.Double */\n",
       ".output_html .se { color: #BB6622; font-weight: bold } /* Literal.String.Escape */\n",
       ".output_html .sh { color: #BA2121 } /* Literal.String.Heredoc */\n",
       ".output_html .si { color: #BB6688; font-weight: bold } /* Literal.String.Interpol */\n",
       ".output_html .sx { color: #008000 } /* Literal.String.Other */\n",
       ".output_html .sr { color: #BB6688 } /* Literal.String.Regex */\n",
       ".output_html .s1 { color: #BA2121 } /* Literal.String.Single */\n",
       ".output_html .ss { color: #19177C } /* Literal.String.Symbol */\n",
       ".output_html .bp { color: #008000 } /* Name.Builtin.Pseudo */\n",
       ".output_html .fm { color: #0000FF } /* Name.Function.Magic */\n",
       ".output_html .vc { color: #19177C } /* Name.Variable.Class */\n",
       ".output_html .vg { color: #19177C } /* Name.Variable.Global */\n",
       ".output_html .vi { color: #19177C } /* Name.Variable.Instance */\n",
       ".output_html .vm { color: #19177C } /* Name.Variable.Magic */\n",
       ".output_html .il { color: #666666 } /* Literal.Number.Integer.Long */</style><div class=\"highlight\"><pre><span></span><span class=\"kn\">from</span> <span class=\"nn\">joblib</span> <span class=\"kn\">import</span> <span class=\"n\">Memory</span> <span class=\"c1\"># for caching</span>\n",
       "<span class=\"kn\">import</span> <span class=\"nn\">matplotlib.pyplot</span> <span class=\"k\">as</span> <span class=\"nn\">plt</span>\n",
       "<span class=\"kn\">import</span> <span class=\"nn\">pandas</span> <span class=\"k\">as</span> <span class=\"nn\">pd</span>\n",
       "<span class=\"kn\">import</span> <span class=\"nn\">numpy</span> <span class=\"k\">as</span> <span class=\"nn\">np</span>\n",
       "<span class=\"kn\">import</span> <span class=\"nn\">os</span>\n",
       "\n",
       "<span class=\"n\">os</span><span class=\"o\">.</span><span class=\"n\">makedirs</span><span class=\"p\">(</span><span class=\"s1\">&#39;private&#39;</span><span class=\"p\">,</span> <span class=\"n\">exist_ok</span><span class=\"o\">=</span><span class=\"kc\">True</span><span class=\"p\">)</span>\n",
       "<span class=\"n\">memory</span> <span class=\"o\">=</span> <span class=\"n\">Memory</span><span class=\"p\">(</span><span class=\"n\">location</span><span class=\"o\">=</span><span class=\"s2\">&quot;private&quot;</span><span class=\"p\">,</span><span class=\"n\">verbose</span><span class=\"o\">=</span><span class=\"mi\">0</span><span class=\"p\">)</span>\n",
       "\n",
       "<span class=\"nd\">@memory</span><span class=\"o\">.</span><span class=\"n\">cache</span>\n",
       "<span class=\"k\">def</span> <span class=\"nf\">plot_cluster_regions</span><span class=\"p\">(</span><span class=\"n\">X</span><span class=\"p\">,</span> <span class=\"n\">Y</span><span class=\"p\">,</span> <span class=\"n\">clusterer</span><span class=\"p\">,</span> <span class=\"n\">target_names</span><span class=\"o\">=</span><span class=\"kc\">None</span><span class=\"p\">,</span> <span class=\"n\">ax</span><span class=\"o\">=</span><span class=\"kc\">None</span><span class=\"p\">,</span> <span class=\"n\">N</span><span class=\"o\">=</span><span class=\"mi\">200</span><span class=\"p\">):</span>\n",
       "    <span class=\"sd\">&quot;&quot;&quot;Plot the cluster regions of a clusterer on a 2D dataset.</span>\n",
       "<span class=\"sd\">    </span>\n",
       "<span class=\"sd\">    Parameters</span>\n",
       "<span class=\"sd\">    ----------</span>\n",
       "<span class=\"sd\">    X (array-like): 2D input features.</span>\n",
       "<span class=\"sd\">    Y (array-like): 1D target values for X.</span>\n",
       "<span class=\"sd\">    clusterer (sklean): A clusterer trained to cluster X.</span>\n",
       "<span class=\"sd\">    target_names (array-like): array of possible target names. If None, infer from Y.</span>\n",
       "<span class=\"sd\">    ax (axis): axis to plot the boundaries.</span>\n",
       "<span class=\"sd\">    N: number of points for each dimension to scan for the decision boundaries.</span>\n",
       "<span class=\"sd\">    </span>\n",
       "<span class=\"sd\">    Return</span>\n",
       "<span class=\"sd\">    ------</span>\n",
       "<span class=\"sd\">    axis: axis for the plot of the decision boundaries</span>\n",
       "<span class=\"sd\">    &quot;&quot;&quot;</span>\n",
       "    <span class=\"k\">def</span> <span class=\"nf\">color</span><span class=\"p\">(</span><span class=\"n\">target_array</span><span class=\"p\">):</span>\n",
       "        <span class=\"k\">return</span> <span class=\"p\">((</span><span class=\"n\">np</span><span class=\"o\">.</span><span class=\"n\">asarray</span><span class=\"p\">(</span><span class=\"n\">target_array</span><span class=\"p\">)</span><span class=\"o\">.</span><span class=\"n\">reshape</span><span class=\"p\">(</span><span class=\"o\">-</span><span class=\"mi\">1</span><span class=\"p\">,</span> <span class=\"mi\">1</span><span class=\"p\">)</span> <span class=\"o\">==</span> <span class=\"n\">target_names</span><span class=\"o\">.</span><span class=\"n\">reshape</span><span class=\"p\">(</span><span class=\"mi\">1</span><span class=\"p\">,</span> <span class=\"o\">-</span><span class=\"mi\">1</span><span class=\"p\">))</span> <span class=\"o\">*</span>\n",
       "                <span class=\"n\">np</span><span class=\"o\">.</span><span class=\"n\">arange</span><span class=\"p\">(</span><span class=\"nb\">len</span><span class=\"p\">(</span><span class=\"n\">target_names</span><span class=\"p\">))</span><span class=\"o\">.</span><span class=\"n\">reshape</span><span class=\"p\">(</span><span class=\"mi\">1</span><span class=\"p\">,</span> <span class=\"o\">-</span><span class=\"mi\">1</span><span class=\"p\">))</span><span class=\"o\">.</span><span class=\"n\">sum</span><span class=\"p\">(</span><span class=\"n\">axis</span><span class=\"o\">=-</span><span class=\"mi\">1</span><span class=\"p\">)</span>\n",
       "    \n",
       "    <span class=\"k\">if</span> <span class=\"n\">ax</span> <span class=\"ow\">is</span> <span class=\"kc\">None</span><span class=\"p\">:</span>\n",
       "        <span class=\"n\">ax</span> <span class=\"o\">=</span> <span class=\"n\">plt</span><span class=\"o\">.</span><span class=\"n\">gca</span><span class=\"p\">()</span>\n",
       "\n",
       "    <span class=\"n\">X_</span><span class=\"p\">,</span> <span class=\"n\">Y_</span> <span class=\"o\">=</span> <span class=\"n\">np</span><span class=\"o\">.</span><span class=\"n\">asarray</span><span class=\"p\">(</span><span class=\"n\">X</span><span class=\"p\">),</span> <span class=\"n\">np</span><span class=\"o\">.</span><span class=\"n\">asarray</span><span class=\"p\">(</span><span class=\"n\">Y</span><span class=\"p\">)</span>\n",
       "\n",
       "    <span class=\"n\">X_min</span> <span class=\"o\">=</span> <span class=\"n\">X_</span><span class=\"o\">.</span><span class=\"n\">min</span><span class=\"p\">(</span><span class=\"n\">axis</span><span class=\"o\">=</span><span class=\"mi\">0</span><span class=\"p\">)</span>\n",
       "    <span class=\"n\">X_max</span> <span class=\"o\">=</span> <span class=\"n\">X_</span><span class=\"o\">.</span><span class=\"n\">max</span><span class=\"p\">(</span><span class=\"n\">axis</span><span class=\"o\">=</span><span class=\"mi\">0</span><span class=\"p\">)</span>\n",
       "    <span class=\"n\">x1</span><span class=\"p\">,</span> <span class=\"n\">x2</span> <span class=\"o\">=</span> <span class=\"n\">np</span><span class=\"o\">.</span><span class=\"n\">meshgrid</span><span class=\"p\">(</span><span class=\"n\">np</span><span class=\"o\">.</span><span class=\"n\">linspace</span><span class=\"p\">(</span><span class=\"n\">X_min</span><span class=\"p\">[</span><span class=\"mi\">0</span><span class=\"p\">],</span> <span class=\"n\">X_max</span><span class=\"p\">[</span><span class=\"mi\">0</span><span class=\"p\">],</span> <span class=\"n\">N</span><span class=\"p\">),</span>\n",
       "                         <span class=\"n\">np</span><span class=\"o\">.</span><span class=\"n\">linspace</span><span class=\"p\">(</span><span class=\"n\">X_min</span><span class=\"p\">[</span><span class=\"mi\">1</span><span class=\"p\">],</span> <span class=\"n\">X_max</span><span class=\"p\">[</span><span class=\"mi\">1</span><span class=\"p\">],</span> <span class=\"n\">N</span><span class=\"p\">))</span>\n",
       "\n",
       "    <span class=\"k\">if</span> <span class=\"n\">target_names</span> <span class=\"ow\">is</span> <span class=\"kc\">None</span><span class=\"p\">:</span>\n",
       "        <span class=\"n\">target_names</span> <span class=\"o\">=</span> <span class=\"n\">np</span><span class=\"o\">.</span><span class=\"n\">unique</span><span class=\"p\">(</span><span class=\"n\">Y_</span><span class=\"p\">)</span>\n",
       "\n",
       "    <span class=\"n\">c</span> <span class=\"o\">=</span> <span class=\"n\">color</span><span class=\"p\">(</span><span class=\"n\">Y_</span><span class=\"p\">)</span>\n",
       "    <span class=\"n\">yhat</span> <span class=\"o\">=</span> <span class=\"n\">clusterer</span><span class=\"o\">.</span><span class=\"n\">predict</span><span class=\"p\">(</span><span class=\"n\">np</span><span class=\"o\">.</span><span class=\"n\">c_</span><span class=\"p\">[</span><span class=\"n\">x1</span><span class=\"o\">.</span><span class=\"n\">ravel</span><span class=\"p\">(),</span> <span class=\"n\">x2</span><span class=\"o\">.</span><span class=\"n\">ravel</span><span class=\"p\">()])</span><span class=\"o\">.</span><span class=\"n\">reshape</span><span class=\"p\">(</span><span class=\"n\">x1</span><span class=\"o\">.</span><span class=\"n\">shape</span><span class=\"p\">)</span> \n",
       "    \n",
       "    <span class=\"n\">ax</span><span class=\"o\">.</span><span class=\"n\">contourf</span><span class=\"p\">(</span><span class=\"n\">x1</span><span class=\"p\">,</span> <span class=\"n\">x2</span><span class=\"p\">,</span> <span class=\"n\">yhat</span><span class=\"p\">,</span> <span class=\"n\">alpha</span><span class=\"o\">=</span><span class=\"mf\">0.4</span><span class=\"p\">)</span>\n",
       "    <span class=\"n\">scatter</span> <span class=\"o\">=</span> <span class=\"n\">ax</span><span class=\"o\">.</span><span class=\"n\">scatter</span><span class=\"p\">(</span><span class=\"n\">X_</span><span class=\"p\">[:,</span> <span class=\"mi\">0</span><span class=\"p\">],</span> <span class=\"n\">X_</span><span class=\"p\">[:,</span> <span class=\"mi\">1</span><span class=\"p\">],</span> <span class=\"n\">c</span><span class=\"o\">=</span><span class=\"n\">c</span><span class=\"p\">,</span> <span class=\"n\">edgecolor</span><span class=\"o\">=</span><span class=\"s1\">&#39;w&#39;</span><span class=\"p\">,</span> <span class=\"n\">s</span><span class=\"o\">=</span><span class=\"mi\">20</span><span class=\"p\">)</span>\n",
       "    <span class=\"n\">ax</span><span class=\"o\">.</span><span class=\"n\">set_xlim</span><span class=\"p\">(</span><span class=\"n\">X_min</span><span class=\"p\">[</span><span class=\"mi\">0</span><span class=\"p\">],</span> <span class=\"n\">X_max</span><span class=\"p\">[</span><span class=\"mi\">0</span><span class=\"p\">])</span>\n",
       "    <span class=\"n\">ax</span><span class=\"o\">.</span><span class=\"n\">set_ylim</span><span class=\"p\">(</span><span class=\"n\">X_min</span><span class=\"p\">[</span><span class=\"mi\">1</span><span class=\"p\">],</span> <span class=\"n\">X_max</span><span class=\"p\">[</span><span class=\"mi\">1</span><span class=\"p\">])</span>\n",
       "    <span class=\"n\">ax</span><span class=\"o\">.</span><span class=\"n\">add_artist</span><span class=\"p\">(</span>\n",
       "        <span class=\"n\">ax</span><span class=\"o\">.</span><span class=\"n\">legend</span><span class=\"p\">(</span><span class=\"n\">scatter</span><span class=\"o\">.</span><span class=\"n\">legend_elements</span><span class=\"p\">()[</span><span class=\"mi\">0</span><span class=\"p\">],</span>\n",
       "                  <span class=\"n\">target_names</span><span class=\"p\">,</span>\n",
       "                  <span class=\"n\">loc</span><span class=\"o\">=</span><span class=\"s2\">&quot;upper left&quot;</span><span class=\"p\">,</span>\n",
       "                  <span class=\"n\">title</span><span class=\"o\">=</span><span class=\"s2\">&quot;Classes&quot;</span><span class=\"p\">))</span>\n",
       "    <span class=\"k\">return</span> <span class=\"n\">ax</span>\n",
       "</pre></div>\n"
      ],
      "text/latex": [
       "\\begin{Verbatim}[commandchars=\\\\\\{\\}]\n",
       "\\PY{k+kn}{from} \\PY{n+nn}{joblib} \\PY{k+kn}{import} \\PY{n}{Memory} \\PY{c+c1}{\\PYZsh{} for caching}\n",
       "\\PY{k+kn}{import} \\PY{n+nn}{matplotlib}\\PY{n+nn}{.}\\PY{n+nn}{pyplot} \\PY{k}{as} \\PY{n+nn}{plt}\n",
       "\\PY{k+kn}{import} \\PY{n+nn}{pandas} \\PY{k}{as} \\PY{n+nn}{pd}\n",
       "\\PY{k+kn}{import} \\PY{n+nn}{numpy} \\PY{k}{as} \\PY{n+nn}{np}\n",
       "\\PY{k+kn}{import} \\PY{n+nn}{os}\n",
       "\n",
       "\\PY{n}{os}\\PY{o}{.}\\PY{n}{makedirs}\\PY{p}{(}\\PY{l+s+s1}{\\PYZsq{}}\\PY{l+s+s1}{private}\\PY{l+s+s1}{\\PYZsq{}}\\PY{p}{,} \\PY{n}{exist\\PYZus{}ok}\\PY{o}{=}\\PY{k+kc}{True}\\PY{p}{)}\n",
       "\\PY{n}{memory} \\PY{o}{=} \\PY{n}{Memory}\\PY{p}{(}\\PY{n}{location}\\PY{o}{=}\\PY{l+s+s2}{\\PYZdq{}}\\PY{l+s+s2}{private}\\PY{l+s+s2}{\\PYZdq{}}\\PY{p}{,}\\PY{n}{verbose}\\PY{o}{=}\\PY{l+m+mi}{0}\\PY{p}{)}\n",
       "\n",
       "\\PY{n+nd}{@memory}\\PY{o}{.}\\PY{n}{cache}\n",
       "\\PY{k}{def} \\PY{n+nf}{plot\\PYZus{}cluster\\PYZus{}regions}\\PY{p}{(}\\PY{n}{X}\\PY{p}{,} \\PY{n}{Y}\\PY{p}{,} \\PY{n}{clusterer}\\PY{p}{,} \\PY{n}{target\\PYZus{}names}\\PY{o}{=}\\PY{k+kc}{None}\\PY{p}{,} \\PY{n}{ax}\\PY{o}{=}\\PY{k+kc}{None}\\PY{p}{,} \\PY{n}{N}\\PY{o}{=}\\PY{l+m+mi}{200}\\PY{p}{)}\\PY{p}{:}\n",
       "    \\PY{l+s+sd}{\\PYZdq{}\\PYZdq{}\\PYZdq{}Plot the cluster regions of a clusterer on a 2D dataset.}\n",
       "\\PY{l+s+sd}{    }\n",
       "\\PY{l+s+sd}{    Parameters}\n",
       "\\PY{l+s+sd}{    \\PYZhy{}\\PYZhy{}\\PYZhy{}\\PYZhy{}\\PYZhy{}\\PYZhy{}\\PYZhy{}\\PYZhy{}\\PYZhy{}\\PYZhy{}}\n",
       "\\PY{l+s+sd}{    X (array\\PYZhy{}like): 2D input features.}\n",
       "\\PY{l+s+sd}{    Y (array\\PYZhy{}like): 1D target values for X.}\n",
       "\\PY{l+s+sd}{    clusterer (sklean): A clusterer trained to cluster X.}\n",
       "\\PY{l+s+sd}{    target\\PYZus{}names (array\\PYZhy{}like): array of possible target names. If None, infer from Y.}\n",
       "\\PY{l+s+sd}{    ax (axis): axis to plot the boundaries.}\n",
       "\\PY{l+s+sd}{    N: number of points for each dimension to scan for the decision boundaries.}\n",
       "\\PY{l+s+sd}{    }\n",
       "\\PY{l+s+sd}{    Return}\n",
       "\\PY{l+s+sd}{    \\PYZhy{}\\PYZhy{}\\PYZhy{}\\PYZhy{}\\PYZhy{}\\PYZhy{}}\n",
       "\\PY{l+s+sd}{    axis: axis for the plot of the decision boundaries}\n",
       "\\PY{l+s+sd}{    \\PYZdq{}\\PYZdq{}\\PYZdq{}}\n",
       "    \\PY{k}{def} \\PY{n+nf}{color}\\PY{p}{(}\\PY{n}{target\\PYZus{}array}\\PY{p}{)}\\PY{p}{:}\n",
       "        \\PY{k}{return} \\PY{p}{(}\\PY{p}{(}\\PY{n}{np}\\PY{o}{.}\\PY{n}{asarray}\\PY{p}{(}\\PY{n}{target\\PYZus{}array}\\PY{p}{)}\\PY{o}{.}\\PY{n}{reshape}\\PY{p}{(}\\PY{o}{\\PYZhy{}}\\PY{l+m+mi}{1}\\PY{p}{,} \\PY{l+m+mi}{1}\\PY{p}{)} \\PY{o}{==} \\PY{n}{target\\PYZus{}names}\\PY{o}{.}\\PY{n}{reshape}\\PY{p}{(}\\PY{l+m+mi}{1}\\PY{p}{,} \\PY{o}{\\PYZhy{}}\\PY{l+m+mi}{1}\\PY{p}{)}\\PY{p}{)} \\PY{o}{*}\n",
       "                \\PY{n}{np}\\PY{o}{.}\\PY{n}{arange}\\PY{p}{(}\\PY{n+nb}{len}\\PY{p}{(}\\PY{n}{target\\PYZus{}names}\\PY{p}{)}\\PY{p}{)}\\PY{o}{.}\\PY{n}{reshape}\\PY{p}{(}\\PY{l+m+mi}{1}\\PY{p}{,} \\PY{o}{\\PYZhy{}}\\PY{l+m+mi}{1}\\PY{p}{)}\\PY{p}{)}\\PY{o}{.}\\PY{n}{sum}\\PY{p}{(}\\PY{n}{axis}\\PY{o}{=}\\PY{o}{\\PYZhy{}}\\PY{l+m+mi}{1}\\PY{p}{)}\n",
       "    \n",
       "    \\PY{k}{if} \\PY{n}{ax} \\PY{o+ow}{is} \\PY{k+kc}{None}\\PY{p}{:}\n",
       "        \\PY{n}{ax} \\PY{o}{=} \\PY{n}{plt}\\PY{o}{.}\\PY{n}{gca}\\PY{p}{(}\\PY{p}{)}\n",
       "\n",
       "    \\PY{n}{X\\PYZus{}}\\PY{p}{,} \\PY{n}{Y\\PYZus{}} \\PY{o}{=} \\PY{n}{np}\\PY{o}{.}\\PY{n}{asarray}\\PY{p}{(}\\PY{n}{X}\\PY{p}{)}\\PY{p}{,} \\PY{n}{np}\\PY{o}{.}\\PY{n}{asarray}\\PY{p}{(}\\PY{n}{Y}\\PY{p}{)}\n",
       "\n",
       "    \\PY{n}{X\\PYZus{}min} \\PY{o}{=} \\PY{n}{X\\PYZus{}}\\PY{o}{.}\\PY{n}{min}\\PY{p}{(}\\PY{n}{axis}\\PY{o}{=}\\PY{l+m+mi}{0}\\PY{p}{)}\n",
       "    \\PY{n}{X\\PYZus{}max} \\PY{o}{=} \\PY{n}{X\\PYZus{}}\\PY{o}{.}\\PY{n}{max}\\PY{p}{(}\\PY{n}{axis}\\PY{o}{=}\\PY{l+m+mi}{0}\\PY{p}{)}\n",
       "    \\PY{n}{x1}\\PY{p}{,} \\PY{n}{x2} \\PY{o}{=} \\PY{n}{np}\\PY{o}{.}\\PY{n}{meshgrid}\\PY{p}{(}\\PY{n}{np}\\PY{o}{.}\\PY{n}{linspace}\\PY{p}{(}\\PY{n}{X\\PYZus{}min}\\PY{p}{[}\\PY{l+m+mi}{0}\\PY{p}{]}\\PY{p}{,} \\PY{n}{X\\PYZus{}max}\\PY{p}{[}\\PY{l+m+mi}{0}\\PY{p}{]}\\PY{p}{,} \\PY{n}{N}\\PY{p}{)}\\PY{p}{,}\n",
       "                         \\PY{n}{np}\\PY{o}{.}\\PY{n}{linspace}\\PY{p}{(}\\PY{n}{X\\PYZus{}min}\\PY{p}{[}\\PY{l+m+mi}{1}\\PY{p}{]}\\PY{p}{,} \\PY{n}{X\\PYZus{}max}\\PY{p}{[}\\PY{l+m+mi}{1}\\PY{p}{]}\\PY{p}{,} \\PY{n}{N}\\PY{p}{)}\\PY{p}{)}\n",
       "\n",
       "    \\PY{k}{if} \\PY{n}{target\\PYZus{}names} \\PY{o+ow}{is} \\PY{k+kc}{None}\\PY{p}{:}\n",
       "        \\PY{n}{target\\PYZus{}names} \\PY{o}{=} \\PY{n}{np}\\PY{o}{.}\\PY{n}{unique}\\PY{p}{(}\\PY{n}{Y\\PYZus{}}\\PY{p}{)}\n",
       "\n",
       "    \\PY{n}{c} \\PY{o}{=} \\PY{n}{color}\\PY{p}{(}\\PY{n}{Y\\PYZus{}}\\PY{p}{)}\n",
       "    \\PY{n}{yhat} \\PY{o}{=} \\PY{n}{clusterer}\\PY{o}{.}\\PY{n}{predict}\\PY{p}{(}\\PY{n}{np}\\PY{o}{.}\\PY{n}{c\\PYZus{}}\\PY{p}{[}\\PY{n}{x1}\\PY{o}{.}\\PY{n}{ravel}\\PY{p}{(}\\PY{p}{)}\\PY{p}{,} \\PY{n}{x2}\\PY{o}{.}\\PY{n}{ravel}\\PY{p}{(}\\PY{p}{)}\\PY{p}{]}\\PY{p}{)}\\PY{o}{.}\\PY{n}{reshape}\\PY{p}{(}\\PY{n}{x1}\\PY{o}{.}\\PY{n}{shape}\\PY{p}{)} \n",
       "    \n",
       "    \\PY{n}{ax}\\PY{o}{.}\\PY{n}{contourf}\\PY{p}{(}\\PY{n}{x1}\\PY{p}{,} \\PY{n}{x2}\\PY{p}{,} \\PY{n}{yhat}\\PY{p}{,} \\PY{n}{alpha}\\PY{o}{=}\\PY{l+m+mf}{0.4}\\PY{p}{)}\n",
       "    \\PY{n}{scatter} \\PY{o}{=} \\PY{n}{ax}\\PY{o}{.}\\PY{n}{scatter}\\PY{p}{(}\\PY{n}{X\\PYZus{}}\\PY{p}{[}\\PY{p}{:}\\PY{p}{,} \\PY{l+m+mi}{0}\\PY{p}{]}\\PY{p}{,} \\PY{n}{X\\PYZus{}}\\PY{p}{[}\\PY{p}{:}\\PY{p}{,} \\PY{l+m+mi}{1}\\PY{p}{]}\\PY{p}{,} \\PY{n}{c}\\PY{o}{=}\\PY{n}{c}\\PY{p}{,} \\PY{n}{edgecolor}\\PY{o}{=}\\PY{l+s+s1}{\\PYZsq{}}\\PY{l+s+s1}{w}\\PY{l+s+s1}{\\PYZsq{}}\\PY{p}{,} \\PY{n}{s}\\PY{o}{=}\\PY{l+m+mi}{20}\\PY{p}{)}\n",
       "    \\PY{n}{ax}\\PY{o}{.}\\PY{n}{set\\PYZus{}xlim}\\PY{p}{(}\\PY{n}{X\\PYZus{}min}\\PY{p}{[}\\PY{l+m+mi}{0}\\PY{p}{]}\\PY{p}{,} \\PY{n}{X\\PYZus{}max}\\PY{p}{[}\\PY{l+m+mi}{0}\\PY{p}{]}\\PY{p}{)}\n",
       "    \\PY{n}{ax}\\PY{o}{.}\\PY{n}{set\\PYZus{}ylim}\\PY{p}{(}\\PY{n}{X\\PYZus{}min}\\PY{p}{[}\\PY{l+m+mi}{1}\\PY{p}{]}\\PY{p}{,} \\PY{n}{X\\PYZus{}max}\\PY{p}{[}\\PY{l+m+mi}{1}\\PY{p}{]}\\PY{p}{)}\n",
       "    \\PY{n}{ax}\\PY{o}{.}\\PY{n}{add\\PYZus{}artist}\\PY{p}{(}\n",
       "        \\PY{n}{ax}\\PY{o}{.}\\PY{n}{legend}\\PY{p}{(}\\PY{n}{scatter}\\PY{o}{.}\\PY{n}{legend\\PYZus{}elements}\\PY{p}{(}\\PY{p}{)}\\PY{p}{[}\\PY{l+m+mi}{0}\\PY{p}{]}\\PY{p}{,}\n",
       "                  \\PY{n}{target\\PYZus{}names}\\PY{p}{,}\n",
       "                  \\PY{n}{loc}\\PY{o}{=}\\PY{l+s+s2}{\\PYZdq{}}\\PY{l+s+s2}{upper left}\\PY{l+s+s2}{\\PYZdq{}}\\PY{p}{,}\n",
       "                  \\PY{n}{title}\\PY{o}{=}\\PY{l+s+s2}{\\PYZdq{}}\\PY{l+s+s2}{Classes}\\PY{l+s+s2}{\\PYZdq{}}\\PY{p}{)}\\PY{p}{)}\n",
       "    \\PY{k}{return} \\PY{n}{ax}\n",
       "\\end{Verbatim}\n"
      ],
      "text/plain": [
       "from joblib import Memory # for caching\n",
       "import matplotlib.pyplot as plt\n",
       "import pandas as pd\n",
       "import numpy as np\n",
       "import os\n",
       "\n",
       "os.makedirs('private', exist_ok=True)\n",
       "memory = Memory(location=\"private\",verbose=0)\n",
       "\n",
       "@memory.cache\n",
       "def plot_cluster_regions(X, Y, clusterer, target_names=None, ax=None, N=200):\n",
       "    \"\"\"Plot the cluster regions of a clusterer on a 2D dataset.\n",
       "    \n",
       "    Parameters\n",
       "    ----------\n",
       "    X (array-like): 2D input features.\n",
       "    Y (array-like): 1D target values for X.\n",
       "    clusterer (sklean): A clusterer trained to cluster X.\n",
       "    target_names (array-like): array of possible target names. If None, infer from Y.\n",
       "    ax (axis): axis to plot the boundaries.\n",
       "    N: number of points for each dimension to scan for the decision boundaries.\n",
       "    \n",
       "    Return\n",
       "    ------\n",
       "    axis: axis for the plot of the decision boundaries\n",
       "    \"\"\"\n",
       "    def color(target_array):\n",
       "        return ((np.asarray(target_array).reshape(-1, 1) == target_names.reshape(1, -1)) *\n",
       "                np.arange(len(target_names)).reshape(1, -1)).sum(axis=-1)\n",
       "    \n",
       "    if ax is None:\n",
       "        ax = plt.gca()\n",
       "\n",
       "    X_, Y_ = np.asarray(X), np.asarray(Y)\n",
       "\n",
       "    X_min = X_.min(axis=0)\n",
       "    X_max = X_.max(axis=0)\n",
       "    x1, x2 = np.meshgrid(np.linspace(X_min[0], X_max[0], N),\n",
       "                         np.linspace(X_min[1], X_max[1], N))\n",
       "\n",
       "    if target_names is None:\n",
       "        target_names = np.unique(Y_)\n",
       "\n",
       "    c = color(Y_)\n",
       "    yhat = clusterer.predict(np.c_[x1.ravel(), x2.ravel()]).reshape(x1.shape) \n",
       "    \n",
       "    ax.contourf(x1, x2, yhat, alpha=0.4)\n",
       "    scatter = ax.scatter(X_[:, 0], X_[:, 1], c=c, edgecolor='w', s=20)\n",
       "    ax.set_xlim(X_min[0], X_max[0])\n",
       "    ax.set_ylim(X_min[1], X_max[1])\n",
       "    ax.add_artist(\n",
       "        ax.legend(scatter.legend_elements()[0],\n",
       "                  target_names,\n",
       "                  loc=\"upper left\",\n",
       "                  title=\"Classes\"))\n",
       "    return ax"
      ]
     },
     "execution_count": 2,
     "metadata": {},
     "output_type": "execute_result"
    }
   ],
   "source": [
    "Code(filename='util.py')"
   ]
  },
  {
   "cell_type": "markdown",
   "metadata": {
    "deletable": false,
    "editable": false,
    "nbgrader": {
     "cell_type": "markdown",
     "checksum": "682e017e3ddeb1a205ecbc18aee8b1ae",
     "grade": false,
     "grade_id": "task-kmeans",
     "locked": true,
     "points": 1,
     "schema_version": 3,
     "solution": false,
     "task": true
    }
   },
   "source": [
    "**Exercise** Complete the following code to assign to `kmeans` a trained and piplined $k$-means clusterer that \n",
    "- normalizes the features according to the method specified by `normalization`, and\n",
    "- clusters the instances of features specified by `feature1` and `feature2` into `k` clusters.\n",
    "\n",
    "Observe the change in the clustering solution when you change the normalization, features, and number of clusters."
   ]
  },
  {
   "cell_type": "code",
   "execution_count": null,
   "metadata": {
    "ExecuteTime": {
     "end_time": "2021-03-09T14:05:17.093042Z",
     "start_time": "2021-03-09T14:05:16.436717Z"
    },
    "deletable": false,
    "nbgrader": {
     "cell_type": "code",
     "checksum": "0871a788974fc0bbec8c601635688085",
     "grade": false,
     "grade_id": "kmeans",
     "locked": false,
     "schema_version": 3,
     "solution": true,
     "task": false
    }
   },
   "outputs": [],
   "source": [
    "from util import plot_cluster_regions\n",
    "\n",
    "\n",
    "@interact(normalization=['None', 'Min-max', 'Standard'],\n",
    "          feature1=dataset.feature_names,\n",
    "          feature2=dataset.feature_names,\n",
    "          k=widgets.IntSlider(3, 1, 4, continuous_update=False),\n",
    "          resolution=widgets.IntSlider(1, 1, 4, continuous_update=False))\n",
    "def cluster_regions_kmeans(normalization,\n",
    "                           feature1=dataset.feature_names[2],\n",
    "                           feature2=dataset.feature_names[3],\n",
    "                           k=3,\n",
    "                           resolution=1):\n",
    "\n",
    "    scaler = {\n",
    "        'Min-max': preprocessing.MinMaxScaler,\n",
    "        'Standard': preprocessing.StandardScaler\n",
    "    }\n",
    "    # YOUR CODE HERE\n",
    "    raise NotImplementedError()\n",
    "    plt.figure(figsize=(10, 10))\n",
    "    ax = plot_cluster_regions(df[[feature1, feature2]],\n",
    "                              df.target,\n",
    "                              kmeans,\n",
    "                              N=resolution * 100)\n",
    "    ax.set_title('Cluster regions for k-means clustering')\n",
    "    ax.set_xlabel(feature1)\n",
    "    ax.set_ylabel(feature2)"
   ]
  }
 ],
 "metadata": {
  "kernelspec": {
   "display_name": "Python 3",
   "language": "python",
   "name": "python3"
  },
  "language_info": {
   "codemirror_mode": {
    "name": "ipython",
    "version": 3
   },
   "file_extension": ".py",
   "mimetype": "text/x-python",
   "name": "python",
   "nbconvert_exporter": "python",
   "pygments_lexer": "ipython3",
   "version": "3.7.9"
  },
  "rise": {
   "enable_chalkboard": true,
   "scroll": true,
   "theme": "beige"
  },
  "toc": {
   "base_numbering": 1,
   "nav_menu": {},
   "number_sections": true,
   "sideBar": true,
   "skip_h1_title": true,
   "title_cell": "Table of Contents",
   "title_sidebar": "Contents",
   "toc_cell": false,
   "toc_position": {},
   "toc_section_display": true,
   "toc_window_display": false
  }
 },
 "nbformat": 4,
 "nbformat_minor": 4
}
