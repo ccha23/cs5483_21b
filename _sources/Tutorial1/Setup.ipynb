{
 "cells": [
  {
   "cell_type": "markdown",
   "metadata": {
    "slideshow": {
     "slide_type": "slide"
    }
   },
   "source": [
    "# Setup"
   ]
  },
  {
   "cell_type": "markdown",
   "metadata": {
    "slideshow": {
     "slide_type": "-"
    },
    "tags": [
     "remove-cell"
    ]
   },
   "source": [
    "**CS5483 Data Warehousing and Data Mining**\n",
    "___"
   ]
  },
  {
   "cell_type": "code",
   "execution_count": null,
   "metadata": {
    "ExecuteTime": {
     "end_time": "2021-01-13T09:23:10.642381Z",
     "start_time": "2021-01-13T09:23:10.373877Z"
    },
    "init_cell": true,
    "slideshow": {
     "slide_type": "subslide"
    }
   },
   "outputs": [],
   "source": [
    "%reset -f\n",
    "from IPython import display"
   ]
  },
  {
   "cell_type": "markdown",
   "metadata": {
    "slideshow": {
     "slide_type": "slide"
    }
   },
   "source": [
    "## JupyterHub"
   ]
  },
  {
   "cell_type": "markdown",
   "metadata": {
    "slideshow": {
     "slide_type": "subslide"
    }
   },
   "source": [
    "### How to access the JupyterHub Server?"
   ]
  },
  {
   "cell_type": "markdown",
   "metadata": {
    "slideshow": {
     "slide_type": "fragment"
    }
   },
   "source": [
    "1. Enter the url of the Jupyterhub server [ltjh.cs.cityu.edu.hk](https://ltjh.cs.cityu.edu.hk) in a web browser.\n",
    "1. Enter your [EID](https://www.cityu.edu.hk/esu/eid.htm) and Password in the fields `Username` and `Password` respectively.\n",
    "1. Click the `Sign In` button."
   ]
  },
  {
   "cell_type": "markdown",
   "metadata": {
    "slideshow": {
     "slide_type": "subslide"
    }
   },
   "source": [
    "**Tips**\n",
    "- If the browser is stuck at the following page loading the server, `refresh` your browser.  \n",
    "  ![server stuck](https://www.cs.cityu.edu.hk/~ccha23/cs1302/server_stuck.png)\n",
    "- If you see the following page with ``My Server`` button, click on that button.  \n",
    "  ![server start](https://www.cs.cityu.edu.hk/~ccha23/cs1302/server_start.png)\n",
    "- If you see the ``Start My Server`` button instead, click on that button to start your server.  \n",
    "  ![server stopped](https://www.cs.cityu.edu.hk/~ccha23/cs1302/server_stopped.png)\n",
    "- For other issues, try logging out using the `Logout` button at the top right-hand corner, and then logging in again. You may also click the `Control Panel` button and restart your server."
   ]
  },
  {
   "cell_type": "markdown",
   "metadata": {
    "slideshow": {
     "slide_type": "slide"
    }
   },
   "source": [
    "### How to access course notebooks?"
   ]
  },
  {
   "cell_type": "markdown",
   "metadata": {
    "slideshow": {
     "slide_type": "fragment"
    }
   },
   "source": [
    "The preferred method (with version control built-in) is to \n",
    "1. go to the [course homepage](https://www.cs.cityu.edu.hk/~ccha23/cs5483/), and \n",
    "1. click a link with the notebook extension (*.ipynb) to open the notebook. \n",
    "\n",
    "This uses [nbgitpuller][nbgitpuller] to pull the most updated version automatically from the GitHub repository:  \n",
    "\n",
    "- Jupyter Book: <https://ccha23.github.io/cs5483>\n",
    "\n",
    "where you may also choose to open the notebook in CoLab as a backup.\n",
    "\n",
    "[nbgitpuller]: https://jupyterhub.github.io/nbgitpuller"
   ]
  },
  {
   "cell_type": "code",
   "execution_count": null,
   "metadata": {
    "ExecuteTime": {
     "end_time": "2021-01-13T09:23:10.649308Z",
     "start_time": "2021-01-13T09:23:10.643853Z"
    },
    "init_cell": true,
    "slideshow": {
     "slide_type": "-"
    },
    "tags": [
     "hide-input"
    ]
   },
   "outputs": [],
   "source": [
    "display.IFrame(src=\"https://cityuhk-lms.ap.panopto.com/Panopto/Pages/Embed.aspx?id=e1fad469-56cf-47d0-9a26-acae003c70fe&autoplay=false&offerviewer=true&showtitle=true&showbrand=false&start=0&interactivity=all\",height=450,width=800)"
   ]
  },
  {
   "cell_type": "markdown",
   "metadata": {
    "slideshow": {
     "slide_type": "fragment"
    }
   },
   "source": [
    "Alternatively, you can also fetch a notebook in the classic notebook interface as follows. Unlike the previous method, this does not refetch and merge changes:\n",
    "\n",
    "1. Click the `Assignments` tab, and ensure the correct course code is chosen in the drop down list.\n",
    "1. In the `Released assignments` panel, click the button `Fetch` to download an assignment, if any. \n",
    "1. If the assignment has been fetched, it should appear in the `Downloaded assignments` panel. \n",
    "1. Click the arrow next to the assignment to show its content.  \n",
    "1. Click each item to open the corresponding notebook."
   ]
  },
  {
   "cell_type": "markdown",
   "metadata": {
    "slideshow": {
     "slide_type": "fragment"
    }
   },
   "source": [
    "**Tips**\n",
    "- Note that all the downloaded course materials will be placed under a folder (named by the course code) in your home directory, so you need not go to the `Assignments` tab again to open the downloaded materials. \n",
    "E.g., you can access the notebook as follows:\n",
    "    1. Going to the `File` tab, which is the default JupyterHub homepage after login or when you click the logo on the top left-hand corner.\n",
    "    1. Enter the notebook URL following the [documentation](https://jupyterhub.readthedocs.io/en/stable/reference/urls.html).\n",
    "- If for any reason you want to refetch an assignment again, you have to do one of the followings:\n",
    "    1. Rename your assignment folder to a different name by selecting the folder and click rename. \n",
    "    1. Remove the folder by evaluating `!rm -rf {path}` in a code cell where `{path}` is the path to the assignment folder. (Be very cautious as removed folders cannot be recovered.)\n"
   ]
  },
  {
   "cell_type": "markdown",
   "metadata": {
    "slideshow": {
     "slide_type": "slide"
    }
   },
   "source": [
    "## Jupyter Notebook"
   ]
  },
  {
   "cell_type": "markdown",
   "metadata": {
    "slideshow": {
     "slide_type": "subslide"
    }
   },
   "source": [
    "### How to provide your answers?"
   ]
  },
  {
   "cell_type": "markdown",
   "metadata": {
    "slideshow": {
     "slide_type": "fragment"
    }
   },
   "source": [
    "After opening a notebook:\n",
    "1. Click `Help->User Interface Tour` to learn the classic notebook interface. \n",
    "1. Click `Help->Notebook Help` and skim through the tutorials on `Running Code` and `Working with Markdown Cells`."
   ]
  },
  {
   "cell_type": "markdown",
   "metadata": {
    "slideshow": {
     "slide_type": "fragment"
    }
   },
   "source": [
    "**Exercise** The first program to write is often the [\"Hello, World!\"](https://en.wikipedia.org/wiki/%22Hello,_World!%22_program) program, which says hello to the world. Type the program `print('Hello, World!')` below and run it with `Shift+Enter`."
   ]
  },
  {
   "cell_type": "code",
   "execution_count": null,
   "metadata": {
    "ExecuteTime": {
     "end_time": "2020-12-22T09:09:57.923284Z",
     "start_time": "2020-12-22T09:09:57.919345Z"
    },
    "deletable": false,
    "nbgrader": {
     "cell_type": "code",
     "checksum": "812b9e72aca385927547e5e4527d8748",
     "grade": false,
     "grade_id": "HelloWorld",
     "locked": false,
     "schema_version": 3,
     "solution": true,
     "task": false
    },
    "slideshow": {
     "slide_type": "-"
    }
   },
   "outputs": [],
   "source": [
    "# YOUR CODE HERE\n",
    "raise NotImplementedError()"
   ]
  },
  {
   "cell_type": "markdown",
   "metadata": {
    "slideshow": {
     "slide_type": "subslide"
    }
   },
   "source": [
    "We often ask you to write your answer in a particular cell. Make sure you replace `YOUR ANSWER HERE` or\n",
    "```Python\n",
    "# YOUR CODE HERE\n",
    "raise NotImplementedError()\n",
    "```\n",
    "by your answers. The line `raise NotImplementedError()` will raise an error when you execute the cell, to inform you that an answer is needed."
   ]
  },
  {
   "cell_type": "markdown",
   "metadata": {
    "slideshow": {
     "slide_type": "fragment"
    }
   },
   "source": [
    "There may be visible and/or hidden tests to check your answers automatically. The following is a visible test you can run to check your answer: The test returns an assertion error if your program does not print the correct message."
   ]
  },
  {
   "cell_type": "code",
   "execution_count": null,
   "metadata": {
    "ExecuteTime": {
     "end_time": "2020-12-22T09:09:59.534795Z",
     "start_time": "2020-12-22T09:09:59.530988Z"
    },
    "deletable": false,
    "editable": false,
    "nbgrader": {
     "cell_type": "code",
     "checksum": "35d44485207fae27499b2937c10fc044",
     "grade": true,
     "grade_id": "cell-4b2418298822abb8",
     "locked": true,
     "points": 1,
     "schema_version": 3,
     "solution": false,
     "task": false
    },
    "slideshow": {
     "slide_type": "-"
    }
   },
   "outputs": [],
   "source": [
    "# tests: Run this test cell right after running your \"Hello, World!\" program.\n",
    "import sys, io\n",
    "old_stdout, sys.stdout = sys.stdout, io.StringIO()\n",
    "exec(In[-2])\n",
    "printed = sys.stdout.getvalue()\n",
    "sys.stdout = old_stdout\n",
    "assert printed == 'Hello, World!\\n'"
   ]
  },
  {
   "cell_type": "markdown",
   "metadata": {
    "slideshow": {
     "slide_type": "subslide"
    }
   },
   "source": [
    "**Tips**\n",
    "1. Do not duplicate or delete a solution or test cell because they must have a unique id attached for auto-grading.\n",
    "1. You can repeatedly modify your solution and run the test cell until your solution passes the tests. \n",
    "1. To assess your solution thoroughly, we may run new tests hidden from you after we have collected your notebook.\n",
    "1. You can click the `Validate` button to run all the visible tests.\n",
    "1. If you open the same notebook multiple times in different browser windows, be careful in making changes in different windows. Inconsistent changes may lead to conflicts or loss of your data.\n",
    "1. If your notebook fails to run any code, the Kernel might have died. You can restart the kernel with `Kernel->Restart`. If restarting fails, check your code cells to see if there is any code that breaks the kernel."
   ]
  },
  {
   "cell_type": "markdown",
   "metadata": {
    "slideshow": {
     "slide_type": "subslide"
    }
   },
   "source": [
    "### How to submit a notebook?"
   ]
  },
  {
   "cell_type": "markdown",
   "metadata": {
    "slideshow": {
     "slide_type": "fragment"
    }
   },
   "source": [
    "To submit your notebook:\n",
    "1. Go to `Assignment` tab of JupyterHub where you fetched the Lab assignment. \n",
    "1. Expand the assignment folder and click the `Validate` button next to the notebook(s) to check if all visible tests pass.\n",
    "1. Click `Submit` to submit your notebook. \n",
    "1. You may submit as many times as you wish before the deadline as we will collect your latest submission by the deadline. Submissions after the deadline are not collected."
   ]
  },
  {
   "cell_type": "code",
   "execution_count": null,
   "metadata": {
    "ExecuteTime": {
     "end_time": "2021-01-13T09:23:10.660439Z",
     "start_time": "2021-01-13T09:23:10.650623Z"
    },
    "init_cell": true,
    "tags": [
     "hide-input"
    ]
   },
   "outputs": [],
   "source": [
    "display.IFrame(src=\"https://cityuhk-lms.ap.panopto.com/Panopto/Pages/Embed.aspx?id=994d9e5c-d9f8-40d0-9322-acae003d6b36&autoplay=false&offerviewer=true&showtitle=true&showbrand=false&start=0&interactivity=all\", height=450, width=800,)"
   ]
  },
  {
   "cell_type": "markdown",
   "metadata": {
    "slideshow": {
     "slide_type": "slide"
    }
   },
   "source": [
    "## Advanced Usage"
   ]
  },
  {
   "cell_type": "markdown",
   "metadata": {
    "slideshow": {
     "slide_type": "subslide"
    }
   },
   "source": [
    "### Print or backup a notebook"
   ]
  },
  {
   "cell_type": "markdown",
   "metadata": {
    "slideshow": {
     "slide_type": "-"
    }
   },
   "source": [
    "To convert a notebook to pdf, we can print it to pdf instead: \n",
    "- `File->Print Preview`\n",
    "\n",
    "However, animation and video cannot be properly printed. You are highly recommended to takes notes on the dynamic notebook instead on the hard copy."
   ]
  },
  {
   "cell_type": "markdown",
   "metadata": {
    "slideshow": {
     "slide_type": "fragment"
    }
   },
   "source": [
    "To download a copy of your notebook:\n",
    "- `File->Download as->Notebook (.ipynb)`\n",
    "\n",
    "You can run the notebook\n",
    "- locally using [Anaconda](https://www.anaconda.com/products/individual), or\n",
    "- remotely on other JupyHub services such as [Google Colab](https://colab.research.google.com/).\n",
    "\n",
    "However, you would need to learn how to manage and install the additional packages required by the course."
   ]
  },
  {
   "cell_type": "markdown",
   "metadata": {
    "slideshow": {
     "slide_type": "subslide"
    }
   },
   "source": [
    "### Jupyter Lab and extensions"
   ]
  },
  {
   "cell_type": "markdown",
   "metadata": {
    "slideshow": {
     "slide_type": "-"
    }
   },
   "source": [
    "Instead of the classic notebook interface, you may also play with the new interface called JupyterLab by visiting <https://ltjh.cs.cityu.edu.hk/user-redirect/lab>. Note that the new interface does not support the validation and submission of assignments."
   ]
  },
  {
   "cell_type": "markdown",
   "metadata": {
    "slideshow": {
     "slide_type": "fragment"
    }
   },
   "source": [
    "You may use the [visual debugger](https://github.com/jupyterlab/debugger) in JupyterLab to debug a jupyter notebook. To do so, you should open the notebook with `XPython` as the kernel."
   ]
  },
  {
   "cell_type": "markdown",
   "metadata": {
    "slideshow": {
     "slide_type": "fragment"
    }
   },
   "source": [
    "Both the notebook/lab interface is extensible. For the notebook interface, you can enable extensions from the [nbextensions page](https://ltjh.cs.cityu.edu.hk/user-redirect/nbextensions)."
   ]
  },
  {
   "cell_type": "markdown",
   "metadata": {
    "slideshow": {
     "slide_type": "subslide"
    }
   },
   "source": [
    "### Visual Studio Code"
   ]
  },
  {
   "cell_type": "markdown",
   "metadata": {
    "slideshow": {
     "slide_type": "-"
    }
   },
   "source": [
    "For a complete IDE experience, you can open VS Code as follows:\n",
    "- <https://ltjh.cs.cityu.edu.hk/user-redirect/vscode>\n",
    "- In classic notebook interface: `File` tab -> `New` menu -> `VS Code` menu item.\n",
    "- In JupyterLab interface: `File` menu -> `New Launcher` menu item -> `VS Code` icon"
   ]
  },
  {
   "cell_type": "markdown",
   "metadata": {
    "ExecuteTime": {
     "end_time": "2021-01-12T07:46:02.223510Z",
     "start_time": "2021-01-12T07:46:02.221072Z"
    },
    "slideshow": {
     "slide_type": "subslide"
    }
   },
   "source": [
    "### Version Control"
   ]
  },
  {
   "cell_type": "markdown",
   "metadata": {
    "slideshow": {
     "slide_type": "-"
    }
   },
   "source": [
    "By default, your changes to a notebook is automatically saved. You can also create a checkpoint by going to `File` tab->`Save and Checkpoint` menu item."
   ]
  },
  {
   "cell_type": "markdown",
   "metadata": {
    "slideshow": {
     "slide_type": "fragment"
    }
   },
   "source": [
    "If you want to create multiple checkpoints/versions, the JupyterHub server provides the following tools for version control:\n",
    "- [jupyterlab-git][jupyterlab-git]\n",
    "- [vscode-git][vscode-git]\n",
    "- [nbdiff][nbdiff]\n",
    "\n",
    "See the link to GitHub in the next section and also [this post][code-server-github-login] to set up a GitHub login token.\n",
    "\n",
    "[jupyterlab-git]: https://github.com/jupyterlab/jupyterlab-git \n",
    "[vscode-git]: https://code.visualstudio.com/docs/introvideos/versioncontrol\n",
    "[code-server-github-login]: https://github.com/cdr/code-server/issues/1883\n",
    "[nbdiff]: https://github.com/tarmstrong/nbdiff"
   ]
  },
  {
   "cell_type": "markdown",
   "metadata": {
    "slideshow": {
     "slide_type": "subslide"
    }
   },
   "source": [
    "### Terminal"
   ]
  },
  {
   "cell_type": "markdown",
   "metadata": {
    "slideshow": {
     "slide_type": "-"
    }
   },
   "source": [
    "You can launch terminals in both JupyterLab and VSCode interfaces. The Python and XPython kernels uses Anaconda. To activate it in terminal, excute the following command: \n",
    "```bash\n",
    "\\opt\\anaconda\\condabin\\conda activate\n",
    "```"
   ]
  },
  {
   "cell_type": "markdown",
   "metadata": {
    "slideshow": {
     "slide_type": "slide"
    }
   },
   "source": [
    "## Optional Signup of Other Accounts"
   ]
  },
  {
   "cell_type": "markdown",
   "metadata": {
    "slideshow": {
     "slide_type": "fragment"
    }
   },
   "source": [
    "- Create a [professional GitHub account](https://education.github.com/pack) free for students. This can be useful for collaborative work such as the group project."
   ]
  },
  {
   "cell_type": "markdown",
   "metadata": {
    "slideshow": {
     "slide_type": "fragment"
    }
   },
   "source": [
    "- Create a [CityU Google GApps account](https://www.cityu.edu.hk/csc/deptweb/support/faq/email/GApps_faq.htm). The account comes with an unlimited google drive storage as well, which can be useful for storing/sharing project dataset and video presentation."
   ]
  }
 ],
 "metadata": {
  "kernelspec": {
   "display_name": "Python 3.7",
   "language": "python",
   "name": "python3"
  },
  "language_info": {
   "codemirror_mode": {
    "name": "ipython",
    "version": 3
   },
   "file_extension": ".py",
   "mimetype": "text/x-python",
   "name": "python",
   "nbconvert_exporter": "python",
   "pygments_lexer": "ipython3",
   "version": "3.7.9"
  },
  "rise": {
   "enable_chalkboard": true,
   "scroll": true,
   "theme": "white"
  },
  "toc": {
   "base_numbering": 1,
   "nav_menu": {},
   "number_sections": true,
   "sideBar": true,
   "skip_h1_title": true,
   "title_cell": "Table of Contents",
   "title_sidebar": "Contents",
   "toc_cell": false,
   "toc_position": {},
   "toc_section_display": true,
   "toc_window_display": false
  }
 },
 "nbformat": 4,
 "nbformat_minor": 4
}
