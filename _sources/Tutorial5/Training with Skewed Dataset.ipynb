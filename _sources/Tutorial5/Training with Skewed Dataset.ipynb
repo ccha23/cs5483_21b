{
 "cells": [
  {
   "cell_type": "markdown",
   "metadata": {
    "slideshow": {
     "slide_type": "slide"
    }
   },
   "source": [
    "# Training with Skewed Dataset"
   ]
  },
  {
   "cell_type": "markdown",
   "metadata": {
    "slideshow": {
     "slide_type": "-"
    },
    "tags": [
     "remove-cell"
    ]
   },
   "source": [
    "**CS5483 Data Warehousing and Data Mining**\n",
    "___"
   ]
  },
  {
   "cell_type": "code",
   "execution_count": null,
   "metadata": {
    "ExecuteTime": {
     "end_time": "2021-02-16T11:56:42.319566Z",
     "start_time": "2021-02-16T11:56:41.658899Z"
    },
    "init_cell": true,
    "slideshow": {
     "slide_type": "subslide"
    }
   },
   "outputs": [],
   "source": [
    "%reset -f\n",
    "from IPython import display\n",
    "import numpy as np\n",
    "import pandas as pd\n",
    "import matplotlib.pyplot as plt\n",
    "# produce vector inline graphics\n",
    "from IPython.display import set_matplotlib_formats\n",
    "set_matplotlib_formats('svg')\n",
    "from weka.core import dataset\n",
    "import weka.core.jvm as jvm\n",
    "from weka.core.converters import Loader\n",
    "from weka.classifiers import SingleClassifierEnhancer, Classifier, Evaluation, FilteredClassifier\n",
    "from weka.core.classes import Random\n",
    "import weka.core.packages as packages\n",
    "from weka.core.classes import complete_classname\n",
    "from weka.filters import Filter"
   ]
  },
  {
   "cell_type": "markdown",
   "metadata": {},
   "source": [
    "## Setup"
   ]
  },
  {
   "cell_type": "markdown",
   "metadata": {},
   "source": [
    "In this notebook, we will train classifiers properly on the skewed dataset for detecting microcalcifications in mammograms."
   ]
  },
  {
   "cell_type": "markdown",
   "metadata": {},
   "source": [
    "In particular, we will use the meta classifier `ThresholdSelector` and the filter `SMOTE` [Synthetic Minority Over-sampling Technique](https://doi.org/10.1613/jair.953), which needs to be installed as [additional packages in WEKA](https://weka.sourceforge.io/packageMetaData/):"
   ]
  },
  {
   "cell_type": "code",
   "execution_count": null,
   "metadata": {
    "ExecuteTime": {
     "end_time": "2021-02-06T07:57:26.173791Z",
     "start_time": "2021-02-06T07:57:26.078049Z"
    }
   },
   "outputs": [],
   "source": [
    "jvm.start(packages=True)  # support custom packages\n",
    "\n",
    "import weka.core.packages as packages\n",
    "\n",
    "pkgs = [\"thresholdSelector\", \"SMOTE\"]\n",
    "\n",
    "for item in packages.all_packages():\n",
    "    if item.name in pkgs:\n",
    "        print(item.name + \" \" + item.url)"
   ]
  },
  {
   "cell_type": "markdown",
   "metadata": {},
   "source": [
    " You may install the packages using Weka package manager instead of downloading the zip files. To install them in `python-weka-wrapper`, run the following code:"
   ]
  },
  {
   "cell_type": "code",
   "execution_count": null,
   "metadata": {
    "ExecuteTime": {
     "end_time": "2021-02-06T07:57:26.181389Z",
     "start_time": "2021-02-06T07:57:26.175841Z"
    }
   },
   "outputs": [],
   "source": [
    "for pkg in pkgs:\n",
    "    if not packages.is_installed(pkg):\n",
    "        print(f\"Installing {pkg}...\")\n",
    "        packages.install_package(pkg)\n",
    "    else:\n",
    "        print(f\"Skipping {pkg}, already installed. \")\n",
    "else:\n",
    "    print(\"Done.\")"
   ]
  },
  {
   "cell_type": "markdown",
   "metadata": {},
   "source": [
    "By default, these packages are installed under your home directory `~/wekafiles/packages/`:"
   ]
  },
  {
   "cell_type": "code",
   "execution_count": null,
   "metadata": {
    "ExecuteTime": {
     "end_time": "2021-02-06T07:57:26.352777Z",
     "start_time": "2021-02-06T07:57:26.183271Z"
    }
   },
   "outputs": [],
   "source": [
    "!ls ~/wekafiles/packages"
   ]
  },
  {
   "cell_type": "markdown",
   "metadata": {},
   "source": [
    "For the packages to take effect, you must restart the kernel (`Kernel` -> `Restart`). Note that running `jvm.stop()` followed by `jvm.start(packages=True)` will not work because [`javabridge` currently does not support restarting a virtual machine](https://stackoverflow.com/questions/51795945/after-stopping-jvm-unable-to-start-it-again)."
   ]
  },
  {
   "cell_type": "markdown",
   "metadata": {},
   "source": [
    "After restarting the kernel, check that the packages have been successfully installed by running the following code:"
   ]
  },
  {
   "cell_type": "code",
   "execution_count": null,
   "metadata": {
    "ExecuteTime": {
     "end_time": "2021-02-06T07:57:26.361747Z",
     "start_time": "2021-02-06T07:57:26.354777Z"
    }
   },
   "outputs": [],
   "source": [
    "from weka.core.classes import complete_classname\n",
    "\n",
    "print(complete_classname(\".ThresholdSelector\"))\n",
    "print(complete_classname(\".SMOTE\"))\n",
    "print(packages.installed_packages())"
   ]
  },
  {
   "cell_type": "markdown",
   "metadata": {},
   "source": [
    "We will use the same mammography dataset from\n",
    "[OpenML](https://www.openml.org/d/310) and J48 as the base classifier. The following loads the dataset into the notebook:"
   ]
  },
  {
   "cell_type": "code",
   "execution_count": null,
   "metadata": {
    "ExecuteTime": {
     "end_time": "2021-02-06T07:57:29.232828Z",
     "start_time": "2021-02-06T07:57:26.363181Z"
    }
   },
   "outputs": [],
   "source": [
    "loader = Loader(classname=\"weka.core.converters.ArffLoader\")\n",
    "data = loader.load_url('https://www.openml.org/data/download/52214/phpn1jVwe')\n",
    "data.class_is_last()\n",
    "pos_class = 1\n",
    "clf = Classifier(classname=\"weka.classifiers.trees.J48\")"
   ]
  },
  {
   "cell_type": "markdown",
   "metadata": {},
   "source": [
    "## Threshold Selector"
   ]
  },
  {
   "cell_type": "markdown",
   "metadata": {},
   "source": [
    "The meta classifier `ThresholdSelector` uses the threshold-moving technique to optimize a performance measure you specify, which can be the precision, recall, $F$-score, etc. See an explanation of threshold moving technique [here](https://machinelearningmastery.com/threshold-moving-for-imbalanced-classification/)."
   ]
  },
  {
   "cell_type": "markdown",
   "metadata": {},
   "source": [
    "The following shows how to maximize recall:"
   ]
  },
  {
   "cell_type": "code",
   "execution_count": null,
   "metadata": {
    "ExecuteTime": {
     "end_time": "2021-02-06T07:57:30.271212Z",
     "start_time": "2021-02-06T07:57:29.234792Z"
    }
   },
   "outputs": [],
   "source": [
    "tsc = SingleClassifierEnhancer(\n",
    "    classname=\"weka.classifiers.meta.ThresholdSelector\",\n",
    "    options=['-M', 'RECALL'])\n",
    "tsc.options=['-M', 'RECALL']\n",
    "tsc.classifier = clf\n",
    "\n",
    "evl = Evaluation(data)\n",
    "evl.crossvalidate_model(tsc, data, 10, Random(1))\n",
    "\n",
    "print(f\"maximum recall: {evl.recall(pos_class):.3g}\")"
   ]
  },
  {
   "cell_type": "markdown",
   "metadata": {},
   "source": [
    "The maximum recall is 100% as expected by setting the threshold to 1."
   ]
  },
  {
   "cell_type": "markdown",
   "metadata": {},
   "source": [
    "**Exercise** Using J48 as the base classifier and 10-fold cross-validation, obtain the highest precision and $F$ score. Assign the values to `max_precision` and `max_f` respectively. \n",
    "\n",
    "If you use `python-weka-wrapper`, be careful that reseting `tsc.options` may also reset the base classifier to the default one, which is not J48. To ensure that you are using J48, set the base classifier again after the options:\n",
    "```Python\n",
    "tsc.options=['-M', ___]\n",
    "tsc.classifier = clf\n",
    "```"
   ]
  },
  {
   "cell_type": "code",
   "execution_count": null,
   "metadata": {
    "ExecuteTime": {
     "end_time": "2021-02-06T07:57:32.124541Z",
     "start_time": "2021-02-06T07:57:30.273238Z"
    },
    "deletable": false,
    "nbgrader": {
     "cell_type": "code",
     "checksum": "63e67efe6221c78e7ed77500780b6760",
     "grade": false,
     "grade_id": "threshold-selector",
     "locked": false,
     "schema_version": 3,
     "solution": true,
     "task": false
    }
   },
   "outputs": [],
   "source": [
    "# YOUR CODE HERE\n",
    "raise NotImplementedError()\n",
    "max_precision, max_f"
   ]
  },
  {
   "cell_type": "code",
   "execution_count": null,
   "metadata": {
    "ExecuteTime": {
     "end_time": "2021-02-06T07:57:32.130671Z",
     "start_time": "2021-02-06T07:57:32.126999Z"
    },
    "deletable": false,
    "editable": false,
    "nbgrader": {
     "cell_type": "code",
     "checksum": "d430a735c8433ba83ba3021b9282f8b3",
     "grade": true,
     "grade_id": "test-threshold-selector",
     "locked": true,
     "points": 1,
     "schema_version": 3,
     "solution": false,
     "task": false
    }
   },
   "outputs": [],
   "source": [
    "# tests"
   ]
  },
  {
   "cell_type": "markdown",
   "metadata": {},
   "source": [
    "## Cost-sensitive Classifier"
   ]
  },
  {
   "cell_type": "markdown",
   "metadata": {},
   "source": [
    "We can build a classifier to maximize certain cost. Weka provides a convenient interface for the [cost/benefit analysis](https://wiki.pentaho.com/display/DATAMINING/Cost+Benefit+Analysis):\n",
    "\n",
    "<ol>\n",
    "<li> In the explorer interface, train J48 on the mammography dataset with 10-fold cross-validation.\n",
    "<li> Right click on the result in the result list.\n",
    "<li> Choose Cost/Benefit analysis and 1 as the positive class value.\n",
    "<li> Specify the cost matrix:  <br>\n",
    "\\begin{align}\n",
    "\\begin{bmatrix} \\text{cost}_\\text{TP} & \\text{cost}_\\text{FN}\\\\ \\text{cost}_\\text{FP} & \\text{cost}_\\text{TN}\\end{bmatrix}.\n",
    "\\end{align}\n",
    "<li> Click `Minimize Cost/Benefit` to minimize the cost:<br>\n",
    "\\begin{align}\n",
    "\\text{cost}_\\text{TP} \\text{TP}\n",
    "+ \\text{cost}_\\text{FN} \\text{FN}\n",
    "+ \\text{cost}_\\text{FP} \\text{FP} \n",
    "+ \\text{cost}_\\text{TN} \\text{TN}.\n",
    "\\end{align}\n",
    "</ol>"
   ]
  },
  {
   "cell_type": "markdown",
   "metadata": {},
   "source": [
    "**Exercise** Assign to `cost_matrix` the cost matrix that achieves the maximum precision. You can define the cost matrix as follows:\n",
    "```Python\n",
    "cost_matrix = np.array([[__, __],\n",
    "                        [__, __]])\n",
    "```\n",
    "    \n",
    "[*Hint: Pay attention to the row and column labels of the confusion matrix. It changes after you specify $1$ as the positive class value.*]"
   ]
  },
  {
   "cell_type": "code",
   "execution_count": null,
   "metadata": {
    "ExecuteTime": {
     "end_time": "2021-02-06T07:57:32.146724Z",
     "start_time": "2021-02-06T07:57:32.132459Z"
    },
    "deletable": false,
    "nbgrader": {
     "cell_type": "code",
     "checksum": "659f186a279033a7ca2375d087d66c7c",
     "grade": false,
     "grade_id": "cost-matrix",
     "locked": false,
     "schema_version": 3,
     "solution": true,
     "task": false
    }
   },
   "outputs": [],
   "source": [
    "# YOUR CODE HERE\n",
    "raise NotImplementedError()\n",
    "cost_matrix"
   ]
  },
  {
   "cell_type": "markdown",
   "metadata": {},
   "source": [
    "The following test cell demonstrate how to train a meta classifier to minimize the cost defined using the cost matrix you provided."
   ]
  },
  {
   "cell_type": "code",
   "execution_count": null,
   "metadata": {
    "ExecuteTime": {
     "end_time": "2021-02-06T07:57:32.681632Z",
     "start_time": "2021-02-06T07:57:32.150019Z"
    },
    "deletable": false,
    "editable": false,
    "nbgrader": {
     "cell_type": "code",
     "checksum": "1845d3c115b8ead7f7d0aa0d8b956f11",
     "grade": true,
     "grade_id": "test-cost-matrix",
     "locked": true,
     "points": 1,
     "schema_version": 3,
     "solution": false,
     "task": false
    }
   },
   "outputs": [],
   "source": [
    "# tests\n",
    "from weka.classifiers import SingleClassifierEnhancer, Classifier, Evaluation\n",
    "\n",
    "csc = SingleClassifierEnhancer(\n",
    "    classname=\"weka.classifiers.meta.CostSensitiveClassifier\",\n",
    "    options=[\n",
    "        \"-cost-matrix\",\n",
    "        '[' + ' ; '.join(' '.join(str(entry) for entry in cost_matrix[:, i])\n",
    "                         for i in range(2)) + ']', \"-S\", \"1\"\n",
    "    ])\n",
    "csc.classifier = clf\n",
    "\n",
    "evl = Evaluation(data)\n",
    "evl.crossvalidate_model(csc, data, 10, Random(1))\n",
    "\n",
    "precision = evl.precision(pos_class)\n",
    "print(f\"maximum precision: {precision:.3g}\")"
   ]
  },
  {
   "cell_type": "markdown",
   "metadata": {},
   "source": [
    "## SMOTE"
   ]
  },
  {
   "cell_type": "markdown",
   "metadata": {},
   "source": [
    "Synthetic Minority Over-sampling TEchnique (SMOTE) is a filter that up-samples the minority class. Instead of creating duplicates of the same instance, it creates new samples as convex combinations of existing ones. See a more detailed explanation of SMOTE [here](http://rikunert.com/SMOTE_explained)."
   ]
  },
  {
   "cell_type": "markdown",
   "metadata": {},
   "source": [
    "**Exercise** Using the FilteredClassifier with J48 as the classifer and SMOTE as the filter, try to tweek the setting of SMOTE to give the highest possilbe value of $F$ score larger than the maximum one achieved by `ThresholdSelector`. Assign to `smote.options` your choice of the filter. E.g., you can change the percentage of SMOTE instances to 150% as follows:\n",
    "```Python\n",
    "smote.options = ['-P', '150']\n",
    "```"
   ]
  },
  {
   "cell_type": "code",
   "execution_count": null,
   "metadata": {
    "ExecuteTime": {
     "end_time": "2021-02-06T07:57:32.689847Z",
     "start_time": "2021-02-06T07:57:32.683548Z"
    },
    "deletable": false,
    "nbgrader": {
     "cell_type": "code",
     "checksum": "423a571a3082592e20dffe733c908068",
     "grade": false,
     "grade_id": "smote",
     "locked": false,
     "schema_version": 3,
     "solution": true,
     "task": false
    }
   },
   "outputs": [],
   "source": [
    "smote = Filter(classname=\"weka.filters.supervised.instance.SMOTE\")\n",
    "print('Default smote.options:', smote.options)\n",
    "# YOUR CODE HERE\n",
    "raise NotImplementedError()\n",
    "print('Your smote.options:', smote.options)"
   ]
  },
  {
   "cell_type": "code",
   "execution_count": null,
   "metadata": {
    "ExecuteTime": {
     "end_time": "2021-02-06T07:57:33.894852Z",
     "start_time": "2021-02-06T07:57:32.691716Z"
    },
    "deletable": false,
    "editable": false,
    "nbgrader": {
     "cell_type": "code",
     "checksum": "1d0ba07d5a2e0d1b1ca2ead66a10c5db",
     "grade": true,
     "grade_id": "test-smote",
     "locked": true,
     "points": 1,
     "schema_version": 3,
     "solution": false,
     "task": false
    }
   },
   "outputs": [],
   "source": [
    "# tests\n",
    "fc = FilteredClassifier()\n",
    "fc.filter = smote\n",
    "fc.classifier = clf\n",
    "\n",
    "evl = Evaluation(data)\n",
    "evl.crossvalidate_model(fc, data, 10, Random(1))\n",
    "\n",
    "f_score = evl.f_measure(pos_class)\n",
    "print(f\"F-score by SMOTE: {f_score:.3g}\")"
   ]
  }
 ],
 "metadata": {
  "kernelspec": {
   "display_name": "Python 3.7",
   "language": "python",
   "name": "python3"
  },
  "language_info": {
   "codemirror_mode": {
    "name": "ipython",
    "version": 3
   },
   "file_extension": ".py",
   "mimetype": "text/x-python",
   "name": "python",
   "nbconvert_exporter": "python",
   "pygments_lexer": "ipython3",
   "version": "3.7.9"
  },
  "rise": {
   "enable_chalkboard": true,
   "scroll": true,
   "theme": "white"
  },
  "toc": {
   "base_numbering": 1,
   "nav_menu": {},
   "number_sections": true,
   "sideBar": true,
   "skip_h1_title": true,
   "title_cell": "Table of Contents",
   "title_sidebar": "Contents",
   "toc_cell": false,
   "toc_position": {},
   "toc_section_display": true,
   "toc_window_display": false
  }
 },
 "nbformat": 4,
 "nbformat_minor": 4
}
