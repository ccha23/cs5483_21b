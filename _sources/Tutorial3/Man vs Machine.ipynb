{
 "cells": [
  {
   "cell_type": "markdown",
   "metadata": {
    "slideshow": {
     "slide_type": "slide"
    }
   },
   "source": [
    "# Man vs Machine"
   ]
  },
  {
   "cell_type": "markdown",
   "metadata": {
    "slideshow": {
     "slide_type": "-"
    },
    "tags": [
     "remove-cell"
    ]
   },
   "source": [
    "**CS5483 Data Warehousing and Data Mining**\n",
    "___"
   ]
  },
  {
   "cell_type": "markdown",
   "metadata": {},
   "source": [
    "<a title=\"Paramount Pictures, Public domain, via Wikimedia Commons\" href=\"https://commons.wikimedia.org/wiki/File:Terminator_(franchise_logo).png\"><img width=\"512\" alt=\"Terminator (franchise logo)\" src=\"https://upload.wikimedia.org/wikipedia/commons/thumb/2/28/Terminator_%28franchise_logo%29.png/512px-Terminator_%28franchise_logo%29.png\"></a>"
   ]
  },
  {
   "cell_type": "markdown",
   "metadata": {
    "slideshow": {
     "slide_type": "fragment"
    }
   },
   "source": [
    "In this notebook, you will compete with your classmates and the machine by\n",
    "1. hand-building a decision tree using Weka `UserClassifier`, and\n",
    "2. use  `python-weka-wrapper` to build the J48 (C4.5) decision tree as a comparison.\n",
    "\n",
    "Let's find out who is more intelligent!"
   ]
  },
  {
   "cell_type": "code",
   "execution_count": 1,
   "metadata": {
    "ExecuteTime": {
     "end_time": "2021-02-20T04:46:54.566792Z",
     "start_time": "2021-02-20T04:46:54.527586Z"
    },
    "init_cell": true,
    "slideshow": {
     "slide_type": "subslide"
    }
   },
   "outputs": [],
   "source": [
    "%reset -f\n",
    "from IPython import display"
   ]
  },
  {
   "cell_type": "markdown",
   "metadata": {},
   "source": [
    "## Interactive Decision Tree Construction"
   ]
  },
  {
   "cell_type": "markdown",
   "metadata": {},
   "source": [
    "Follow the instruction above [\\[Witten11\\] Exercise 17.2.12][Witten11] to \n",
    "\n",
    "1. install the package `UserClassifier`,\n",
    "2. hand-build a decision tree using [`segment-challenge.arff`][segment-challenge] as the training set, and \n",
    "3. test the performance using [`segment-test.arff`][segment-test] as the test set.\n",
    "\n",
    "[Witten11]: https://ebookcentral.proquest.com/lib/cityuhk/reader.action?docID=634862&ppg=604\n",
    "[segment-challenge]: https://raw.githubusercontent.com/Waikato/weka-3.8/master/wekadocs/data/segment-challenge.arff\n",
    "[segment-test]: https://raw.githubusercontent.com/Waikato/weka-3.8/master/wekadocs/data/segment-test.arff\n",
    "\n",
    "See the following video for an quick illustration. If Weka GUI take more than 10 seconds to load on Windows 10, launch Weka directly by double-clicking weka.jar in your installation folder."
   ]
  },
  {
   "cell_type": "code",
   "execution_count": 2,
   "metadata": {
    "ExecuteTime": {
     "end_time": "2021-02-20T04:46:54.613576Z",
     "start_time": "2021-02-20T04:46:54.568742Z"
    },
    "code_folding": [
     0
    ],
    "init_cell": true,
    "tags": [
     "hide-input"
    ]
   },
   "outputs": [
    {
     "data": {
      "text/html": [
       "\n",
       "        <iframe\n",
       "            width=\"800\"\n",
       "            height=\"450\"\n",
       "            src=\"https://cityuhk-lms.ap.panopto.com/Panopto/Pages/Embed.aspx?id=24055b2e-b310-4bcf-b2a5-acb80075209e&autoplay=false&offerviewer=true&showtitle=true&showbrand=false&start=0&interactivity=all\"\n",
       "            frameborder=\"0\"\n",
       "            allowfullscreen\n",
       "        ></iframe>\n",
       "        "
      ],
      "text/plain": [
       "<IPython.lib.display.IFrame at 0x7fb1284ac710>"
      ]
     },
     "execution_count": 2,
     "metadata": {},
     "output_type": "execute_result"
    }
   ],
   "source": [
    "display.IFrame(\n",
    "    src=\n",
    "    \"https://cityuhk-lms.ap.panopto.com/Panopto/Pages/Embed.aspx?id=24055b2e-b310-4bcf-b2a5-acb80075209e&autoplay=false&offerviewer=true&showtitle=true&showbrand=false&start=0&interactivity=all\",\n",
    "    height=450,\n",
    "    width=800)"
   ]
  },
  {
   "cell_type": "markdown",
   "metadata": {},
   "source": [
    "**Exercise** Why should you NOT use the training set `segment-challenge.arff` to test your decision tree?"
   ]
  },
  {
   "cell_type": "markdown",
   "metadata": {
    "deletable": false,
    "nbgrader": {
     "cell_type": "markdown",
     "checksum": "336aded134c9923168791d9525d47565",
     "grade": true,
     "grade_id": "bias",
     "locked": false,
     "points": 1,
     "schema_version": 3,
     "solution": true,
     "task": false
    }
   },
   "source": [
    "YOUR ANSWER HERE"
   ]
  },
  {
   "cell_type": "markdown",
   "metadata": {},
   "source": [
    "**Exercise** Why should you NOT use the class attribute to split the decision tree?"
   ]
  },
  {
   "cell_type": "markdown",
   "metadata": {
    "deletable": false,
    "nbgrader": {
     "cell_type": "markdown",
     "checksum": "be6c1a0ce2126e08e8681e77d48dced6",
     "grade": true,
     "grade_id": "class-not-available",
     "locked": false,
     "points": 1,
     "schema_version": 3,
     "solution": true,
     "task": false
    }
   },
   "source": [
    "YOUR ANSWER HERE"
   ]
  },
  {
   "cell_type": "markdown",
   "metadata": {
    "slideshow": {
     "slide_type": "subslide"
    }
   },
   "source": [
    "**Exercise** Include the model and result summary sections from the result buffer of your best hand-built decision tree. Your answer should look like:\n",
    "\n",
    "```\n",
    "=== Classifier model (full training set) ===\n",
    "\n",
    "Split on ...\n",
    "\n",
    "=== Summary ===\n",
    "\n",
    "Correctly Classified Instances ...\n",
    "\n",
    "```\n",
    "\n",
    "Try your best to beat your classmates and the machine.\n",
    "- Build at least two decision trees and pick the best one. \n",
    "- Share your result on the [discussion page](https://canvas.cityu.edu.hk/courses/39808/discussion_topics/306325) and check if your classmates have a better decision tree."
   ]
  },
  {
   "cell_type": "markdown",
   "metadata": {
    "deletable": false,
    "nbgrader": {
     "cell_type": "markdown",
     "checksum": "4c3477bddd8cf7b71847f41a8ffcf553",
     "grade": true,
     "grade_id": "UserClassifier",
     "locked": false,
     "points": 1,
     "schema_version": 3,
     "solution": true,
     "task": false
    },
    "slideshow": {
     "slide_type": "-"
    }
   },
   "source": [
    "YOUR ANSWER HERE"
   ]
  },
  {
   "cell_type": "markdown",
   "metadata": {},
   "source": [
    "**Exercise** For the best decision tree you hand-built, is the empirical accuracy on the test set an unbiased estimate of the true accuracy? Explain the direction of the bias, if any."
   ]
  },
  {
   "cell_type": "markdown",
   "metadata": {
    "deletable": false,
    "nbgrader": {
     "cell_type": "markdown",
     "checksum": "2645cc3c8f7188f080448bc15dd54610",
     "grade": true,
     "grade_id": "bias-model-selection",
     "locked": false,
     "points": 1,
     "schema_version": 3,
     "solution": true,
     "task": false
    }
   },
   "source": [
    "YOUR ANSWER HERE"
   ]
  },
  {
   "cell_type": "markdown",
   "metadata": {},
   "source": [
    "## Python Weka Wrapper"
   ]
  },
  {
   "cell_type": "markdown",
   "metadata": {},
   "source": [
    "To see if your hand-built classifier can beat the machine, use J48 (C4.5) to build a decision tree. Instead of using the Weka Explorer Interface, you will run Weka directly from the notebook using [`python-weka-wrapper`][pww].\n",
    "\n",
    "[pww]: http://fracpete.github.io/python-weka-wrapper3/"
   ]
  },
  {
   "cell_type": "markdown",
   "metadata": {},
   "source": [
    "Because Weka is written in Java, we need to start the java virtual machine first."
   ]
  },
  {
   "cell_type": "code",
   "execution_count": null,
   "metadata": {
    "ExecuteTime": {
     "end_time": "2021-01-24T09:12:10.135432Z",
     "start_time": "2021-01-24T09:12:10.129652Z"
    },
    "tags": [
     "remove-output"
    ]
   },
   "outputs": [],
   "source": [
    "import weka.core.jvm as jvm\n",
    "jvm.start()"
   ]
  },
  {
   "cell_type": "markdown",
   "metadata": {},
   "source": [
    "### Load datasets"
   ]
  },
  {
   "cell_type": "markdown",
   "metadata": {},
   "source": [
    "To load the dataset, create an `ArffLoader` as follows:"
   ]
  },
  {
   "cell_type": "code",
   "execution_count": null,
   "metadata": {
    "ExecuteTime": {
     "end_time": "2021-01-24T09:12:11.479733Z",
     "start_time": "2021-01-24T09:12:11.471962Z"
    }
   },
   "outputs": [],
   "source": [
    "from weka.core.converters import Loader\n",
    "loader = Loader(classname=\"weka.core.converters.ArffLoader\")"
   ]
  },
  {
   "cell_type": "markdown",
   "metadata": {},
   "source": [
    "The loader has the method `load_url` to load data from the web such as the [Weka GitHub repository][weka]:\n",
    "\n",
    "[weka]: https://raw.githubusercontent.com/Waikato/weka-3.8/master/wekadocs/data/"
   ]
  },
  {
   "cell_type": "code",
   "execution_count": null,
   "metadata": {
    "ExecuteTime": {
     "end_time": "2021-01-24T09:12:12.558824Z",
     "start_time": "2021-01-24T09:12:12.208085Z"
    }
   },
   "outputs": [],
   "source": [
    "weka_data_path = 'https://raw.githubusercontent.com/Waikato/weka-3.8/master/wekadocs/data/'\n",
    "trainset = loader.load_url(\n",
    "    weka_data_path +\n",
    "    'segment-challenge.arff')  # use load_file to load from file instead"
   ]
  },
  {
   "cell_type": "markdown",
   "metadata": {},
   "source": [
    "For classification, we have to specify the class attribute. For instance, the method `class_is_last` mutates `trainset` to have the last attribute as the class attribute:"
   ]
  },
  {
   "cell_type": "code",
   "execution_count": null,
   "metadata": {
    "ExecuteTime": {
     "end_time": "2021-01-24T09:12:13.569966Z",
     "start_time": "2021-01-24T09:12:13.566872Z"
    }
   },
   "outputs": [],
   "source": [
    "trainset.class_is_last()"
   ]
  },
  {
   "cell_type": "markdown",
   "metadata": {},
   "source": [
    "**Exercise** \n",
    "1. Assign `testset` to the data loaded from `weka_data_path + 'segment-test.arff'`. \n",
    "2. Specify the last attribute of `testset` as the target."
   ]
  },
  {
   "cell_type": "code",
   "execution_count": null,
   "metadata": {
    "ExecuteTime": {
     "end_time": "2021-01-24T09:12:15.813237Z",
     "start_time": "2021-01-24T09:12:14.848976Z"
    },
    "deletable": false,
    "nbgrader": {
     "cell_type": "code",
     "checksum": "b113b406b14c251b9110560ec23a78ca",
     "grade": false,
     "grade_id": "testset",
     "locked": false,
     "schema_version": 3,
     "solution": true,
     "task": false
    },
    "tags": [
     "remove-output"
    ]
   },
   "outputs": [],
   "source": [
    "from weka.core.dataset import Instances\n",
    "# YOUR CODE HERE\n",
    "raise NotImplementedError()\n",
    "print(Instances.summary(testset))"
   ]
  },
  {
   "cell_type": "code",
   "execution_count": null,
   "metadata": {
    "ExecuteTime": {
     "end_time": "2021-01-24T09:12:15.836264Z",
     "start_time": "2021-01-24T09:12:15.829831Z"
    },
    "deletable": false,
    "editable": false,
    "nbgrader": {
     "cell_type": "code",
     "checksum": "6013bf0284e2880c929f5dfbeb483be6",
     "grade": true,
     "grade_id": "test-testset",
     "locked": true,
     "points": 1,
     "schema_version": 3,
     "solution": false,
     "task": false
    },
    "tags": [
     "remove-output"
    ]
   },
   "outputs": [],
   "source": [
    "# tests\n",
    "assert testset.relationname == 'segment'\n",
    "assert testset.num_instances == 810\n",
    "assert testset.num_attributes == 20"
   ]
  },
  {
   "cell_type": "markdown",
   "metadata": {},
   "source": [
    "### Train a decision tree using J48"
   ]
  },
  {
   "cell_type": "markdown",
   "metadata": {},
   "source": [
    "To train a decision tree using J48, we create the classifier and then apply the method `build_classifier` on the training set."
   ]
  },
  {
   "cell_type": "code",
   "execution_count": null,
   "metadata": {
    "ExecuteTime": {
     "end_time": "2021-01-24T09:12:18.159521Z",
     "start_time": "2021-01-24T09:12:18.096098Z"
    }
   },
   "outputs": [],
   "source": [
    "from weka.classifiers import Classifier\n",
    "\n",
    "J48 = Classifier(classname=\"weka.classifiers.trees.J48\")\n",
    "J48.build_classifier(trainset)\n",
    "J48"
   ]
  },
  {
   "cell_type": "markdown",
   "metadata": {},
   "source": [
    "`J48.graph` is a [DOT graph][dot] that can be rendered using the method `pydotplus.graph_from_dot_data`.\n",
    "\n",
    "[dot]: https://en.wikipedia.org/wiki/DOT_(graph_description_language)"
   ]
  },
  {
   "cell_type": "code",
   "execution_count": null,
   "metadata": {
    "ExecuteTime": {
     "end_time": "2021-01-24T09:12:31.612401Z",
     "start_time": "2021-01-24T09:12:31.139257Z"
    }
   },
   "outputs": [],
   "source": [
    "import pydotplus\n",
    "from IPython.display import SVG\n",
    "\n",
    "J48tree = pydotplus.graph_from_dot_data(J48.graph)\n",
    "J48tree.set_size('\"10,10!\"')\n",
    "SVG(J48tree.create_svg()) # use write_svg to write to file instead"
   ]
  },
  {
   "cell_type": "markdown",
   "metadata": {},
   "source": [
    "### Evaluation"
   ]
  },
  {
   "cell_type": "markdown",
   "metadata": {},
   "source": [
    "Finally, to evaluate the decision tree on the test set:"
   ]
  },
  {
   "cell_type": "code",
   "execution_count": null,
   "metadata": {
    "ExecuteTime": {
     "end_time": "2021-01-24T09:14:58.887120Z",
     "start_time": "2021-01-24T09:14:58.880210Z"
    }
   },
   "outputs": [],
   "source": [
    "from weka.classifiers import Evaluation\n",
    "\n",
    "J48test = Evaluation(testset)\n",
    "J48test.test_model(J48, testset)\n",
    "test_accuracy = J48test.percent_correct\n",
    "print(f'Test accuracy: {test_accuracy:.4g}%')"
   ]
  },
  {
   "cell_type": "markdown",
   "metadata": {
    "slideshow": {
     "slide_type": "subslide"
    }
   },
   "source": [
    "**Exercise** Assign `train_accuracy` to the accuracy of the classifier on the training set."
   ]
  },
  {
   "cell_type": "code",
   "execution_count": null,
   "metadata": {
    "ExecuteTime": {
     "end_time": "2021-01-24T09:15:00.823730Z",
     "start_time": "2021-01-24T09:15:00.817101Z"
    },
    "deletable": false,
    "nbgrader": {
     "cell_type": "code",
     "checksum": "e6511bdf53b228c5985276b8afe42a60",
     "grade": false,
     "grade_id": "train_accuracy",
     "locked": false,
     "schema_version": 3,
     "solution": true,
     "task": false
    },
    "tags": [
     "remove-output"
    ]
   },
   "outputs": [],
   "source": [
    "# YOUR CODE HERE\n",
    "raise NotImplementedError()\n",
    "print(f'Training accuracy: {train_accuracy:.4g}%')"
   ]
  },
  {
   "cell_type": "code",
   "execution_count": null,
   "metadata": {
    "ExecuteTime": {
     "end_time": "2021-01-24T09:15:08.740589Z",
     "start_time": "2021-01-24T09:15:08.737719Z"
    },
    "deletable": false,
    "editable": false,
    "nbgrader": {
     "cell_type": "code",
     "checksum": "90d0df7caf69a35d2f6774ed0bd01863",
     "grade": true,
     "grade_id": "test-train_accuracy",
     "locked": true,
     "points": 1,
     "schema_version": 3,
     "solution": false,
     "task": false
    },
    "tags": [
     "remove-output"
    ]
   },
   "outputs": [],
   "source": [
    "# hidden tests"
   ]
  },
  {
   "cell_type": "markdown",
   "metadata": {},
   "source": [
    "**Exercise** By comparing the training accuracy and test accuracy, can we tell whether a classifier overfitted the data?"
   ]
  },
  {
   "cell_type": "markdown",
   "metadata": {
    "deletable": false,
    "nbgrader": {
     "cell_type": "markdown",
     "checksum": "c10aace0cc691684daca7cda29323c7b",
     "grade": true,
     "grade_id": "overfit",
     "locked": false,
     "points": 1,
     "schema_version": 3,
     "solution": true,
     "task": false
    }
   },
   "source": [
    "YOUR ANSWER HERE"
   ]
  },
  {
   "cell_type": "markdown",
   "metadata": {},
   "source": [
    "To stop the Java virtual machine:"
   ]
  },
  {
   "cell_type": "code",
   "execution_count": null,
   "metadata": {
    "ExecuteTime": {
     "end_time": "2021-01-24T09:18:01.150245Z",
     "start_time": "2021-01-24T09:18:01.033727Z"
    },
    "tags": [
     "remove-output"
    ]
   },
   "outputs": [],
   "source": [
    "jvm.stop()"
   ]
  }
 ],
 "metadata": {
  "kernelspec": {
   "display_name": "Python 3.7",
   "language": "python",
   "name": "python3"
  },
  "language_info": {
   "codemirror_mode": {
    "name": "ipython",
    "version": 3
   },
   "file_extension": ".py",
   "mimetype": "text/x-python",
   "name": "python",
   "nbconvert_exporter": "python",
   "pygments_lexer": "ipython3",
   "version": "3.7.9"
  },
  "rise": {
   "enable_chalkboard": true,
   "scroll": true,
   "theme": "white"
  },
  "toc": {
   "base_numbering": 1,
   "nav_menu": {},
   "number_sections": true,
   "sideBar": true,
   "skip_h1_title": true,
   "title_cell": "Table of Contents",
   "title_sidebar": "Contents",
   "toc_cell": false,
   "toc_position": {},
   "toc_section_display": true,
   "toc_window_display": false
  }
 },
 "nbformat": 4,
 "nbformat_minor": 4
}
