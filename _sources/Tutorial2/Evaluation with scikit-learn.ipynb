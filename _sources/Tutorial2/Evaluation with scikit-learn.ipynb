{
 "cells": [
  {
   "cell_type": "markdown",
   "metadata": {},
   "source": [
    "# Evaluation with scikit-learn"
   ]
  },
  {
   "cell_type": "markdown",
   "metadata": {
    "tags": [
     "remove-cell"
    ]
   },
   "source": [
    "**CS5483 Data Warehousing and Data Mining**\n",
    "___"
   ]
  },
  {
   "cell_type": "markdown",
   "metadata": {},
   "source": [
    "Before we begin coding, it is useful to execute the [line magic](https://ipython.readthedocs.io/en/stable/interactive/magics.html#line-magics) to initialize the environment, and import the libraries necessary for the notebook."
   ]
  },
  {
   "cell_type": "code",
   "execution_count": null,
   "metadata": {
    "ExecuteTime": {
     "end_time": "2021-01-19T14:45:01.132275Z",
     "start_time": "2021-01-19T14:45:01.004779Z"
    },
    "deletable": false,
    "editable": false,
    "init_cell": true,
    "nbgrader": {
     "cell_type": "code",
     "checksum": "d1f2b39183f2ebea6d2fafdd5896d3e6",
     "grade": false,
     "grade_id": "init",
     "locked": true,
     "schema_version": 3,
     "solution": false,
     "task": false
    },
    "slideshow": {
     "slide_type": "-"
    }
   },
   "outputs": [],
   "source": [
    "%reset -f\n",
    "%matplotlib inline\n",
    "import numpy as np\n",
    "from IPython import display\n",
    "from ipywidgets import interact, IntSlider\n",
    "import matplotlib.pyplot as plt\n",
    "from sklearn.model_selection import train_test_split, cross_val_predict, cross_val_score, StratifiedKFold\n",
    "from sklearn import tree\n",
    "from functools import lru_cache"
   ]
  },
  {
   "cell_type": "markdown",
   "metadata": {},
   "source": [
    "## Data Preparation"
   ]
  },
  {
   "cell_type": "markdown",
   "metadata": {},
   "source": [
    "### About the dataset"
   ]
  },
  {
   "cell_type": "markdown",
   "metadata": {},
   "source": [
    "We will use a popular dataset called the [*iris dataset*](https://en.wikipedia.org/wiki/Iris_flower_data_set). Iris is a flower with three different species shown below."
   ]
  },
  {
   "cell_type": "markdown",
   "metadata": {},
   "source": [
    "<span style=\"text-align: center;\">\n",
    "    <div style=\"display: flex;\">\n",
    "        <div style=\"padding: 1em;\">\n",
    "            <img src=\"https://upload.wikimedia.org/wikipedia/commons/5/56/Kosaciec_szczecinkowaty_Iris_setosa.jpg\" alt=\"Iris Setosa\" style=\"width: 300px;\">\n",
    "            Iris Setosa\n",
    "        </div>\n",
    "        <div style=\"padding: 1em;\">\n",
    "            <img src=\"https://upload.wikimedia.org/wikipedia/commons/4/41/Iris_versicolor_3.jpg\" alt=\"Iris Versicolor\" style=\"width: 300px;\">\n",
    "            Iris Versicolor\n",
    "        </div>\n",
    "        <div style=\"padding: 1em;\">\n",
    "            <img src=\"https://upload.wikimedia.org/wikipedia/commons/9/9f/Iris_virginica.jpg\" alt=\"Iris Virginica\" style=\"width: 300px;\">\n",
    "            Iris Virginica\n",
    "        </div>\n",
    "    </div>\n",
    "</span>"
   ]
  },
  {
   "cell_type": "markdown",
   "metadata": {},
   "source": [
    "The three iris species differ in the lengths and widths of their *petals* and *sepals*."
   ]
  },
  {
   "cell_type": "markdown",
   "metadata": {},
   "source": [
    "<center><img src=\"https://upload.wikimedia.org/wikipedia/commons/7/78/Petal-sepal.jpg\" style=\"width: 300px\" alt=\"Petal and Sepal\"></center>"
   ]
  },
  {
   "cell_type": "markdown",
   "metadata": {},
   "source": [
    "A standard data mining task is to train a model that can classify the spieces (*target*) automatically based on the lengths and widths of the petals and sepals (*input features*)."
   ]
  },
  {
   "cell_type": "markdown",
   "metadata": {},
   "source": [
    "### Load dataset from scikit-learn"
   ]
  },
  {
   "cell_type": "markdown",
   "metadata": {},
   "source": [
    "**How to load the iris dataset?**"
   ]
  },
  {
   "cell_type": "markdown",
   "metadata": {},
   "source": [
    "To load the iris dataset, we can simply import the [`sklearn.datasets` package](https://scikit-learn.org/stable/datasets/index.html)."
   ]
  },
  {
   "cell_type": "code",
   "execution_count": null,
   "metadata": {
    "ExecuteTime": {
     "end_time": "2021-01-19T14:45:01.165039Z",
     "start_time": "2021-01-19T14:45:01.134082Z"
    },
    "colab": {
     "base_uri": "https://localhost:8080/",
     "height": 1000
    },
    "colab_type": "code",
    "id": "9gQINfrjsb4M",
    "outputId": "77b77a38-2712-4c93-c503-219e74f354fd",
    "slideshow": {
     "slide_type": "-"
    }
   },
   "outputs": [],
   "source": [
    "from sklearn import datasets\n",
    "\n",
    "iris = datasets.load_iris()\n",
    "type(iris)  # object type"
   ]
  },
  {
   "cell_type": "markdown",
   "metadata": {},
   "source": [
    "`sklearn` stores the dataset as a [`Bunch` object](https://scikit-learn.org/stable/modules/generated/sklearn.utils.Bunch.html), which is essentially [a bunch of properties](https://scikit-learn.org/stable/modules/generated/sklearn.datasets.load_iris.html) put together."
   ]
  },
  {
   "cell_type": "markdown",
   "metadata": {},
   "source": [
    "**How to learn more about a library?**"
   ]
  },
  {
   "cell_type": "markdown",
   "metadata": {},
   "source": [
    "Detailed documentation can be found at <https://scikit-learn.org>.\n",
    "- The following `IFrame` object embeds the website as an HTML iframe in jupyter notebook. \n",
    "- The class `IFrame` is available after importing the `display` module from `IPython` package first."
   ]
  },
  {
   "cell_type": "code",
   "execution_count": null,
   "metadata": {
    "ExecuteTime": {
     "end_time": "2021-01-19T14:45:01.170538Z",
     "start_time": "2021-01-19T14:45:01.166816Z"
    },
    "tags": [
     "remove-output"
    ]
   },
   "outputs": [],
   "source": [
    "from IPython import display\n",
    "display.IFrame(src=\"https://scikit-learn.org/stable/modules/generated/sklearn.datasets.load_iris.html\", width=800, height=600)"
   ]
  },
  {
   "cell_type": "markdown",
   "metadata": {},
   "source": [
    "We can use the symbol `?` to obtain the docstring of an object and `??` to obtain its source code, if available."
   ]
  },
  {
   "cell_type": "code",
   "execution_count": null,
   "metadata": {
    "ExecuteTime": {
     "end_time": "2021-01-19T14:45:01.223882Z",
     "start_time": "2021-01-19T14:45:01.172167Z"
    },
    "tags": [
     "remove-output"
    ]
   },
   "outputs": [],
   "source": [
    "?datasets.load_iris"
   ]
  },
  {
   "cell_type": "code",
   "execution_count": null,
   "metadata": {
    "ExecuteTime": {
     "end_time": "2021-01-19T14:45:01.251533Z",
     "start_time": "2021-01-19T14:45:01.225340Z"
    }
   },
   "outputs": [],
   "source": [
    "??datasets.load_iris"
   ]
  },
  {
   "cell_type": "markdown",
   "metadata": {},
   "source": [
    "**How to learn more about the dataset?**"
   ]
  },
  {
   "cell_type": "markdown",
   "metadata": {
    "tags": [
     "output_scroll"
    ]
   },
   "source": [
    "The property `DESCR` (description) is a string that contains some background information of the dataset:"
   ]
  },
  {
   "cell_type": "code",
   "execution_count": null,
   "metadata": {
    "ExecuteTime": {
     "end_time": "2021-01-19T14:45:01.255461Z",
     "start_time": "2021-01-19T14:45:01.253067Z"
    },
    "colab": {
     "base_uri": "https://localhost:8080/",
     "height": 1000
    },
    "colab_type": "code",
    "id": "22xkaKQPwAKv",
    "outputId": "ac56ee89-3c2e-438c-a408-aefc3ba99266",
    "slideshow": {
     "slide_type": "-"
    },
    "tags": [
     "output_scroll"
    ]
   },
   "outputs": [],
   "source": [
    "print(iris.DESCR)"
   ]
  },
  {
   "cell_type": "markdown",
   "metadata": {},
   "source": [
    "All the properties of an object can be listed using the built-in function `dir` (directory):"
   ]
  },
  {
   "cell_type": "code",
   "execution_count": null,
   "metadata": {
    "ExecuteTime": {
     "end_time": "2021-01-19T14:45:01.267147Z",
     "start_time": "2021-01-19T14:45:01.256629Z"
    }
   },
   "outputs": [],
   "source": [
    "dir(iris)"
   ]
  },
  {
   "cell_type": "markdown",
   "metadata": {},
   "source": [
    "**How to show the data?**"
   ]
  },
  {
   "cell_type": "markdown",
   "metadata": {},
   "source": [
    "The properties `data` and `target` contains the data values."
   ]
  },
  {
   "cell_type": "code",
   "execution_count": null,
   "metadata": {
    "ExecuteTime": {
     "end_time": "2021-01-19T14:45:01.279149Z",
     "start_time": "2021-01-19T14:45:01.271930Z"
    }
   },
   "outputs": [],
   "source": [
    "type(iris.data), type(iris.target)"
   ]
  },
  {
   "cell_type": "markdown",
   "metadata": {},
   "source": [
    "The data are stored as `numpy` array, which is a powerful data type optimized for performance. It provides useful properties and methods to describe and process the data:"
   ]
  },
  {
   "cell_type": "code",
   "execution_count": null,
   "metadata": {
    "ExecuteTime": {
     "end_time": "2021-01-19T14:45:01.303365Z",
     "start_time": "2021-01-19T14:45:01.281158Z"
    }
   },
   "outputs": [],
   "source": [
    "iris.data.shape, iris.data.ndim, iris.data.dtype"
   ]
  },
  {
   "cell_type": "markdown",
   "metadata": {},
   "source": [
    "`iris.data` is a 150-by-4 2-dimensional array of 64-bit floating-point numbers.\n",
    "- 150 corresponds to the number of instances, while\n",
    "- 4 corresponds to the number of input attributes."
   ]
  },
  {
   "cell_type": "markdown",
   "metadata": {},
   "source": [
    "To show the input feature names:"
   ]
  },
  {
   "cell_type": "code",
   "execution_count": null,
   "metadata": {
    "ExecuteTime": {
     "end_time": "2021-01-19T14:45:01.313597Z",
     "start_time": "2021-01-19T14:45:01.304706Z"
    }
   },
   "outputs": [],
   "source": [
    "iris.feature_names"
   ]
  },
  {
   "cell_type": "markdown",
   "metadata": {},
   "source": [
    "To show the means and standard deviations of the input features:"
   ]
  },
  {
   "cell_type": "code",
   "execution_count": null,
   "metadata": {
    "ExecuteTime": {
     "end_time": "2021-01-19T14:45:01.326349Z",
     "start_time": "2021-01-19T14:45:01.314947Z"
    }
   },
   "outputs": [],
   "source": [
    "iris.data.mean(axis=0), iris.data.std(axis=0)"
   ]
  },
  {
   "cell_type": "markdown",
   "metadata": {},
   "source": [
    "All the public properties/methods of `numpy` array are printed below:"
   ]
  },
  {
   "cell_type": "code",
   "execution_count": null,
   "metadata": {
    "ExecuteTime": {
     "end_time": "2021-01-19T14:45:01.357221Z",
     "start_time": "2021-01-19T14:45:01.328230Z"
    }
   },
   "outputs": [],
   "source": [
    "import numpy as np\n",
    "print(*(attr for attr in dir(np.ndarray)\n",
    "        if attr[0] != '_'))  # private attributes begin with underscore"
   ]
  },
  {
   "cell_type": "markdown",
   "metadata": {},
   "source": [
    "The above imports `numpy` and rename it as `np` for convenience."
   ]
  },
  {
   "cell_type": "markdown",
   "metadata": {},
   "source": [
    "**What is the target feature?**"
   ]
  },
  {
   "cell_type": "markdown",
   "metadata": {},
   "source": [
    "The target variable of the iris dataset is the flower type, whose names are stored by the following property:"
   ]
  },
  {
   "cell_type": "code",
   "execution_count": null,
   "metadata": {
    "ExecuteTime": {
     "end_time": "2021-01-19T14:45:01.360923Z",
     "start_time": "2021-01-19T14:45:01.358350Z"
    }
   },
   "outputs": [],
   "source": [
    "iris.target_names"
   ]
  },
  {
   "cell_type": "markdown",
   "metadata": {},
   "source": [
    "`iris.target` is an array of integer indices from `{0, 1, 2}` for the three classes."
   ]
  },
  {
   "cell_type": "code",
   "execution_count": null,
   "metadata": {
    "ExecuteTime": {
     "end_time": "2021-01-19T14:45:01.385120Z",
     "start_time": "2021-01-19T14:45:01.362158Z"
    }
   },
   "outputs": [],
   "source": [
    "iris.target"
   ]
  },
  {
   "cell_type": "markdown",
   "metadata": {},
   "source": [
    "**Exercise** Fill the following cell with a tuple of the following properties for the target (instead of input features) of the iris dataset:\n",
    "- shape, \n",
    "- number of dimensions, and \n",
    "- the data types of the values.\n",
    "\n",
    "Your solution should look like:\n",
    "```Python\n",
    "iris.___.___, iris.___.___, iris.___.___\n",
    "```"
   ]
  },
  {
   "cell_type": "code",
   "execution_count": null,
   "metadata": {
    "ExecuteTime": {
     "end_time": "2021-01-19T14:45:01.397140Z",
     "start_time": "2021-01-19T14:45:01.387070Z"
    },
    "deletable": false,
    "nbgrader": {
     "cell_type": "code",
     "checksum": "27113b7e8d52b096c1a5dd2cd8ce3548",
     "grade": false,
     "grade_id": "target-info",
     "locked": false,
     "schema_version": 3,
     "solution": true,
     "task": false
    }
   },
   "outputs": [],
   "source": [
    "# YOUR CODE HERE\n",
    "raise NotImplementedError()"
   ]
  },
  {
   "cell_type": "code",
   "execution_count": null,
   "metadata": {
    "ExecuteTime": {
     "end_time": "2021-01-19T14:45:01.406621Z",
     "start_time": "2021-01-19T14:45:01.398504Z"
    },
    "deletable": false,
    "editable": false,
    "nbgrader": {
     "cell_type": "code",
     "checksum": "d5604d500b2ce87f576e815dca84b307",
     "grade": true,
     "grade_id": "test-target-info",
     "locked": true,
     "points": 1,
     "schema_version": 3,
     "solution": false,
     "task": false
    }
   },
   "outputs": [],
   "source": [
    "# tests\n",
    "shape, ndim, dtype = Out[len(In)-2] # retrieve the last output as the answer, \n",
    "                     # so execute this only after executing your solution cell\n",
    "assert isinstance(shape, tuple) and isinstance(ndim, int) and isinstance(dtype, np.dtype)"
   ]
  },
  {
   "cell_type": "markdown",
   "metadata": {},
   "source": [
    "**Exercise** Fill in the following cell with a tuple of\n",
    "- the list of minimum values of the input features, and\n",
    "- the list of maximum values of the input features.\n",
    "\n",
    "You answer should look like:\n",
    "```Python\n",
    "iris.___.___(axis=0), iris.___.___(axis=0)\n",
    "```"
   ]
  },
  {
   "cell_type": "code",
   "execution_count": null,
   "metadata": {
    "ExecuteTime": {
     "end_time": "2021-01-19T14:45:01.418847Z",
     "start_time": "2021-01-19T14:45:01.408034Z"
    },
    "deletable": false,
    "nbgrader": {
     "cell_type": "code",
     "checksum": "671240a267c70b915a9d43effb561056",
     "grade": false,
     "grade_id": "feature-min-max",
     "locked": false,
     "schema_version": 3,
     "solution": true,
     "task": false
    }
   },
   "outputs": [],
   "source": [
    "# YOUR CODE HERE\n",
    "raise NotImplementedError()"
   ]
  },
  {
   "cell_type": "code",
   "execution_count": null,
   "metadata": {
    "ExecuteTime": {
     "end_time": "2021-01-19T14:45:01.427122Z",
     "start_time": "2021-01-19T14:45:01.421133Z"
    },
    "deletable": false,
    "editable": false,
    "nbgrader": {
     "cell_type": "code",
     "checksum": "b034055041948b507ef1e0ca6137afc9",
     "grade": true,
     "grade_id": "test-feature-min-max",
     "locked": true,
     "points": 1,
     "schema_version": 3,
     "solution": false,
     "task": false
    }
   },
   "outputs": [],
   "source": [
    "# tests\n",
    "feature_min, feature_max = Out[len(In) - 2]\n",
    "assert feature_min.shape == (4, ) == feature_max.shape"
   ]
  },
  {
   "cell_type": "markdown",
   "metadata": {},
   "source": [
    "### Create pandas DataFrame"
   ]
  },
  {
   "cell_type": "markdown",
   "metadata": {},
   "source": [
    "The [package `pandas`](https://pandas.pydata.org/docs/user_guide/index.html) provides additional tools to display and process a dataset. \n",
    "First, we translate the `Bunch` object into a `pandas` [`DataFrame` object](https://pandas.pydata.org/docs/reference/api/pandas.DataFrame.html?highlight=dataframe#pandas.DataFrame)."
   ]
  },
  {
   "cell_type": "code",
   "execution_count": null,
   "metadata": {
    "ExecuteTime": {
     "end_time": "2021-01-19T14:45:01.623023Z",
     "start_time": "2021-01-19T14:45:01.428534Z"
    },
    "colab": {
     "base_uri": "https://localhost:8080/",
     "height": 418
    },
    "colab_type": "code",
    "id": "ZE5pla5bszpB",
    "outputId": "c37a554b-b30f-4329-f89d-b614815b4675",
    "slideshow": {
     "slide_type": "-"
    }
   },
   "outputs": [],
   "source": [
    "import pandas as pd\n",
    "\n",
    "# write the input features first\n",
    "iris_df = pd.DataFrame(data=iris.data, columns=iris.feature_names)\n",
    "\n",
    "# append the target values to the last column\n",
    "iris_df['target'] = iris.target\n",
    "\n",
    "iris_df  # to display the DataFrame"
   ]
  },
  {
   "cell_type": "markdown",
   "metadata": {},
   "source": [
    "In jupyter notebook, a `DataFrame` object is conveniently displayed as an HTML table, so there is no need `print` it. We can control how much information to show by setting the [display options](https://pandas.pydata.org/pandas-docs/stable/user_guide/options.html)."
   ]
  },
  {
   "cell_type": "markdown",
   "metadata": {},
   "source": [
    "We can also display the statistics of different numerical attributes using the method `describe` and `boxplot`."
   ]
  },
  {
   "cell_type": "code",
   "execution_count": null,
   "metadata": {
    "ExecuteTime": {
     "end_time": "2021-01-19T14:45:01.644501Z",
     "start_time": "2021-01-19T14:45:01.624563Z"
    },
    "slideshow": {
     "slide_type": "-"
    }
   },
   "outputs": [],
   "source": [
    "iris_df.describe()"
   ]
  },
  {
   "cell_type": "code",
   "execution_count": null,
   "metadata": {
    "ExecuteTime": {
     "end_time": "2021-01-19T14:45:01.854858Z",
     "start_time": "2021-01-19T14:45:01.645922Z"
    },
    "slideshow": {
     "slide_type": "-"
    }
   },
   "outputs": [],
   "source": [
    "%matplotlib inline\n",
    "iris_df.boxplot(figsize=(10,5)) # figsize specifies figure (width,height) in inches"
   ]
  },
  {
   "cell_type": "markdown",
   "metadata": {},
   "source": [
    "The line magic [`%matplotlib`](https://ipython.readthedocs.io/en/stable/interactive/magics.html#magic-matplotlib) specifies where the plot should appear."
   ]
  },
  {
   "cell_type": "markdown",
   "metadata": {},
   "source": [
    "**How to handle nominal class attribute?**"
   ]
  },
  {
   "cell_type": "markdown",
   "metadata": {},
   "source": [
    "Note that the boxplot also covers the target attribute, but it should not. (Why?) Let's take a look at the current datatypes of the different attributes."
   ]
  },
  {
   "cell_type": "code",
   "execution_count": null,
   "metadata": {
    "ExecuteTime": {
     "end_time": "2021-01-19T14:45:01.861248Z",
     "start_time": "2021-01-19T14:45:01.856605Z"
    },
    "slideshow": {
     "slide_type": "fragment"
    }
   },
   "outputs": [],
   "source": [
    "print(iris_df.dtypes)"
   ]
  },
  {
   "cell_type": "markdown",
   "metadata": {},
   "source": [
    "The target is regarded as a numeric attribute with type integer `int64`. Instead, the target should be categorical with only allow three possible values, one for each iris species."
   ]
  },
  {
   "cell_type": "markdown",
   "metadata": {},
   "source": [
    "To fix this, we can use the `astype` method to convert the data type automatically. (More details [here](https://pandas.pydata.org/pandas-docs/stable/user_guide/categorical.html#series-creation.section).)"
   ]
  },
  {
   "cell_type": "code",
   "execution_count": null,
   "metadata": {
    "ExecuteTime": {
     "end_time": "2021-01-19T14:45:02.103186Z",
     "start_time": "2021-01-19T14:45:01.865180Z"
    },
    "slideshow": {
     "slide_type": "fragment"
    }
   },
   "outputs": [],
   "source": [
    "iris_df.target = iris_df.target.astype('category')\n",
    "iris_df.boxplot(figsize=(10,5)) # target is not plotted as expected\n",
    "iris_df.target.dtype"
   ]
  },
  {
   "cell_type": "markdown",
   "metadata": {},
   "source": [
    "We can also rename the target categories `{0, 1, 2}` to the more meaningful names of the iris species in `iris.target_names`.  \n",
    "(See the [documentation](https://pandas.pydata.org/pandas-docs/stable/user_guide/categorical.html#renaming-categories).)"
   ]
  },
  {
   "cell_type": "code",
   "execution_count": null,
   "metadata": {
    "ExecuteTime": {
     "end_time": "2021-01-19T14:45:02.118543Z",
     "start_time": "2021-01-19T14:45:02.105056Z"
    },
    "slideshow": {
     "slide_type": "-"
    }
   },
   "outputs": [],
   "source": [
    "iris_df.target.cat.categories = [iris.target_names[i] for i in range(3)]\n",
    "iris_df # check that the target values are now setosa, versicolor, or virginica."
   ]
  },
  {
   "cell_type": "markdown",
   "metadata": {},
   "source": [
    "**Exercise** For nominal attributes, a more meaningful statistics than the mean is the counts of different possible values. To count the number of instances for each flower class, assign `target_counts` to the output of the `value_counts` method of an appropriate column of `iris_df`.\n",
    "\n",
    "Your solution should look like:\n",
    "```Python\n",
    "target_counts = iris_df.target.___()\n",
    "```"
   ]
  },
  {
   "cell_type": "code",
   "execution_count": null,
   "metadata": {
    "ExecuteTime": {
     "end_time": "2021-01-19T14:45:02.133355Z",
     "start_time": "2021-01-19T14:45:02.119960Z"
    },
    "deletable": false,
    "nbgrader": {
     "cell_type": "code",
     "checksum": "a0b5a6248ce6f99287d99ff36921b83e",
     "grade": false,
     "grade_id": "target_counts",
     "locked": false,
     "schema_version": 3,
     "solution": true,
     "task": false
    }
   },
   "outputs": [],
   "source": [
    "# YOUR CODE HERE\n",
    "raise NotImplementedError()\n",
    "target_counts"
   ]
  },
  {
   "cell_type": "code",
   "execution_count": null,
   "metadata": {
    "ExecuteTime": {
     "end_time": "2021-01-19T14:45:02.147732Z",
     "start_time": "2021-01-19T14:45:02.135274Z"
    },
    "deletable": false,
    "editable": false,
    "nbgrader": {
     "cell_type": "code",
     "checksum": "5fd814e5447da5c0fa6a0d00f58b88d7",
     "grade": true,
     "grade_id": "test-target_counts",
     "locked": true,
     "points": 1,
     "schema_version": 3,
     "solution": false,
     "task": false
    }
   },
   "outputs": [],
   "source": [
    "# tests\n",
    "assert target_counts.shape == (3, )"
   ]
  },
  {
   "cell_type": "markdown",
   "metadata": {},
   "source": [
    "**How to select specific rows and columns?**"
   ]
  },
  {
   "cell_type": "markdown",
   "metadata": {},
   "source": [
    "The following uses [`ipywidget`](https://ipywidgets.readthedocs.io/en/latest/) to show the various ways of selecting/slicing the rows of a `DataFrame`."
   ]
  },
  {
   "cell_type": "code",
   "execution_count": null,
   "metadata": {
    "ExecuteTime": {
     "end_time": "2021-01-19T14:45:02.203430Z",
     "start_time": "2021-01-19T14:45:02.149480Z"
    },
    "slideshow": {
     "slide_type": "-"
    }
   },
   "outputs": [],
   "source": [
    "from ipywidgets import interact\n",
    "\n",
    "\n",
    "@interact(command=[\n",
    "    'iris_df.head()', 'iris_df[0:4]', 'iris_df.iloc[0:4]', 'iris_df.loc[0:4]',\n",
    "    'iris_df.loc[iris_df.index.isin(range(0,4))]',\n",
    "    'iris_df.loc[lambda df: df.target==0]', 'iris_df.tail()', 'iris_df[-1:]'\n",
    "])\n",
    "def select_rows(command):\n",
    "    output = eval(command)\n",
    "    display.display(output)"
   ]
  },
  {
   "cell_type": "markdown",
   "metadata": {},
   "source": [
    "The following shows the various ways of slicing different columns."
   ]
  },
  {
   "cell_type": "code",
   "execution_count": null,
   "metadata": {
    "ExecuteTime": {
     "end_time": "2021-01-19T14:45:02.227423Z",
     "start_time": "2021-01-19T14:45:02.204996Z"
    },
    "slideshow": {
     "slide_type": "-"
    }
   },
   "outputs": [],
   "source": [
    "@interact(command=[\n",
    "    'iris_df.target', 'iris_df[\"target\"]', 'iris_df[[\"target\"]]',\n",
    "    'iris_df[iris_df.columns[:-1]]',\n",
    "    'iris_df.loc[:,iris_df.columns[0]:iris_df.columns[-1]]',\n",
    "    'iris_df.loc[:,~iris_df.columns.isin([\"target\"])]', 'iris_df.iloc[:,:-1]'\n",
    "])\n",
    "def select_columns(command):\n",
    "    output = eval(command)\n",
    "    display.display(output)"
   ]
  },
  {
   "cell_type": "markdown",
   "metadata": {},
   "source": [
    "For instance, to compute the mean values of the input features for iris setosa:"
   ]
  },
  {
   "cell_type": "code",
   "execution_count": null,
   "metadata": {
    "ExecuteTime": {
     "end_time": "2021-01-19T14:45:02.256761Z",
     "start_time": "2021-01-19T14:45:02.228882Z"
    }
   },
   "outputs": [],
   "source": [
    "iris_df[lambda df: df.target == 'setosa'].mean()"
   ]
  },
  {
   "cell_type": "markdown",
   "metadata": {},
   "source": [
    "We can also use the method `groupby` to obtain the mean values by flower types:"
   ]
  },
  {
   "cell_type": "code",
   "execution_count": null,
   "metadata": {
    "ExecuteTime": {
     "end_time": "2021-01-19T14:45:02.267842Z",
     "start_time": "2021-01-19T14:45:02.258005Z"
    }
   },
   "outputs": [],
   "source": [
    "iris_df.groupby(['target']).mean()"
   ]
  },
  {
   "cell_type": "markdown",
   "metadata": {},
   "source": [
    "**Exercise** Create a new `DataFrame` `iris2d_df`. Note that you may also use the method `drop`."
   ]
  },
  {
   "cell_type": "code",
   "execution_count": null,
   "metadata": {
    "ExecuteTime": {
     "end_time": "2021-01-19T14:45:02.287750Z",
     "start_time": "2021-01-19T14:45:02.269216Z"
    },
    "tags": [
     "remove-cell"
    ]
   },
   "outputs": [],
   "source": [
    "# to learn how to use drop\n",
    "?iris_df.drop"
   ]
  },
  {
   "cell_type": "code",
   "execution_count": null,
   "metadata": {
    "ExecuteTime": {
     "end_time": "2021-01-19T14:45:02.320789Z",
     "start_time": "2021-01-19T14:45:02.289206Z"
    },
    "deletable": false,
    "nbgrader": {
     "cell_type": "code",
     "checksum": "5568aa06a594a92d409c52daafe9c382",
     "grade": false,
     "grade_id": "iris2d",
     "locked": false,
     "schema_version": 3,
     "solution": true,
     "task": false
    }
   },
   "outputs": [],
   "source": [
    "# YOUR CODE HERE\n",
    "raise NotImplementedError()\n",
    "iris2d_df"
   ]
  },
  {
   "cell_type": "code",
   "execution_count": null,
   "metadata": {
    "ExecuteTime": {
     "end_time": "2021-01-19T14:45:02.331572Z",
     "start_time": "2021-01-19T14:45:02.322252Z"
    },
    "deletable": false,
    "editable": false,
    "nbgrader": {
     "cell_type": "code",
     "checksum": "d5c2a848d25e7e74b33632596006a2d4",
     "grade": true,
     "grade_id": "test-iris2d",
     "locked": true,
     "points": 1,
     "schema_version": 3,
     "solution": false,
     "task": false
    }
   },
   "outputs": [],
   "source": [
    "# tests\n",
    "assert set(\n",
    "    iris2d_df.columns) == {'petal length (cm)', 'petal width (cm)', 'target'}"
   ]
  },
  {
   "cell_type": "markdown",
   "metadata": {},
   "source": [
    "### Alternatives methods of loading a dataset"
   ]
  },
  {
   "cell_type": "markdown",
   "metadata": {},
   "source": [
    "The following code loads the iris dataset from an [ARFF file](https://waikato.github.io/weka-wiki/formats_and_processing/arff/) instead."
   ]
  },
  {
   "cell_type": "code",
   "execution_count": null,
   "metadata": {
    "ExecuteTime": {
     "end_time": "2021-01-19T14:45:02.520505Z",
     "start_time": "2021-01-19T14:45:02.333103Z"
    }
   },
   "outputs": [],
   "source": [
    "from scipy.io import arff\n",
    "import urllib.request\n",
    "import io\n",
    "\n",
    "ftpstream = urllib.request.urlopen(\n",
    "    'https://raw.githubusercontent.com/Waikato/weka-3.8/master/wekadocs/data/iris.arff'\n",
    ")\n",
    "iris_arff = arff.loadarff(io.StringIO(ftpstream.read().decode('utf-8')))\n",
    "iris_df2 = pd.DataFrame(iris_arff[0])\n",
    "iris_df2['class'] = iris_df2['class'].astype('category')\n",
    "iris_df2"
   ]
  },
  {
   "cell_type": "code",
   "execution_count": null,
   "metadata": {
    "ExecuteTime": {
     "end_time": "2021-01-19T14:45:03.474196Z",
     "start_time": "2021-01-19T14:45:02.522181Z"
    },
    "slideshow": {
     "slide_type": "-"
    }
   },
   "outputs": [],
   "source": [
    "from scipy.io import arff\n",
    "import urllib.request\n",
    "import io\n",
    "\n",
    "ftpstream = urllib.request.urlopen(\n",
    "    'https://www.openml.org/data/download/61/dataset_61_iris.arff')\n",
    "iris_arff = arff.loadarff(io.StringIO(ftpstream.read().decode('utf-8')))\n",
    "iris_df2 = pd.DataFrame(iris_arff[0])\n",
    "iris_df2['class'] = iris_df2['class'].astype('category')\n",
    "iris_df2"
   ]
  },
  {
   "cell_type": "markdown",
   "metadata": {},
   "source": [
    "Pandas also provides a method to read the iris dataset directly from a CSV file locally or from the internet such as the [UCI respository](https://archive.ics.uci.edu/ml/datasets/iris)."
   ]
  },
  {
   "cell_type": "code",
   "execution_count": null,
   "metadata": {
    "ExecuteTime": {
     "end_time": "2021-01-19T14:45:04.234365Z",
     "start_time": "2021-01-19T14:45:03.476187Z"
    },
    "slideshow": {
     "slide_type": "-"
    }
   },
   "outputs": [],
   "source": [
    "iris_df3 = pd.read_csv(\n",
    "    'https://archive.ics.uci.edu/ml/machine-learning-databases/iris/iris.data',\n",
    "    sep=',',\n",
    "    dtype={'target': 'category'},\n",
    "    header=None,\n",
    "    names=iris.feature_names + ['target'],\n",
    ")\n",
    "iris_df3"
   ]
  },
  {
   "cell_type": "markdown",
   "metadata": {},
   "source": [
    "The additional arguments `dtype`, `header`, and `names`, which allow us want specify the attribute datatypes and names. Unlike the ARFF format, CSV file may not contain such information."
   ]
  },
  {
   "cell_type": "markdown",
   "metadata": {},
   "source": [
    "## Training and Testing"
   ]
  },
  {
   "cell_type": "markdown",
   "metadata": {},
   "source": [
    "To give an unbiased performance estimate of a learning algorithm of interest, the fundamental principle is *to use separate datasets for training and testing*."
   ]
  },
  {
   "cell_type": "markdown",
   "metadata": {},
   "source": [
    "If there is only one dataset, we should split it into *training sets* and *test sets* by *random sampling* to avoid bias in the performance estimate. In the following subsections, we will illustrate some methods of splitting the datasets for training and testing."
   ]
  },
  {
   "cell_type": "markdown",
   "metadata": {},
   "source": [
    "### Stratified holdout method"
   ]
  },
  {
   "cell_type": "markdown",
   "metadata": {},
   "source": [
    "We randomly samples data for training or testing without replacement. It is implemented by the `train_test_split` function from the `sklearn.model_selection` package."
   ]
  },
  {
   "cell_type": "code",
   "execution_count": null,
   "metadata": {
    "ExecuteTime": {
     "end_time": "2021-01-19T14:45:04.257557Z",
     "start_time": "2021-01-19T14:45:04.246741Z"
    },
    "colab": {},
    "colab_type": "code",
    "id": "t3tbDaTINzM4",
    "slideshow": {
     "slide_type": "fragment"
    }
   },
   "outputs": [],
   "source": [
    "from sklearn.model_selection import train_test_split\n",
    "\n",
    "X_train, X_test, Y_train, Y_test = train_test_split(\n",
    "    iris_df[iris.feature_names],\n",
    "    iris_df.target,\n",
    "    test_size=0.2,  # fraction for test\n",
    "    random_state=1)  # random seed\n",
    "\n",
    "X_train.shape, X_test.shape, Y_train.shape, Y_test.shape"
   ]
  },
  {
   "cell_type": "markdown",
   "metadata": {},
   "source": [
    "We also separated the input features and target for the training and test sets. The fraction of holdout test data is"
   ]
  },
  {
   "cell_type": "code",
   "execution_count": null,
   "metadata": {
    "ExecuteTime": {
     "end_time": "2021-01-19T14:45:04.283183Z",
     "start_time": "2021-01-19T14:45:04.258879Z"
    }
   },
   "outputs": [],
   "source": [
    "len(Y_test) / (len(Y_test) + len(Y_train))"
   ]
  },
  {
   "cell_type": "markdown",
   "metadata": {},
   "source": [
    "The class proportion of the iris dataset is:"
   ]
  },
  {
   "cell_type": "code",
   "execution_count": null,
   "metadata": {
    "ExecuteTime": {
     "end_time": "2021-01-19T14:45:04.409540Z",
     "start_time": "2021-01-19T14:45:04.285831Z"
    }
   },
   "outputs": [],
   "source": [
    "iris_df.target.value_counts().plot(kind='bar', ylabel='counts')"
   ]
  },
  {
   "cell_type": "markdown",
   "metadata": {},
   "source": [
    "We can check that the class proportions for the test and training sets are maintained in expectation:"
   ]
  },
  {
   "cell_type": "code",
   "execution_count": null,
   "metadata": {
    "ExecuteTime": {
     "end_time": "2021-01-19T14:45:04.534161Z",
     "start_time": "2021-01-19T14:45:04.411016Z"
    },
    "slideshow": {
     "slide_type": "-"
    }
   },
   "outputs": [],
   "source": [
    "@interact(data=['Y_train', 'Y_test'], seed=(0, 10))\n",
    "def class_proportions(data, seed=0):\n",
    "    Y_train, Y_test = train_test_split(iris_df.target,\n",
    "                                       test_size=0.2,\n",
    "                                       random_state=seed)\n",
    "    eval(data).value_counts().sort_index().plot(kind='bar', ylabel='counts')"
   ]
  },
  {
   "cell_type": "markdown",
   "metadata": {},
   "source": [
    "We first apply a learning algorithm to train a classifier using only the training set. Let's say we want to evaluate the decision tree induction algorithm in `sklearn`."
   ]
  },
  {
   "cell_type": "code",
   "execution_count": null,
   "metadata": {
    "ExecuteTime": {
     "end_time": "2021-01-19T14:45:04.542262Z",
     "start_time": "2021-01-19T14:45:04.535563Z"
    },
    "colab": {},
    "colab_type": "code",
    "id": "EllmT0GtOaWi",
    "slideshow": {
     "slide_type": "fragment"
    }
   },
   "outputs": [],
   "source": [
    "from sklearn import tree\n",
    "\n",
    "clf = tree.DecisionTreeClassifier(random_state=0) # the training is also randomized\n",
    "clf.fit(X_train, Y_train) # fit the model to the training set "
   ]
  },
  {
   "cell_type": "markdown",
   "metadata": {},
   "source": [
    "We can use the `predict` method of the classifier to predict the flower type from input features."
   ]
  },
  {
   "cell_type": "code",
   "execution_count": null,
   "metadata": {
    "ExecuteTime": {
     "end_time": "2021-01-19T14:45:04.553334Z",
     "start_time": "2021-01-19T14:45:04.543582Z"
    }
   },
   "outputs": [],
   "source": [
    "Y_pred = clf.predict(X_test)"
   ]
  },
  {
   "cell_type": "markdown",
   "metadata": {},
   "source": [
    "The following code returns the accuracy of the classifier, namely, the fraction of correct predictions on the test set."
   ]
  },
  {
   "cell_type": "code",
   "execution_count": null,
   "metadata": {
    "ExecuteTime": {
     "end_time": "2021-01-19T14:45:04.572005Z",
     "start_time": "2021-01-19T14:45:04.554591Z"
    }
   },
   "outputs": [],
   "source": [
    "accuracy_holdout = (Y_pred == Y_test).mean()\n",
    "accuracy_holdout"
   ]
  },
  {
   "cell_type": "markdown",
   "metadata": {},
   "source": [
    "The `score` method performs the same computation. The following uses f-string to format the accuracy to 3 decimal places."
   ]
  },
  {
   "cell_type": "code",
   "execution_count": null,
   "metadata": {
    "ExecuteTime": {
     "end_time": "2021-01-19T14:45:04.583819Z",
     "start_time": "2021-01-19T14:45:04.574312Z"
    }
   },
   "outputs": [],
   "source": [
    "print(f'Accuracy: {clf.score(X_test, Y_test):0.3f}')"
   ]
  },
  {
   "cell_type": "markdown",
   "metadata": {},
   "source": [
    "To see input features of misclassified test instances:"
   ]
  },
  {
   "cell_type": "code",
   "execution_count": null,
   "metadata": {
    "ExecuteTime": {
     "end_time": "2021-01-19T14:45:04.600134Z",
     "start_time": "2021-01-19T14:45:04.585166Z"
    }
   },
   "outputs": [],
   "source": [
    "X_test[Y_pred != Y_test]"
   ]
  },
  {
   "cell_type": "markdown",
   "metadata": {},
   "source": [
    "**Exercise** Assign `accuracy_holdout_training_set` to the accuracy of the predictions on the training set.  \n",
    "Note that the accuracy is overly optimistic."
   ]
  },
  {
   "cell_type": "code",
   "execution_count": null,
   "metadata": {
    "ExecuteTime": {
     "end_time": "2021-01-19T14:45:04.612905Z",
     "start_time": "2021-01-19T14:45:04.602100Z"
    },
    "deletable": false,
    "nbgrader": {
     "cell_type": "code",
     "checksum": "0a2673867ecbae3a3bf05f78983470c8",
     "grade": false,
     "grade_id": "accuracy_holdout_training_set",
     "locked": false,
     "schema_version": 3,
     "solution": true,
     "task": false
    }
   },
   "outputs": [],
   "source": [
    "# YOUR CODE HERE\n",
    "raise NotImplementedError()\n",
    "accuracy_holdout_training_set"
   ]
  },
  {
   "cell_type": "code",
   "execution_count": null,
   "metadata": {
    "ExecuteTime": {
     "end_time": "2021-01-19T14:45:04.623723Z",
     "start_time": "2021-01-19T14:45:04.614182Z"
    },
    "deletable": false,
    "editable": false,
    "nbgrader": {
     "cell_type": "code",
     "checksum": "a5367ecea97657d0c7f04d774adfaa2f",
     "grade": true,
     "grade_id": "test-accuracy_holdout_training_set",
     "locked": true,
     "points": 1,
     "schema_version": 3,
     "solution": false,
     "task": false
    }
   },
   "outputs": [],
   "source": [
    "# hidden tests"
   ]
  },
  {
   "cell_type": "markdown",
   "metadata": {},
   "source": [
    "**Exercise** Complete the following function which applies random subsampling to reduce the variance of the accuracy estimate. In particular, the function `subsampling_score` should return the average of `N` accuracies of $20\\%$ stratified holdout with random seed set from `0` up to `N-1`, where `N` is the integer input argument of the function."
   ]
  },
  {
   "cell_type": "code",
   "execution_count": null,
   "metadata": {
    "ExecuteTime": {
     "end_time": "2021-01-19T14:45:04.638014Z",
     "start_time": "2021-01-19T14:45:04.625167Z"
    },
    "deletable": false,
    "nbgrader": {
     "cell_type": "code",
     "checksum": "47f6cb35aee7de4faff6bb31bdc5d0f4",
     "grade": false,
     "grade_id": "subsampling",
     "locked": false,
     "schema_version": 3,
     "solution": true,
     "task": false
    },
    "slideshow": {
     "slide_type": "-"
    }
   },
   "outputs": [],
   "source": [
    "import numpy as np\n",
    "from functools import lru_cache\n",
    "\n",
    "@lru_cache(None) # cache the return value to avoid repeated computation\n",
    "def holdout_score(seed):\n",
    "    clf = tree.DecisionTreeClassifier(random_state=seed)\n",
    "    X_train, X_test, Y_train, Y_test = train_test_split(iris_df[iris.feature_names], \n",
    "                                                    iris_df.target, \n",
    "                                                    test_size=0.2,\n",
    "                                                    random_state=seed)\n",
    "    # YOUR CODE HERE\n",
    "    raise NotImplementedError()\n",
    "\n",
    "@lru_cache(None)\n",
    "def subsampling_score(N):\n",
    "    return sum(holdout_score(i) for i in range(N))/N"
   ]
  },
  {
   "cell_type": "code",
   "execution_count": null,
   "metadata": {
    "ExecuteTime": {
     "end_time": "2021-01-19T14:45:04.882926Z",
     "start_time": "2021-01-19T14:45:04.640433Z"
    },
    "deletable": false,
    "editable": false,
    "nbgrader": {
     "cell_type": "code",
     "checksum": "3c20b96e07a28aaa2b9889de7c89ade0",
     "grade": true,
     "grade_id": "test-subsampling",
     "locked": true,
     "points": 1,
     "schema_version": 3,
     "solution": false,
     "task": false
    }
   },
   "outputs": [],
   "source": [
    "# tests\n",
    "assert np.isclose(subsampling_score(50), 0.9466666666666663)"
   ]
  },
  {
   "cell_type": "markdown",
   "metadata": {},
   "source": [
    "The following code plots the mean accuracies for different `N`. The variance should be smaller as `N` increases."
   ]
  },
  {
   "cell_type": "code",
   "execution_count": null,
   "metadata": {
    "ExecuteTime": {
     "end_time": "2021-01-19T14:45:05.170050Z",
     "start_time": "2021-01-19T14:45:04.884191Z"
    }
   },
   "outputs": [],
   "source": [
    "%matplotlib inline\n",
    "import matplotlib.pyplot as plt\n",
    "plt.stem([subsampling_score(i) for i in range(1,50)])\n",
    "plt.xlabel(r'$N$')\n",
    "plt.ylabel(r'Mean accuracy')"
   ]
  },
  {
   "cell_type": "markdown",
   "metadata": {},
   "source": [
    "The documentation [here](https://ogrisel.github.io/scikit-learn.org/sklearn-tutorial/modules/generated/sklearn.cross_validation.Bootstrap.html) describes  another alternative called the boostrap method, which samples without replacement."
   ]
  },
  {
   "cell_type": "markdown",
   "metadata": {},
   "source": [
    "### Stratified cross-validation"
   ]
  },
  {
   "cell_type": "markdown",
   "metadata": {},
   "source": [
    "Another method of evaluating a classification algorithm is to randomly partition the data into $k$ *folds*, which are nearly equal-sized blocks of instances. The score is the average of the accuracies obtained by using each fold to test a classifier trained using the remaining folds."
   ]
  },
  {
   "cell_type": "markdown",
   "metadata": {},
   "source": [
    "<center><img src=\"https://upload.wikimedia.org/wikipedia/commons/4/4b/KfoldCV.gif\" style=\"width:500px\" alt=\"Cross validation\"></center>"
   ]
  },
  {
   "cell_type": "markdown",
   "metadata": {},
   "source": [
    "The module `sklearn.model_selection` provides two functions `cross_val_predict` and `cross_val_score` for this purpose."
   ]
  },
  {
   "cell_type": "code",
   "execution_count": null,
   "metadata": {
    "ExecuteTime": {
     "end_time": "2021-01-19T14:45:05.174175Z",
     "start_time": "2021-01-19T14:45:05.171547Z"
    }
   },
   "outputs": [],
   "source": [
    "from sklearn.model_selection import cross_val_predict, cross_val_score, StratifiedKFold\n",
    "cv = StratifiedKFold(n_splits=5, random_state=0, shuffle=True)"
   ]
  },
  {
   "cell_type": "markdown",
   "metadata": {},
   "source": [
    "For instance, the following returns the misclassified instances by 5-fold cross-validation."
   ]
  },
  {
   "cell_type": "code",
   "execution_count": null,
   "metadata": {
    "ExecuteTime": {
     "end_time": "2021-01-19T14:45:05.232461Z",
     "start_time": "2021-01-19T14:45:05.175420Z"
    },
    "colab": {},
    "colab_type": "code",
    "id": "lkopY_9pj12l",
    "slideshow": {
     "slide_type": "subslide"
    }
   },
   "outputs": [],
   "source": [
    "iris_df['prediction'] = pd.Categorical(cross_val_predict(clf, iris_df[iris.feature_names], iris_df.target, cv=cv))\n",
    "iris_df.loc[lambda df: df['target'] != df['prediction']]"
   ]
  },
  {
   "cell_type": "code",
   "execution_count": null,
   "metadata": {
    "ExecuteTime": {
     "end_time": "2021-01-19T14:45:05.277512Z",
     "start_time": "2021-01-19T14:45:05.233630Z"
    }
   },
   "outputs": [],
   "source": [
    "clf = tree.DecisionTreeClassifier(random_state=0)\n",
    "scores = cross_val_score(clf, iris_df[iris.feature_names], iris_df.target, cv=5)\n",
    "print('Accuracies: ',', '.join(f'{acc:.4f}' for acc in scores))\n",
    "print(f'Mean accuracy: {scores.mean():.4f}')"
   ]
  },
  {
   "cell_type": "markdown",
   "metadata": {},
   "source": [
    "**Exercise** Assign `accuracy_cv` to the accuracy obtained by the cross validation result above."
   ]
  },
  {
   "cell_type": "code",
   "execution_count": null,
   "metadata": {
    "ExecuteTime": {
     "end_time": "2021-01-19T14:45:05.326308Z",
     "start_time": "2021-01-19T14:45:05.278906Z"
    },
    "colab": {},
    "colab_type": "code",
    "deletable": false,
    "id": "ZE5pla5bszpB",
    "nbgrader": {
     "cell_type": "code",
     "checksum": "0c3a287b0e2e64eeac21a3c5a772d503",
     "grade": false,
     "grade_id": "cv_score",
     "locked": false,
     "schema_version": 3,
     "solution": true,
     "task": false
    },
    "slideshow": {
     "slide_type": "-"
    }
   },
   "outputs": [],
   "source": [
    "# YOUR CODE HERE\n",
    "raise NotImplementedError()\n",
    "accuracy_cv"
   ]
  },
  {
   "cell_type": "code",
   "execution_count": null,
   "metadata": {
    "ExecuteTime": {
     "end_time": "2021-01-19T14:45:05.330350Z",
     "start_time": "2021-01-19T14:45:05.327724Z"
    },
    "deletable": false,
    "editable": false,
    "nbgrader": {
     "cell_type": "code",
     "checksum": "67b269d410e96883590613fa9c2db59b",
     "grade": true,
     "grade_id": "test-cv_score",
     "locked": true,
     "points": 1,
     "schema_version": 3,
     "solution": false,
     "task": false
    },
    "slideshow": {
     "slide_type": "-"
    }
   },
   "outputs": [],
   "source": [
    "# hidden tests"
   ]
  }
 ],
 "metadata": {
  "kernelspec": {
   "display_name": "Python 3.7",
   "language": "python",
   "name": "python3"
  },
  "language_info": {
   "codemirror_mode": {
    "name": "ipython",
    "version": 3
   },
   "file_extension": ".py",
   "mimetype": "text/x-python",
   "name": "python",
   "nbconvert_exporter": "python",
   "pygments_lexer": "ipython3",
   "version": "3.7.9"
  },
  "rise": {
   "enable_chalkboard": true,
   "scroll": true,
   "theme": "beige"
  },
  "toc": {
   "base_numbering": 1,
   "nav_menu": {},
   "number_sections": true,
   "sideBar": true,
   "skip_h1_title": true,
   "title_cell": "Table of Contents",
   "title_sidebar": "Contents",
   "toc_cell": false,
   "toc_position": {},
   "toc_section_display": true,
   "toc_window_display": false
  }
 },
 "nbformat": 4,
 "nbformat_minor": 4
}
